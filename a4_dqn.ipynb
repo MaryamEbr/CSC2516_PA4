{
 "cells": [
  {
   "cell_type": "markdown",
   "metadata": {
    "id": "V3szwJAdaoQa"
   },
   "source": [
    "## Enable rendering OpenAI Gym environments from CoLab\n",
    "\n",
    "In this assignemnt, We will use [OpenAI Gym](https://gym.openai.com/) for rendering game envionment for our agent to play and learn. It is possible and important to visualize the game your agent is playing, even on Colab. This section imports the necessary package and functions needed to generate a video in Colab. The video processing steps credit to [here](https://colab.research.google.com/drive/1flu31ulJlgiRL1dnN2ir8wGh9p7Zij2t)."
   ]
  },
  {
   "cell_type": "code",
   "execution_count": 4,
   "metadata": {
    "colab": {
     "base_uri": "https://localhost:8080/"
    },
    "id": "M9fFfA-gb8oC",
    "outputId": "79bb68ef-cdce-4b29-80e5-3fec571e3035"
   },
   "outputs": [
    {
     "name": "stderr",
     "output_type": "stream",
     "text": [
      "/home/maryamebr/anaconda3/envs/new-tf-gpu/lib/python3.7/site-packages/ipykernel/ipkernel.py:283: DeprecationWarning: `should_run_async` will not call `transform_cell` automatically in the future. Please pass the result to `transformed_cell` argument and any exception that happen during thetransform in `preprocessing_exc_tuple` in IPython 7.17 and above.\n",
      "  and should_run_async(code)\n"
     ]
    },
    {
     "name": "stdout",
     "output_type": "stream",
     "text": [
      "Requirement already satisfied: setuptools in /home/maryamebr/anaconda3/envs/new-tf-gpu/lib/python3.7/site-packages (62.0.0)\r\n"
     ]
    }
   ],
   "source": [
    "# You will need to run this block twice to make it effective\n",
    "!apt-get update > /dev/null 2>&1\n",
    "!apt-get install cmake > /dev/null 2>&1\n",
    "!pip install --upgrade setuptools 2>&1\n",
    "!pip install ez_setup > /dev/null 2>&1\n",
    "!pip install gym[atari] > /dev/null 2>&1\n",
    "!pip install box2d-py > /dev/null 2>&1\n",
    "!pip install gym[Box_2D] > /dev/null 2>&1"
   ]
  },
  {
   "cell_type": "code",
   "execution_count": 5,
   "metadata": {
    "id": "NE1QQOVX27dp"
   },
   "outputs": [],
   "source": [
    "!pip install gym pyvirtualdisplay > /dev/null 2>&1\n",
    "!apt-get install -y xvfb python-opengl ffmpeg > /dev/null 2>&1"
   ]
  },
  {
   "cell_type": "markdown",
   "metadata": {
    "id": "QfTPg6uZckCm"
   },
   "source": [
    "Import openAI gym and define the functions used to show the video."
   ]
  },
  {
   "cell_type": "code",
   "execution_count": 1,
   "metadata": {
    "id": "JLl9cs6ncAf0"
   },
   "outputs": [
    {
     "name": "stderr",
     "output_type": "stream",
     "text": [
      "\n"
     ]
    }
   ],
   "source": [
    "import gym\n",
    "from gym.wrappers import Monitor\n",
    "import glob\n",
    "import io\n",
    "import base64\n",
    "from IPython.display import HTML\n",
    "from pyvirtualdisplay import Display\n",
    "from IPython import display as ipythondisplay\n",
    "\n",
    "display = Display(visible=0, size=(1400, 900))\n",
    "display.start()\n",
    "\n",
    "\"\"\"\n",
    "Utility functions to enable video recording of gym environment \n",
    "and displaying it.\n",
    "To enable video, just do \"env = wrap_env(env)\"\"\n",
    "\"\"\"\n",
    "\n",
    "def show_video():\n",
    "  mp4list = glob.glob('video/*.mp4')\n",
    "  if len(mp4list) > 0:\n",
    "    mp4 = mp4list[0]\n",
    "    video = io.open(mp4, 'r+b').read()\n",
    "    encoded = base64.b64encode(video)\n",
    "    ipythondisplay.display(HTML(data='''<video alt=\"test\" autoplay \n",
    "                loop controls style=\"height: 400px;\">\n",
    "                <source src=\"data:video/mp4;base64,{0}\" type=\"video/mp4\" />\n",
    "             </video>'''.format(encoded.decode('ascii'))))\n",
    "  else: \n",
    "    print(\"Could not find video\")\n",
    "    \n",
    "\n",
    "def wrap_env(env):\n",
    "  env = Monitor(env, './video', force=True)\n",
    "  return env"
   ]
  },
  {
   "cell_type": "markdown",
   "metadata": {
    "id": "UHkrflTWakKd"
   },
   "source": [
    "Import other packages:\n",
    "\n",
    "We will use Pytorch for building and learning our DQN network."
   ]
  },
  {
   "cell_type": "code",
   "execution_count": 2,
   "metadata": {
    "id": "9KvZYSl6RrzD"
   },
   "outputs": [],
   "source": [
    "import torch\n",
    "from torch import nn\n",
    "import copy\n",
    "from collections import deque\n",
    "import random\n",
    "from tqdm import tqdm\n",
    "import matplotlib.pyplot as plt\n",
    "\n",
    "random.seed(42)"
   ]
  },
  {
   "cell_type": "markdown",
   "metadata": {
    "id": "zrLGCk-3ditk"
   },
   "source": [
    "## Run the game with random agent."
   ]
  },
  {
   "cell_type": "code",
   "execution_count": 3,
   "metadata": {
    "id": "ZMcGALcWeWfh"
   },
   "outputs": [
    {
     "name": "stderr",
     "output_type": "stream",
     "text": [
      "100%|██████████| 20/20 [00:06<00:00,  3.20it/s]"
     ]
    },
    {
     "name": "stdout",
     "output_type": "stream",
     "text": [
      "average reward per episode : 24.85\n"
     ]
    },
    {
     "name": "stderr",
     "output_type": "stream",
     "text": [
      "\n"
     ]
    },
    {
     "data": {
      "text/html": [
       "<video alt=\"test\" autoplay \n",
       "                loop controls style=\"height: 400px;\">\n",
       "                <source src=\"data:video/mp4;base64,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\" type=\"video/mp4\" />\n",
       "             </video>"
      ],
      "text/plain": [
       "<IPython.core.display.HTML object>"
      ]
     },
     "metadata": {},
     "output_type": "display_data"
    }
   ],
   "source": [
    "from torch import randint\n",
    "from time import sleep\n",
    "\n",
    "env = wrap_env(gym.make('CartPole-v1'))\n",
    "reward_arr = []\n",
    "episode_count = 20\n",
    "for i in tqdm(range(episode_count)):\n",
    "    obs, done, rew = env.reset(), False, 0\n",
    "    env.render()\n",
    "    while not done:\n",
    "        A = randint(0, env.action_space.n, (1,))\n",
    "        obs, reward, done, info = env.step(A.item())\n",
    "        rew += reward\n",
    "        sleep(0.01)\n",
    "    reward_arr.append(rew)\n",
    "print(\"average reward per episode :\", sum(reward_arr) / len(reward_arr))\n",
    "env.close()\n",
    "show_video()"
   ]
  },
  {
   "cell_type": "markdown",
   "metadata": {
    "id": "Ope0zHAjfXQh"
   },
   "source": [
    "The episode ends when the pole is more than 15 degrees from vertical, or the cart moves more than 2.4 units from the center. The video is short (< 1s) because the pole loses balance immediately. \n",
    "\n",
    "You can see that a random agent is having trouble balancing the CartPole, just like you. However, a difficult game for human may be very simple to a computer. Let's see how we can use DQN to train a agent. "
   ]
  },
  {
   "cell_type": "markdown",
   "metadata": {
    "id": "OjP_2jn3SFgv"
   },
   "source": [
    "## Experience Replay\n",
    "\n",
    "The technique of experience replay was first proposed in to resolve temporal correlation in the input data by mixing recent experiences as well past experiences, essentially forcing the input to become independent and identically distributed (i.i.d.). It has been shown that this greatly stabilizes\n",
    "and improves the DQN training procedure."
   ]
  },
  {
   "cell_type": "code",
   "execution_count": 4,
   "metadata": {
    "id": "SoxW1Jlnk8mS"
   },
   "outputs": [],
   "source": [
    "class ExperienceReplay(object):\n",
    "      def __init__(self, length):\n",
    "        self.experience_replay = deque(maxlen=length)\n",
    "\n",
    "      def collect(self, experience):\n",
    "        self.experience_replay.append(experience)\n",
    "        return\n",
    "\n",
    "      def sample_from_experience(self, sample_size):\n",
    "        if len(self.experience_replay) < sample_size:\n",
    "            sample_size = len(self.experience_replay)\n",
    "        sample = random.sample(self.experience_replay, sample_size)\n",
    "        state = torch.tensor([exp[0] for exp in sample]).float()\n",
    "        action = torch.tensor([exp[1] for exp in sample]).float()\n",
    "        reward = torch.tensor([exp[2] for exp in sample]).float()\n",
    "        next_state = torch.tensor([exp[3] for exp in sample]).float()\n",
    "        return state, action, reward, next_state\n"
   ]
  },
  {
   "cell_type": "markdown",
   "metadata": {
    "id": "CgXwmV2im4Sx"
   },
   "source": [
    "## Build our DQN Network\n",
    "\n",
    "We will use a simple multi-layer neural network to learn the optimal actions. We will use Adam Optimizor and MSE loss for training. **Notice that the loss function and gamma is given to you in the class attribute.** "
   ]
  },
  {
   "cell_type": "code",
   "execution_count": 5,
   "metadata": {
    "id": "Wmd1pfuRm7MQ"
   },
   "outputs": [],
   "source": [
    "class DQN_Network:\n",
    "\n",
    "    def __init__(self, layer_size_list, lr, seed=1423):\n",
    "        torch.manual_seed(seed)\n",
    "        self.policy_net = self.create_network(layer_size_list)\n",
    "        self.target_net = copy.deepcopy(self.policy_net)\n",
    "  \n",
    "        self.loss_fn = torch.nn.MSELoss() # the loss function\n",
    "        self.optimizer = torch.optim.Adam(self.policy_net.parameters(), lr=lr)\n",
    "\n",
    "        self.step = 0\n",
    "        self.gamma = torch.tensor(0.95).float()\n",
    "        return\n",
    "\n",
    "    def create_network(self, layer_size_list):\n",
    "        assert len(layer_size_list) > 1\n",
    "\n",
    "        layers = []\n",
    "        for i in range(len(layer_size_list) - 1):\n",
    "            linear = nn.Linear(layer_size_list[i], layer_size_list[i + 1])\n",
    "\n",
    "            if i < len(layer_size_list) - 2:\n",
    "              activation = nn.Tanh()\n",
    "            else:\n",
    "              activation = nn.Identity()\n",
    "\n",
    "            layers += (linear, activation)\n",
    "        return nn.Sequential(*layers)\n",
    "\n",
    "    def load_pretrained_model(self, model_path):\n",
    "        self.policy_net.load_state_dict(torch.load(model_path))\n",
    "\n",
    "    def save_trained_model(self, model_path=\"cartpole-dqn.pth\"):\n",
    "        torch.save(self.policy_net.state_dict(), model_path)\n"
   ]
  },
  {
   "cell_type": "markdown",
   "metadata": {
    "id": "xKVV16YctASm"
   },
   "source": [
    "## **[Your task]**: complete the function that chooses the next action\n",
    "\n",
    "Choose next action based on **$\\epsilon$-greedy**:\n",
    "\n",
    "\\begin{align}\\text{where} \\quad \\mathcal{a_{t+1}} = \\begin{cases}\n",
    "     \\text{argmax}_{a}Q(a, s)  & \\text{with probability }: 1 - \\epsilon, \\text{exploitation}\\\\\n",
    "     \\text{Uniform}\\{a_{1},...,a_{n}\\} & \\text{with probability}:   \\epsilon, \\text{exploration} \\\\\n",
    "   \\end{cases}\\end{align}"
   ]
  },
  {
   "cell_type": "code",
   "execution_count": 6,
   "metadata": {
    "id": "iE0gVweYs8xW"
   },
   "outputs": [],
   "source": [
    "def get_action(model, state, action_space_len, epsilon):\n",
    "    # We do not require gradient at this point, because this function will be used either\n",
    "    # during experience collection or during inference\n",
    "\n",
    "    with torch.no_grad():\n",
    "        Qp = model.policy_net(torch.from_numpy(state).float())\n",
    "\n",
    "    ## TODO: select and return action based on epsilon-greedy\n",
    "    if (random.uniform(0, 1) > epsilon):\n",
    "        _, a = torch.max(Qp, axis=0)\n",
    "        return a\n",
    "    else:\n",
    "        return torch.randint(0, action_space_len, (1,))"
   ]
  },
  {
   "cell_type": "markdown",
   "metadata": {
    "id": "iF9a5-IbazjQ"
   },
   "source": [
    "### **[Your task]**: complete the function that train the network for one step\n",
    "\n",
    "Here, you can find an ``train`` function that performs a\n",
    "single step of the optimization. \n",
    "\n",
    "For our training update rule, the loss you are trying to minimize is:\n",
    "\n",
    "\\begin{align}\\text{loss} = Q(s, a) - (r + \\gamma \\max_a Q(s', a))\\end{align}"
   ]
  },
  {
   "cell_type": "code",
   "execution_count": 7,
   "metadata": {
    "id": "mtx4FAiab0Hp"
   },
   "outputs": [],
   "source": [
    "def train(model, batch_size):\n",
    "    state, action, reward, next_state = memory.sample_from_experience(sample_size=batch_size)\n",
    "\n",
    "    #### Based on equation 3 and 4 in the handout\n",
    "    # TODO: predict expected return of current state using main network\n",
    "    qp = model.policy_net(state)\n",
    "    pred, _ = torch.max(qp, axis=1)\n",
    "    \n",
    "    # TODO: get target return using target network\n",
    "    next_qp = model.target_net(next_state)\n",
    "    next_q, _ = torch.max(next_qp, axis=1)\n",
    "    tar = reward + model.gamma * next_q\n",
    "\n",
    "    # TODO: compute the loss\n",
    "    loss = model.loss_fn(pred, tar)\n",
    "    model.optimizer.zero_grad()\n",
    "    loss.backward(retain_graph=True)\n",
    "    model.optimizer.step()\n",
    "\n",
    "    model.step += 1\n",
    "    if model.step % 5 == 0:\n",
    "        model.target_net.load_state_dict(model.policy_net.state_dict())\n",
    "\n",
    "    return loss.item()"
   ]
  },
  {
   "cell_type": "markdown",
   "metadata": {
    "id": "uskoe87Uz-Jg"
   },
   "source": [
    "### **[Your task]**: Finish the training loop\n",
    "\n",
    "In this part, you can play around with ```exp_replay_size```, ```episode```, ```epsilon``` and the \"episodo decay\" logic to train your model. **If you have done correctly, you will observe that the training time for the latter episodes is longer than the early episodes. This is because your agent is getting better and better at playing the game and thus each episode takes longer**"
   ]
  },
  {
   "cell_type": "code",
   "execution_count": 8,
   "metadata": {
    "id": "3NfNnyD6SPpN"
   },
   "outputs": [
    {
     "name": "stderr",
     "output_type": "stream",
     "text": [
      "/home/maryamebr/anaconda3/envs/new-tf-gpu/lib/python3.7/site-packages/gym/envs/registration.py:506: UserWarning: \u001b[33mWARN: The environment CartPole-v0 is out of date. You should consider upgrading to version `v1` with the environment ID `CartPole-v1`.\u001b[0m\n",
      "  f\"The environment {path} is out of date. You should consider \"\n",
      "  0%|          | 0/15000 [00:00<?, ?it/s]/home/maryamebr/anaconda3/envs/new-tf-gpu/lib/python3.7/site-packages/ipykernel_launcher.py:13: UserWarning: Creating a tensor from a list of numpy.ndarrays is extremely slow. Please consider converting the list to a single numpy.ndarray with numpy.array() before converting to a tensor. (Triggered internally at  ../torch/csrc/utils/tensor_new.cpp:201.)\n",
      "  del sys.path[0]\n",
      "100%|██████████| 15000/15000 [07:02<00:00, 35.53it/s]"
     ]
    },
    {
     "name": "stdout",
     "output_type": "stream",
     "text": [
      "Saving trained model\n"
     ]
    },
    {
     "name": "stderr",
     "output_type": "stream",
     "text": [
      "\n"
     ]
    }
   ],
   "source": [
    "# Create the model\n",
    "env = gym.make('CartPole-v0')\n",
    "input_dim = env.observation_space.shape[0]\n",
    "output_dim = env.action_space.n\n",
    "agent = DQN_Network(layer_size_list=[input_dim, 64, output_dim], lr=1e-3)\n",
    "\n",
    "# Main training loop\n",
    "losses_list, reward_list, episode_len_list, epsilon_list = [], [], [], []\n",
    "\n",
    "# TODO: try different values, it normally takes more than 6k episodes to train\n",
    "exp_replay_size = 128\n",
    "memory = ExperienceReplay(exp_replay_size)\n",
    "episodes = 15000\n",
    "epsilon = 1 # episilon start from 1 and decay gradually. \n",
    "\n",
    "# initiliaze experiance replay\n",
    "index = 0\n",
    "for i in range(exp_replay_size):\n",
    "    obs = env.reset()\n",
    "    done = False\n",
    "    while not done:\n",
    "        A = get_action(agent, obs, env.action_space.n, epsilon=1)\n",
    "        obs_next, reward, done, _ = env.step(A.item())\n",
    "        memory.collect([obs, A.item(), reward, obs_next])\n",
    "        obs = obs_next\n",
    "        index += 1\n",
    "        if index > exp_replay_size:\n",
    "            break\n",
    "\n",
    "index = 128\n",
    "for i in tqdm(range(episodes)):\n",
    "    obs, done, losses, ep_len, rew = env.reset(), False, 0, 0, 0\n",
    "    while not done:\n",
    "        ep_len += 1\n",
    "        A = get_action(agent, obs, env.action_space.n, epsilon)\n",
    "        obs_next, reward, done, _ = env.step(A.item())\n",
    "        memory.collect([obs, A.item(), reward, obs_next])\n",
    "\n",
    "        obs = obs_next\n",
    "        rew += reward\n",
    "        index += 1\n",
    "\n",
    "        if index > 128:\n",
    "            index = 0\n",
    "            for j in range(4):\n",
    "                loss = train(agent, batch_size=16)\n",
    "                losses += loss\n",
    "    \n",
    "    # TODO: add epsilon decay rule\n",
    "    if epsilon > 0.01:\n",
    "        epsilon = epsilon - 0.0001\n",
    "\n",
    "\n",
    "    losses_list.append(losses / ep_len), reward_list.append(rew)\n",
    "    episode_len_list.append(ep_len), epsilon_list.append(epsilon)\n",
    "\n",
    "print(\"Saving trained model\")\n",
    "agent.save_trained_model(\"cartpole-dqn.pth\")"
   ]
  },
  {
   "cell_type": "markdown",
   "metadata": {
    "id": "CCow7jNXf5YT"
   },
   "source": [
    "## Last Step: evaluate your trained model! **Make sure to include your visualizations (plot+video) in the notebook for your submission!**\n",
    "\n",
    "First we can plot the reward vs. episode. **If you have done correctly, you should see the reward can stabilize at 200 in later episodes**\\"
   ]
  },
  {
   "cell_type": "code",
   "execution_count": 9,
   "metadata": {
    "id": "-Hy_FP7yeXA4"
   },
   "outputs": [
    {
     "data": {
      "image/png": "[encoded data removed]",
      "text/plain": [
       "<Figure size 432x288 with 1 Axes>"
      ]
     },
     "metadata": {
      "needs_background": "light"
     },
     "output_type": "display_data"
    }
   ],
   "source": [
    "def plot_reward(r):\n",
    "    plt.figure(2)\n",
    "    plt.clf()\n",
    "    plt.title('Result')\n",
    "    plt.xlabel('Episode')\n",
    "    plt.ylabel('Reward')\n",
    "    plt.plot(r)\n",
    "\n",
    "plot_reward(reward_list)"
   ]
  },
  {
   "cell_type": "markdown",
   "metadata": {
    "id": "EixOpGakoyi4"
   },
   "source": [
    "Next let check out how well your agent plays the game. **If you have done correctly, you should see a relatively longer video (> 3~4s) with a self-balancing pole.**"
   ]
  },
  {
   "cell_type": "code",
   "execution_count": 10,
   "metadata": {
    "id": "EMEivKldTGVG"
   },
   "outputs": [
    {
     "name": "stderr",
     "output_type": "stream",
     "text": [
      "100%|██████████| 200/200 [00:21<00:00,  9.24it/s]"
     ]
    },
    {
     "name": "stdout",
     "output_type": "stream",
     "text": [
      "average reward per episode : 500.0\n"
     ]
    },
    {
     "name": "stderr",
     "output_type": "stream",
     "text": [
      "\n"
     ]
    },
    {
     "data": {
      "text/html": [
       "<video alt=\"test\" autoplay \n",
       "                loop controls style=\"height: 400px;\">\n",
       "                <source src=\"data:video/mp4;base64,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\" type=\"video/mp4\" />\n",
       "             </video>"
      ],
      "text/plain": [
       "<IPython.core.display.HTML object>"
      ]
     },
     "metadata": {},
     "output_type": "display_data"
    }
   ],
   "source": [
    "env = wrap_env(gym.make('CartPole-v1'))\n",
    "\n",
    "input_dim = env.observation_space.shape[0]\n",
    "output_dim = env.action_space.n\n",
    "model_validate = DQN_Network(layer_size_list=[input_dim, 64, output_dim], lr=1e-3)\n",
    "model_validate.load_pretrained_model(\"cartpole-dqn.pth\")\n",
    "\n",
    "reward_arr = []\n",
    "for i in tqdm(range(200)):\n",
    "    obs, done, rew = env.reset(), False, 0\n",
    "    env.render()\n",
    "    while not done:\n",
    "        A = get_action(model_validate, obs, env.action_space.n, epsilon=0)\n",
    "        obs, reward, done, info = env.step(A.item())\n",
    "        rew += reward\n",
    "        # sleep(0.01)\n",
    "\n",
    "    reward_arr.append(rew)\n",
    "print(\"average reward per episode :\", sum(reward_arr) / len(reward_arr))\n",
    "env.close()\n",
    "show_video()"
   ]
  },
  {
   "cell_type": "code",
   "execution_count": null,
   "metadata": {
    "id": "VTAa6RAWTKZJ"
   },
   "outputs": [],
   "source": []
  }
 ],
 "metadata": {
  "accelerator": "GPU",
  "colab": {
   "collapsed_sections": [],
   "name": "a4_dqn.ipynb",
   "provenance": []
  },
  "kernelspec": {
   "display_name": "Python 3",
   "language": "python",
   "name": "python3"
  },
  "language_info": {
   "codemirror_mode": {
    "name": "ipython",
    "version": 3
   },
   "file_extension": ".py",
   "mimetype": "text/x-python",
   "name": "python",
   "nbconvert_exporter": "python",
   "pygments_lexer": "ipython3",
   "version": "3.7.10"
  }
 },
 "nbformat": 4,
 "nbformat_minor": 1
}
