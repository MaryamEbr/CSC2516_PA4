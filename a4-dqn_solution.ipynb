{
 "cells": [
  {
   "cell_type": "markdown",
   "metadata": {
    "id": "V3szwJAdaoQa"
   },
   "source": [
    "## Enable rendering OpenAI Gym environments from CoLab\n",
    "\n",
    "In this assignemnt, We will use [OpenAI Gym](https://gym.openai.com/) for rendering game envionment for our agent to play and learn. It is possible and important to visualize the game your agent is playing, even on Colab. This section imports the necessary package and functions needed to generate a video in Colab. The video processing steps credit to [here](https://colab.research.google.com/drive/1flu31ulJlgiRL1dnN2ir8wGh9p7Zij2t)."
   ]
  },
  {
   "cell_type": "code",
   "execution_count": 1,
   "metadata": {
    "id": "8rFaTvFab6Kz"
   },
   "outputs": [],
   "source": [
    "!pip install gym pyvirtualdisplay > /dev/null 2>&1\n",
    "!apt-get install -y xvfb python-opengl ffmpeg > /dev/null 2>&1"
   ]
  },
  {
   "cell_type": "code",
   "execution_count": 2,
   "metadata": {
    "colab": {
     "base_uri": "https://localhost:8080/"
    },
    "id": "M9fFfA-gb8oC",
    "outputId": "4f6748c8-4cd9-43cb-d6e0-0131510a7a70"
   },
   "outputs": [
    {
     "name": "stdout",
     "output_type": "stream",
     "text": [
      "Requirement already satisfied: setuptools in /home/maryamebr/anaconda3/envs/new-tf-gpu/lib/python3.7/site-packages (62.0.0)\r\n"
     ]
    }
   ],
   "source": [
    "!apt-get update > /dev/null 2>&1\n",
    "!apt-get install cmake > /dev/null 2>&1\n",
    "!pip install --upgrade setuptools 2>&1\n",
    "!pip install ez_setup > /dev/null 2>&1\n",
    "!pip install gym[atari] > /dev/null 2>&1"
   ]
  },
  {
   "cell_type": "markdown",
   "metadata": {
    "id": "QfTPg6uZckCm"
   },
   "source": [
    "Import openAI gym and define the functions used to show the video."
   ]
  },
  {
   "cell_type": "code",
   "execution_count": 2,
   "metadata": {
    "id": "JLl9cs6ncAf0"
   },
   "outputs": [],
   "source": [
    "import gym\n",
    "from gym.wrappers import Monitor\n",
    "import glob\n",
    "import io\n",
    "import base64\n",
    "from IPython.display import HTML\n",
    "from pyvirtualdisplay import Display\n",
    "from IPython import display as ipythondisplay\n",
    "\n",
    "display = Display(visible=0, size=(1400, 900))\n",
    "display.start()\n",
    "\n",
    "\"\"\"\n",
    "Utility functions to enable video recording of gym environment \n",
    "and displaying it.\n",
    "To enable video, just do \"env = wrap_env(env)\"\"\n",
    "\"\"\"\n",
    "\n",
    "def show_video():\n",
    "  mp4list = glob.glob('video/*.mp4')\n",
    "  if len(mp4list) > 0:\n",
    "    mp4 = mp4list[0]\n",
    "    video = io.open(mp4, 'r+b').read()\n",
    "    encoded = base64.b64encode(video)\n",
    "    ipythondisplay.display(HTML(data='''<video alt=\"test\" autoplay \n",
    "                loop controls style=\"height: 400px;\">\n",
    "                <source src=\"data:video/mp4;base64,{0}\" type=\"video/mp4\" />\n",
    "             </video>'''.format(encoded.decode('ascii'))))\n",
    "  else: \n",
    "    print(\"Could not find video\")\n",
    "    \n",
    "\n",
    "def wrap_env(env):\n",
    "  env = Monitor(env, './video', force=True)\n",
    "  return env"
   ]
  },
  {
   "cell_type": "markdown",
   "metadata": {
    "id": "UHkrflTWakKd"
   },
   "source": [
    "Import other packages:\n",
    "\n",
    "We will use Pytorch for building and learning our DQN network."
   ]
  },
  {
   "cell_type": "code",
   "execution_count": 16,
   "metadata": {
    "id": "9KvZYSl6RrzD"
   },
   "outputs": [],
   "source": [
    "import torch\n",
    "from torch import nn\n",
    "import copy\n",
    "from collections import deque\n",
    "import random\n",
    "from tqdm import tqdm\n",
    "import matplotlib.pyplot as plt"
   ]
  },
  {
   "cell_type": "markdown",
   "metadata": {
    "id": "zrLGCk-3ditk"
   },
   "source": [
    "## Run the game with random agent."
   ]
  },
  {
   "cell_type": "code",
   "execution_count": 17,
   "metadata": {
    "colab": {
     "base_uri": "https://localhost:8080/",
     "height": 455
    },
    "id": "ZMcGALcWeWfh",
    "outputId": "d7940641-6140-4cf9-82d8-3abd791ef9e3"
   },
   "outputs": [
    {
     "name": "stderr",
     "output_type": "stream",
     "text": [
      "100%|██████████| 20/20 [00:05<00:00,  3.57it/s]"
     ]
    },
    {
     "name": "stdout",
     "output_type": "stream",
     "text": [
      "average reward per episode : 22.85\n"
     ]
    },
    {
     "name": "stderr",
     "output_type": "stream",
     "text": [
      "\n"
     ]
    },
    {
     "data": {
      "text/html": [
       "<video alt=\"test\" autoplay \n",
       "                loop controls style=\"height: 400px;\">\n",
       "                <source src=\"data:video/mp4;base64,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\" type=\"video/mp4\" />\n",
       "             </video>"
      ],
      "text/plain": [
       "<IPython.core.display.HTML object>"
      ]
     },
     "metadata": {},
     "output_type": "display_data"
    }
   ],
   "source": [
    "from torch import randint\n",
    "from time import sleep\n",
    "\n",
    "env = wrap_env(gym.make('CartPole-v0'))\n",
    "reward_arr = []\n",
    "episode_count = 20\n",
    "for i in tqdm(range(episode_count)):\n",
    "    obs, done, rew = env.reset(), False, 0\n",
    "    env.render()\n",
    "    while not done:\n",
    "        A = randint(0, env.action_space.n, (1,))\n",
    "        obs, reward, done, info = env.step(A.item())\n",
    "        rew += reward\n",
    "        sleep(0.01)\n",
    "    reward_arr.append(rew)\n",
    "print(\"average reward per episode :\", sum(reward_arr) / len(reward_arr))\n",
    "env.close()\n",
    "show_video()"
   ]
  },
  {
   "cell_type": "markdown",
   "metadata": {
    "id": "Ope0zHAjfXQh"
   },
   "source": [
    "You can see that a random agent is having trouble balancing the CartPole, just like you. However, a difficult game for human may be very simple to a computer. Let's see how we can use DQN to train a agent. "
   ]
  },
  {
   "cell_type": "markdown",
   "metadata": {
    "id": "OjP_2jn3SFgv"
   },
   "source": [
    "## Experience Replay\n",
    "\n",
    "The technique of experience replay was first proposed in to resolve temporal correlation in the input data by mixing recent experiences as well past experiences, essentially forcing the input to become independent and identically distributed (i.i.d.). It has been shown that this greatly stabilizes\n",
    "and improves the DQN training procedure."
   ]
  },
  {
   "cell_type": "code",
   "execution_count": 18,
   "metadata": {
    "id": "SoxW1Jlnk8mS"
   },
   "outputs": [],
   "source": [
    "class ExperienceReplay(object):\n",
    "      def __init__(self, length):\n",
    "        self.experience_replay = deque(maxlen=length)\n",
    "\n",
    "      def collect(self, experience):\n",
    "        self.experience_replay.append(experience)\n",
    "        return\n",
    "\n",
    "      def sample_from_experience(self, sample_size):\n",
    "        if len(self.experience_replay) < sample_size:\n",
    "            sample_size = len(self.experience_replay)\n",
    "        sample = random.sample(self.experience_replay, sample_size)\n",
    "        state = torch.tensor([exp[0] for exp in sample]).float()\n",
    "        action = torch.tensor([exp[1] for exp in sample]).float()\n",
    "        reward = torch.tensor([exp[2] for exp in sample]).float()\n",
    "        next_state = torch.tensor([exp[3] for exp in sample]).float()\n",
    "        return state, action, reward, next_state\n"
   ]
  },
  {
   "cell_type": "markdown",
   "metadata": {
    "id": "CgXwmV2im4Sx"
   },
   "source": [
    "## Build our DQN Network\n",
    "\n",
    "We will use a simple multi-layer neural network to learn the optimal actions. We will use Adam Optimizor and MSE loss for training."
   ]
  },
  {
   "cell_type": "code",
   "execution_count": 19,
   "metadata": {
    "id": "Wmd1pfuRm7MQ"
   },
   "outputs": [],
   "source": [
    "class DQN_Network:\n",
    "\n",
    "    def __init__(self, layer_size_list, lr, seed=1423):\n",
    "        torch.manual_seed(seed)\n",
    "        self.policy_net = self.create_network(layer_size_list)\n",
    "        self.target_net = copy.deepcopy(self.policy_net)\n",
    "  \n",
    "        self.loss_fn = torch.nn.MSELoss()\n",
    "        self.optimizer = torch.optim.Adam(self.policy_net.parameters(), lr=lr)\n",
    "\n",
    "        self.step = 0\n",
    "        self.gamma = torch.tensor(0.95).float()\n",
    "        return\n",
    "\n",
    "    def create_network(self, layer_size_list):\n",
    "        assert len(layer_size_list) > 1\n",
    "\n",
    "        layers = []\n",
    "        for i in range(len(layer_size_list) - 1):\n",
    "            linear = nn.Linear(layer_size_list[i], layer_size_list[i + 1])\n",
    "\n",
    "            if i < len(layer_size_list) - 2:\n",
    "              activation = nn.Tanh()\n",
    "            else:\n",
    "              activation = nn.Identity()\n",
    "\n",
    "            layers += (linear, activation)\n",
    "        return nn.Sequential(*layers)\n",
    "\n",
    "    def load_pretrained_model(self, model_path):\n",
    "        self.policy_net.load_state_dict(torch.load(model_path))\n",
    "\n",
    "    def save_trained_model(self, model_path=\"cartpole-dqn.pth\"):\n",
    "        torch.save(self.policy_net.state_dict(), model_path)\n"
   ]
  },
  {
   "cell_type": "markdown",
   "metadata": {
    "id": "xKVV16YctASm"
   },
   "source": [
    "## **[Your task]**: complete the function that chooses the next action\n",
    "\n",
    "Choose next action based on **$\\epsilon$-greedy**:\n",
    "\n",
    "\\begin{align}\\text{where} \\quad \\mathcal{a_{t+1}} = \\begin{cases}\n",
    "     \\text{argmax}_{a}Q(a, s)  & \\text{with probability }: 1 - \\epsilon, \\text{exploitation}\\\\\n",
    "     \\text{Uniform}\\{a_{1},...,a_{n}\\} & \\text{with probability}:   \\epsilon, \\text{exploration} \\\\\n",
    "   \\end{cases}\\end{align}"
   ]
  },
  {
   "cell_type": "code",
   "execution_count": 20,
   "metadata": {
    "id": "iE0gVweYs8xW"
   },
   "outputs": [],
   "source": [
    "def get_action(model, state, action_space_len, epsilon):\n",
    "    # We do not require gradient at this point, because this function will be used either\n",
    "    # during experience collection or during inference\n",
    "\n",
    "    with torch.no_grad():\n",
    "        Qp = model.policy_net(torch.from_numpy(state).float())\n",
    "    Q, A = torch.max(Qp, axis=0)\n",
    "\n",
    "    ## TODO:\n",
    "    if torch.rand(1, ).item() > epsilon:\n",
    "        A = A\n",
    "    else:\n",
    "        A = torch.randint(0, action_space_len, (1,))\n",
    "        \n",
    "    return A"
   ]
  },
  {
   "cell_type": "markdown",
   "metadata": {
    "id": "iF9a5-IbazjQ"
   },
   "source": [
    "### **[Your task]**: complete the function that train the network for one step\n",
    "\n",
    "Here, you can find an ``train`` function that performs a\n",
    "single step of the optimization. \n",
    "\n",
    "For our training update rule, the loss you are trying to minimize is:\n",
    "\n",
    "\\begin{align}\\text{loss} = Q(s, a) - (r + \\gamma \\max_a Q(s', a))\\end{align}"
   ]
  },
  {
   "cell_type": "code",
   "execution_count": 21,
   "metadata": {
    "id": "mtx4FAiab0Hp"
   },
   "outputs": [],
   "source": [
    "def train(model, batch_size):\n",
    "    state, action, reward, next_state = memory.sample_from_experience(sample_size=batch_size)\n",
    "\n",
    "    # TODO: predict expected return of current state using main network\n",
    "    qp = model.policy_net(state)\n",
    "    pred_return, _ = torch.max(qp, axis=1)\n",
    "\n",
    "    # TODO: get target return using target network\n",
    "    qp_next = model.target_net(next_state)\n",
    "    q_next, _ = torch.max(qp_next, axis=1)\n",
    "    target_return = reward + model.gamma * q_next\n",
    "\n",
    "    # TODO: Optimize the model\n",
    "    loss = model.loss_fn(pred_return, target_return)\n",
    "    model.optimizer.zero_grad()\n",
    "    loss.backward(retain_graph=True)\n",
    "    model.optimizer.step()\n",
    "\n",
    "    model.step += 1\n",
    "    if model.step % 5 == 0:\n",
    "        model.target_net.load_state_dict(model.policy_net.state_dict())\n",
    "\n",
    "    return loss.item()"
   ]
  },
  {
   "cell_type": "markdown",
   "metadata": {
    "id": "uskoe87Uz-Jg"
   },
   "source": [
    "### **[Your task]**: Finish the training loop\n",
    "\n",
    "In this part, you can play around with ```exp_replay_size```, ```episode```, ```epsilon``` and the \"episodo decay\" logic to train your model."
   ]
  },
  {
   "cell_type": "code",
   "execution_count": 22,
   "metadata": {
    "colab": {
     "base_uri": "https://localhost:8080/"
    },
    "id": "3NfNnyD6SPpN",
    "outputId": "40a3c9e6-4fe0-44f3-ebef-f93d61683858"
   },
   "outputs": [
    {
     "name": "stderr",
     "output_type": "stream",
     "text": [
      "/home/maryamebr/anaconda3/envs/new-tf-gpu/lib/python3.7/site-packages/gym/envs/registration.py:506: UserWarning: \u001b[33mWARN: The environment CartPole-v0 is out of date. You should consider upgrading to version `v1` with the environment ID `CartPole-v1`.\u001b[0m\n",
      "  f\"The environment {path} is out of date. You should consider \"\n",
      "  0%|          | 0/10000 [00:00<?, ?it/s]/home/maryamebr/anaconda3/envs/new-tf-gpu/lib/python3.7/site-packages/ipykernel_launcher.py:13: UserWarning: Creating a tensor from a list of numpy.ndarrays is extremely slow. Please consider converting the list to a single numpy.ndarray with numpy.array() before converting to a tensor. (Triggered internally at  ../torch/csrc/utils/tensor_new.cpp:201.)\n",
      "  del sys.path[0]\n",
      "100%|██████████| 10000/10000 [05:47<00:00, 28.80it/s]"
     ]
    },
    {
     "name": "stdout",
     "output_type": "stream",
     "text": [
      "Saving trained model\n"
     ]
    },
    {
     "name": "stderr",
     "output_type": "stream",
     "text": [
      "\n"
     ]
    }
   ],
   "source": [
    "# Create the model\n",
    "env = gym.make('CartPole-v0')\n",
    "input_dim = env.observation_space.shape[0]\n",
    "output_dim = env.action_space.n\n",
    "agent = DQN_Network(layer_size_list=[input_dim, 64, output_dim], lr=1e-3)\n",
    "\n",
    "# Main training loop\n",
    "losses_list, reward_list, episode_len_list, epsilon_list = [], [], [], []\n",
    "\n",
    "# TODO:\n",
    "exp_replay_size = 256\n",
    "memory = ExperienceReplay(exp_replay_size)\n",
    "episodes = 10000\n",
    "epsilon = 1\n",
    "\n",
    "# initiliaze experiance replay\n",
    "index = 0\n",
    "for i in range(exp_replay_size):\n",
    "    obs = env.reset()\n",
    "    done = False\n",
    "    while not done:\n",
    "        A = get_action(agent, obs, env.action_space.n, epsilon=1)\n",
    "        obs_next, reward, done, _ = env.step(A.item())\n",
    "        memory.collect([obs, A.item(), reward, obs_next])\n",
    "        obs = obs_next\n",
    "        index += 1\n",
    "        if index > exp_replay_size:\n",
    "            break\n",
    "\n",
    "index = 128\n",
    "for i in tqdm(range(episodes)):\n",
    "    obs, done, losses, ep_len, rew = env.reset(), False, 0, 0, 0\n",
    "    while not done:\n",
    "        ep_len += 1\n",
    "        A = get_action(agent, obs, env.action_space.n, epsilon)\n",
    "        obs_next, reward, done, _ = env.step(A.item())\n",
    "        memory.collect([obs, A.item(), reward, obs_next])\n",
    "\n",
    "        obs = obs_next\n",
    "        rew += reward\n",
    "        index += 1\n",
    "\n",
    "        if index > 128:\n",
    "            index = 0\n",
    "            for j in range(4):\n",
    "                loss = train(agent, batch_size=16)\n",
    "                losses += loss\n",
    "    \n",
    "    # TODO: add epsilon decay rule\n",
    "    if epsilon > 0.05:\n",
    "        epsilon -= (1 / 5000)\n",
    "\n",
    "    losses_list.append(losses / ep_len), reward_list.append(rew)\n",
    "    episode_len_list.append(ep_len), epsilon_list.append(epsilon)\n",
    "\n",
    "print(\"Saving trained model\")\n",
    "agent.save_trained_model(\"cartpole-dqn.pth\")"
   ]
  },
  {
   "cell_type": "markdown",
   "metadata": {
    "id": "CCow7jNXf5YT"
   },
   "source": [
    "## Last Step: evaluate your trained model!\n",
    "\n",
    "First we can plot the reward vs. episode:"
   ]
  },
  {
   "cell_type": "code",
   "execution_count": 23,
   "metadata": {
    "colab": {
     "base_uri": "https://localhost:8080/",
     "height": 295
    },
    "id": "-Hy_FP7yeXA4",
    "outputId": "7cca7675-48f7-4e0f-9ab6-b971abde67ad"
   },
   "outputs": [
    {
     "data": {
      "image/png": "[encoded data removed]",
      "text/plain": [
       "<Figure size 432x288 with 1 Axes>"
      ]
     },
     "metadata": {
      "needs_background": "light"
     },
     "output_type": "display_data"
    }
   ],
   "source": [
    "def plot_reward(r):\n",
    "    plt.figure(2)\n",
    "    plt.clf()\n",
    "    plt.title('Result')\n",
    "    plt.xlabel('Episode')\n",
    "    plt.ylabel('Reward')\n",
    "    plt.plot(r)\n",
    "\n",
    "plot_reward(reward_list)"
   ]
  },
  {
   "cell_type": "code",
   "execution_count": 24,
   "metadata": {
    "colab": {
     "base_uri": "https://localhost:8080/",
     "height": 455
    },
    "id": "EMEivKldTGVG",
    "outputId": "52434ef4-29e4-4f88-b05d-96e1010cde13"
   },
   "outputs": [
    {
     "name": "stderr",
     "output_type": "stream",
     "text": [
      "100%|██████████| 300/300 [00:12<00:00, 23.72it/s]"
     ]
    },
    {
     "name": "stdout",
     "output_type": "stream",
     "text": [
      "average reward per episode : 200.0\n"
     ]
    },
    {
     "name": "stderr",
     "output_type": "stream",
     "text": [
      "\n"
     ]
    },
    {
     "data": {
      "text/html": [
       "<video alt=\"test\" autoplay \n",
       "                loop controls style=\"height: 400px;\">\n",
       "                <source src=\"data:video/mp4;base64,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\" type=\"video/mp4\" />\n",
       "             </video>"
      ],
      "text/plain": [
       "<IPython.core.display.HTML object>"
      ]
     },
     "metadata": {},
     "output_type": "display_data"
    }
   ],
   "source": [
    "env = wrap_env(gym.make('CartPole-v0'))\n",
    "\n",
    "input_dim = env.observation_space.shape[0]\n",
    "output_dim = env.action_space.n\n",
    "model_validate = DQN_Network(layer_size_list=[input_dim, 64, output_dim], lr=1e-3)\n",
    "model_validate.load_pretrained_model(\"cartpole-dqn.pth\")\n",
    "\n",
    "reward_arr = []\n",
    "for i in tqdm(range(300)):\n",
    "    obs, done, rew = env.reset(), False, 0\n",
    "    env.render()\n",
    "    while not done:\n",
    "        A = get_action(model_validate, obs, env.action_space.n, epsilon=0)\n",
    "        obs, reward, done, info = env.step(A.item())\n",
    "        rew += reward\n",
    "        # sleep(0.01)\n",
    "\n",
    "    reward_arr.append(rew)\n",
    "print(\"average reward per episode :\", sum(reward_arr) / len(reward_arr))\n",
    "env.close()\n",
    "show_video()"
   ]
  },
  {
   "cell_type": "code",
   "execution_count": null,
   "metadata": {
    "id": "VTAa6RAWTKZJ"
   },
   "outputs": [],
   "source": []
  }
 ],
 "metadata": {
  "accelerator": "GPU",
  "colab": {
   "collapsed_sections": [],
   "name": "DQN_ CartPole_Balancing_Solution.ipynb",
   "provenance": []
  },
  "kernelspec": {
   "display_name": "Python 3",
   "language": "python",
   "name": "python3"
  },
  "language_info": {
   "codemirror_mode": {
    "name": "ipython",
    "version": 3
   },
   "file_extension": ".py",
   "mimetype": "text/x-python",
   "name": "python",
   "nbconvert_exporter": "python",
   "pygments_lexer": "ipython3",
   "version": "3.7.10"
  }
 },
 "nbformat": 4,
 "nbformat_minor": 1
}
