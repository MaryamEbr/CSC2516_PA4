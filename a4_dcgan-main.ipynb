{
 "cells": [
  {
   "cell_type": "markdown",
   "metadata": {
    "id": "TjPTaRB4mpCd"
   },
   "source": [
    "# Colab FAQ\n",
    "\n",
    "For some basic overview and features offered in Colab notebooks, check out: [Overview of Colaboratory Features](https://colab.research.google.com/notebooks/basic_features_overview.ipynb)\n",
    "\n",
    "You need to use the colab GPU for this assignmentby selecting:\n",
    "\n",
    "> **Runtime**   →   **Change runtime type**   →   **Hardware Accelerator: GPU**"
   ]
  },
  {
   "cell_type": "markdown",
   "metadata": {
    "id": "s9IS9B9-yUU5"
   },
   "source": [
    "# Setup PyTorch\n",
    "All files are stored at /content/csc421/a4/ folder\n"
   ]
  },
  {
   "cell_type": "code",
   "execution_count": 1,
   "metadata": {
    "id": "Z-6MQhMOlHXD"
   },
   "outputs": [
    {
     "name": "stdout",
     "output_type": "stream",
     "text": [
      "Requirement already satisfied: torch in /home/maryamebr/anaconda3/envs/new-tf-gpu/lib/python3.7/site-packages (1.10.1+cu113)\n",
      "Requirement already satisfied: torchvision in /home/maryamebr/anaconda3/envs/new-tf-gpu/lib/python3.7/site-packages (0.11.2+cu113)\n",
      "Requirement already satisfied: typing-extensions in /home/maryamebr/anaconda3/envs/new-tf-gpu/lib/python3.7/site-packages (from torch) (4.1.1)\n",
      "Requirement already satisfied: numpy in /home/maryamebr/anaconda3/envs/new-tf-gpu/lib/python3.7/site-packages (from torchvision) (1.21.5)\n",
      "Requirement already satisfied: pillow!=8.3.0,>=5.3.0 in /home/maryamebr/anaconda3/envs/new-tf-gpu/lib/python3.7/site-packages (from torchvision) (9.0.1)\n",
      "Requirement already satisfied: imageio in /home/maryamebr/anaconda3/envs/new-tf-gpu/lib/python3.7/site-packages (2.16.1)\n",
      "Requirement already satisfied: numpy>=1.20.0 in /home/maryamebr/anaconda3/envs/new-tf-gpu/lib/python3.7/site-packages (from imageio) (1.21.5)\n",
      "Requirement already satisfied: pillow>=8.3.2 in /home/maryamebr/anaconda3/envs/new-tf-gpu/lib/python3.7/site-packages (from imageio) (9.0.1)\n",
      "Requirement already satisfied: matplotlib in /home/maryamebr/anaconda3/envs/new-tf-gpu/lib/python3.7/site-packages (3.4.2)\n",
      "Requirement already satisfied: cycler>=0.10 in /home/maryamebr/anaconda3/envs/new-tf-gpu/lib/python3.7/site-packages (from matplotlib) (0.10.0)\n",
      "Requirement already satisfied: kiwisolver>=1.0.1 in /home/maryamebr/anaconda3/envs/new-tf-gpu/lib/python3.7/site-packages (from matplotlib) (1.3.1)\n",
      "Requirement already satisfied: pillow>=6.2.0 in /home/maryamebr/anaconda3/envs/new-tf-gpu/lib/python3.7/site-packages (from matplotlib) (9.0.1)\n",
      "Requirement already satisfied: pyparsing>=2.2.1 in /home/maryamebr/anaconda3/envs/new-tf-gpu/lib/python3.7/site-packages (from matplotlib) (2.4.7)\n",
      "Requirement already satisfied: python-dateutil>=2.7 in /home/maryamebr/anaconda3/envs/new-tf-gpu/lib/python3.7/site-packages (from matplotlib) (2.8.1)\n",
      "Requirement already satisfied: numpy>=1.16 in /home/maryamebr/anaconda3/envs/new-tf-gpu/lib/python3.7/site-packages (from matplotlib) (1.21.5)\n",
      "Requirement already satisfied: six in /home/maryamebr/anaconda3/envs/new-tf-gpu/lib/python3.7/site-packages (from cycler>=0.10->matplotlib) (1.15.0)\n",
      "mkdir: cannot create directory ‘/content’: Permission denied\n",
      "[Errno 2] No such file or directory: '/content/csc413/a4'\n",
      "/home/maryamebr/anaconda3/envs/new-tf-gpu/CSC2516_PA4\n"
     ]
    }
   ],
   "source": [
    "######################################################################\n",
    "# Setup python environment and change the current working directory\n",
    "######################################################################\n",
    "!pip install torch torchvision\n",
    "!pip install imageio\n",
    "\n",
    "!pip install matplotlib\n",
    "\n",
    "%mkdir -p /content/csc413/a4/\n",
    "%cd /content/csc413/a4"
   ]
  },
  {
   "cell_type": "markdown",
   "metadata": {
    "id": "9DaTdRNuUra7"
   },
   "source": [
    "# Helper code"
   ]
  },
  {
   "cell_type": "markdown",
   "metadata": {
    "id": "4BIpGwANoQOg"
   },
   "source": [
    "## Utility functions"
   ]
  },
  {
   "cell_type": "code",
   "execution_count": 2,
   "metadata": {
    "id": "D-UJHBYZkh7f"
   },
   "outputs": [],
   "source": [
    "import os\n",
    "\n",
    "import numpy as np\n",
    "import matplotlib.pyplot as plt\n",
    "\n",
    "import torch\n",
    "from torch import nn\n",
    "from torch.nn import Parameter\n",
    "import torch.nn.functional as F\n",
    "import torch.optim as optim\n",
    "from torch.autograd import Variable\n",
    "from torch.utils.data import DataLoader\n",
    "from torchvision import datasets\n",
    "from torchvision import transforms\n",
    "\n",
    "from six.moves.urllib.request import urlretrieve\n",
    "import tarfile\n",
    "\n",
    "import imageio\n",
    "from urllib.error import URLError\n",
    "from urllib.error import HTTPError\n",
    "\n",
    "\n",
    "def get_file(fname,\n",
    "             origin,\n",
    "             untar=False,\n",
    "             extract=False,\n",
    "             archive_format='auto',\n",
    "             cache_dir='data'):\n",
    "    datadir = os.path.join(cache_dir)\n",
    "    if not os.path.exists(datadir):\n",
    "        os.makedirs(datadir)\n",
    "\n",
    "    if untar:\n",
    "        untar_fpath = os.path.join(datadir, fname)\n",
    "        fpath = untar_fpath + '.tar.gz'\n",
    "    else:\n",
    "        fpath = os.path.join(datadir, fname)\n",
    "\n",
    "    print(fpath)\n",
    "    if not os.path.exists(fpath):\n",
    "        print('Downloading data from', origin)\n",
    "\n",
    "        error_msg = 'URL fetch failure on {}: {} -- {}'\n",
    "        try:\n",
    "            try:\n",
    "                urlretrieve(origin, fpath)\n",
    "            except URLError as e:\n",
    "                raise Exception(error_msg.format(origin, e.errno, e.reason))\n",
    "            except HTTPError as e:\n",
    "                raise Exception(error_msg.format(origin, e.code, e.msg))\n",
    "        except (Exception, KeyboardInterrupt) as e:\n",
    "            if os.path.exists(fpath):\n",
    "                os.remove(fpath)\n",
    "            raise\n",
    "\n",
    "    if untar:\n",
    "        if not os.path.exists(untar_fpath):\n",
    "            print('Extracting file.')\n",
    "            with tarfile.open(fpath) as archive:\n",
    "                archive.extractall(datadir)\n",
    "        return untar_fpath\n",
    "\n",
    "    return fpath\n",
    "\n",
    "\n",
    "class AttrDict(dict):\n",
    "    def __init__(self, *args, **kwargs):\n",
    "        super(AttrDict, self).__init__(*args, **kwargs)\n",
    "        self.__dict__ = self\n",
    "\n",
    "                \n",
    "def to_var(tensor, cuda=True):\n",
    "    \"\"\"Wraps a Tensor in a Variable, optionally placing it on the GPU.\n",
    "\n",
    "        Arguments:\n",
    "            tensor: A Tensor object.\n",
    "            cuda: A boolean flag indicating whether to use the GPU.\n",
    "\n",
    "        Returns:\n",
    "            A Variable object, on the GPU if cuda==True.\n",
    "    \"\"\"\n",
    "    if cuda:\n",
    "        return Variable(tensor.cuda())\n",
    "    else:\n",
    "        return Variable(tensor)\n",
    "\n",
    "    \n",
    "def to_data(x):\n",
    "    \"\"\"Converts variable to numpy.\"\"\"\n",
    "    if torch.cuda.is_available():\n",
    "        x = x.cpu()\n",
    "    return x.data.numpy()\n",
    "\n",
    "\n",
    "def create_dir(directory):\n",
    "    \"\"\"Creates a directory if it doesn't already exist.\n",
    "    \"\"\"\n",
    "    if not os.path.exists(directory):\n",
    "        os.makedirs(directory)\n",
    "\n",
    "\n",
    "def gan_checkpoint(iteration, G, D, opts):\n",
    "    \"\"\"Saves the parameters of the generator G and discriminator D.\n",
    "    \"\"\"\n",
    "    G_path = os.path.join(opts.checkpoint_dir, 'G.pkl')\n",
    "    D_path = os.path.join(opts.checkpoint_dir, 'D.pkl')\n",
    "    torch.save(G.state_dict(), G_path)\n",
    "    torch.save(D.state_dict(), D_path)\n",
    "\n",
    "def load_checkpoint(opts):\n",
    "    \"\"\"Loads the generator and discriminator models from checkpoints.\n",
    "    \"\"\"\n",
    "    G_path = os.path.join(opts.load, 'G.pkl')\n",
    "    D_path = os.path.join(opts.load, 'D_.pkl')\n",
    "\n",
    "    G = DCGenerator(noise_size=opts.noise_size, conv_dim=opts.g_conv_dim, spectral_norm=opts.spectral_norm)\n",
    "    D = DCDiscriminator(conv_dim=opts.d_conv_dim)\n",
    "\n",
    "    G.load_state_dict(torch.load(G_path, map_location=lambda storage, loc: storage))\n",
    "    D.load_state_dict(torch.load(D_path, map_location=lambda storage, loc: storage))\n",
    "\n",
    "    if torch.cuda.is_available():\n",
    "        G.cuda()\n",
    "        D.cuda()\n",
    "        print('Models moved to GPU.')\n",
    "\n",
    "    return G, D\n",
    "\n",
    "\n",
    "def merge_images(sources, targets, opts):\n",
    "    \"\"\"Creates a grid consisting of pairs of columns, where the first column in\n",
    "    each pair contains images source images and the second column in each pair\n",
    "    contains images generated by the CycleGAN from the corresponding images in\n",
    "    the first column.\n",
    "    \"\"\"\n",
    "    _, _, h, w = sources.shape\n",
    "    row = int(np.sqrt(opts.batch_size))\n",
    "    merged = np.zeros([3, row * h, row * w * 2])\n",
    "    for (idx, s, t) in (zip(range(row ** 2), sources, targets, )):\n",
    "        i = idx // row\n",
    "        j = idx % row\n",
    "        merged[:, i * h:(i + 1) * h, (j * 2) * h:(j * 2 + 1) * h] = s\n",
    "        merged[:, i * h:(i + 1) * h, (j * 2 + 1) * h:(j * 2 + 2) * h] = t\n",
    "    return merged.transpose(1, 2, 0)\n",
    "\n",
    "\n",
    "def generate_gif(directory_path, keyword=None):\n",
    "    images = []\n",
    "    for filename in sorted(os.listdir(directory_path)):\n",
    "        if filename.endswith(\".png\") and (keyword is None or keyword in filename):\n",
    "            img_path = os.path.join(directory_path, filename)\n",
    "            print(\"adding image {}\".format(img_path))\n",
    "            images.append(imageio.imread(img_path))\n",
    "\n",
    "    if keyword:\n",
    "        imageio.mimsave(\n",
    "            os.path.join(directory_path, 'anim_{}.gif'.format(keyword)), images)\n",
    "    else:\n",
    "        imageio.mimsave(os.path.join(directory_path, 'anim.gif'), images)\n",
    "\n",
    "\n",
    "def create_image_grid(array, ncols=None):\n",
    "    \"\"\"\n",
    "    \"\"\"\n",
    "    num_images, channels, cell_h, cell_w = array.shape\n",
    "    if not ncols:\n",
    "        ncols = int(np.sqrt(num_images))\n",
    "    nrows = int(np.math.floor(num_images / float(ncols)))\n",
    "    result = np.zeros((cell_h * nrows, cell_w * ncols, channels), dtype=array.dtype)\n",
    "    for i in range(0, nrows):\n",
    "        for j in range(0, ncols):\n",
    "            result[i * cell_h:(i + 1) * cell_h, j * cell_w:(j + 1) * cell_w, :] = array[i * ncols + j].transpose(1, 2,\n",
    "                                                                                                                 0)\n",
    "\n",
    "    if channels == 1:\n",
    "        result = result.squeeze()\n",
    "    return result\n",
    "\n",
    "\n",
    "def gan_save_samples(G, fixed_noise, iteration, opts):\n",
    "    generated_images = G(fixed_noise)\n",
    "    generated_images = to_data(generated_images)\n",
    "\n",
    "    grid = create_image_grid(generated_images)\n",
    "\n",
    "    # merged = merge_images(X, fake_Y, opts)\n",
    "    path = os.path.join(opts.sample_dir, 'sample-{:06d}.png'.format(iteration))\n",
    "    imageio.imwrite(path, grid)\n",
    "    print('Saved {}'.format(path))"
   ]
  },
  {
   "cell_type": "markdown",
   "metadata": {
    "id": "pbvpn4MaV0I1"
   },
   "source": [
    "## Data loader"
   ]
  },
  {
   "cell_type": "code",
   "execution_count": 3,
   "metadata": {
    "id": "XVT4TNTOV3Eg"
   },
   "outputs": [],
   "source": [
    "def get_emoji_loader(emoji_type, opts):\n",
    "    \"\"\"Creates training and test data loaders.\n",
    "    \"\"\"\n",
    "    transform = transforms.Compose([\n",
    "                    transforms.Scale(opts.image_size),\n",
    "                    transforms.ToTensor(),\n",
    "                    transforms.Normalize((0.5, 0.5, 0.5), (0.5, 0.5, 0.5))\n",
    "                ])\n",
    "\n",
    "    train_path = os.path.join('data/emojis', emoji_type)\n",
    "    test_path = os.path.join('data/emojis', 'Test_{}'.format(emoji_type))\n",
    "\n",
    "    train_dataset = datasets.ImageFolder(train_path, transform)\n",
    "    test_dataset = datasets.ImageFolder(test_path, transform)\n",
    "\n",
    "    train_dloader = DataLoader(dataset=train_dataset, batch_size=opts.batch_size, shuffle=True, num_workers=opts.num_workers)\n",
    "    test_dloader = DataLoader(dataset=test_dataset, batch_size=opts.batch_size, shuffle=False, num_workers=opts.num_workers)\n",
    "\n",
    "    return train_dloader, test_dloader"
   ]
  },
  {
   "cell_type": "markdown",
   "metadata": {
    "id": "bRWfRdmVVjUl"
   },
   "source": [
    "## Training and evaluation code"
   ]
  },
  {
   "cell_type": "code",
   "execution_count": 4,
   "metadata": {
    "id": "nSIhQp41q_Nu"
   },
   "outputs": [],
   "source": [
    "def print_models(G_XtoY, G_YtoX, D_X, D_Y):\n",
    "    \"\"\"Prints model information for the generators and discriminators.\n",
    "    \"\"\"\n",
    "    print(\"                 G                     \")\n",
    "    print(\"---------------------------------------\")\n",
    "    print(G_XtoY)\n",
    "    print(\"---------------------------------------\")\n",
    "\n",
    "    print(\"                  D                    \")\n",
    "    print(\"---------------------------------------\")\n",
    "    print(D_X)\n",
    "    print(\"---------------------------------------\")\n",
    "\n",
    "\n",
    "def create_model(opts):\n",
    "    \"\"\"Builds the generators and discriminators.\n",
    "    \"\"\"\n",
    "    ### GAN\n",
    "    G = DCGenerator(noise_size=opts.noise_size, conv_dim=opts.g_conv_dim, spectral_norm=opts.spectral_norm)\n",
    "    D = DCDiscriminator(conv_dim=opts.d_conv_dim, spectral_norm=opts.spectral_norm)\n",
    "\n",
    "    print_models(G, None, D, None)\n",
    "\n",
    "    if torch.cuda.is_available():\n",
    "        G.cuda()\n",
    "        D.cuda()\n",
    "        print('Models moved to GPU.')\n",
    "    return G, D\n",
    "\n",
    "def train(opts):\n",
    "    \"\"\"Loads the data, creates checkpoint and sample directories, and starts the training loop.\n",
    "    \"\"\"\n",
    "\n",
    "    # Create train and test dataloaders for images from the two domains X and Y\n",
    "    dataloader_X, test_dataloader_X = get_emoji_loader(emoji_type=opts.X, opts=opts)\n",
    "    \n",
    "    # Create checkpoint and sample directories\n",
    "    create_dir(opts.checkpoint_dir)\n",
    "    create_dir(opts.sample_dir)\n",
    "\n",
    "    # Start training\n",
    "    if opts.least_squares_gan:\n",
    "        G, D = gan_training_loop_leastsquares(dataloader_X, test_dataloader_X, opts)\n",
    "    else:\n",
    "        G, D = gan_training_loop_regular(dataloader_X, test_dataloader_X, opts)\n",
    "        \n",
    "    return G, D\n",
    "\n",
    "def print_opts(opts):\n",
    "    \"\"\"Prints the values of all command-line arguments.\n",
    "    \"\"\"\n",
    "    print('=' * 80)\n",
    "    print('Opts'.center(80))\n",
    "    print('-' * 80)\n",
    "    for key in opts.__dict__:\n",
    "        if opts.__dict__[key]:\n",
    "            print('{:>30}: {:<30}'.format(key, opts.__dict__[key]).center(80))\n",
    "    print('=' * 80)\n"
   ]
  },
  {
   "cell_type": "markdown",
   "metadata": {
    "id": "bXNsLNkOn38w"
   },
   "source": [
    "# Your code for generators and discriminators"
   ]
  },
  {
   "cell_type": "markdown",
   "metadata": {
    "id": "u0KxX0sDpXKb"
   },
   "source": [
    "## Helper modules"
   ]
  },
  {
   "cell_type": "code",
   "execution_count": 5,
   "metadata": {
    "id": "y7s0etAmpUgT"
   },
   "outputs": [],
   "source": [
    "def sample_noise(batch_size, dim):\n",
    "    \"\"\"\n",
    "    Generate a PyTorch Tensor of uniform random noise.\n",
    "\n",
    "    Input:\n",
    "    - batch_size: Integer giving the batch size of noise to generate.\n",
    "    - dim: Integer giving the dimension of noise to generate.\n",
    "\n",
    "    Output:\n",
    "    - A PyTorch Tensor of shape (batch_size, dim, 1, 1) containing uniform\n",
    "      random noise in the range (-1, 1).\n",
    "    \"\"\"\n",
    "    return to_var(torch.rand(batch_size, dim) * 2 - 1).unsqueeze(2).unsqueeze(3)\n",
    "  \n",
    "\n",
    "def upconv(in_channels, out_channels, kernel_size, stride=2, padding=2, batch_norm=True, spectral_norm=False):\n",
    "    \"\"\"Creates a upsample-and-convolution layer, with optional batch normalization.\n",
    "    \"\"\"\n",
    "    layers = []\n",
    "    if stride>1:\n",
    "        layers.append(nn.Upsample(scale_factor=stride))\n",
    "    conv_layer = nn.Conv2d(in_channels=in_channels, out_channels=out_channels, kernel_size=kernel_size, stride=1, padding=padding, bias=False)\n",
    "    if spectral_norm:\n",
    "        layers.append(SpectralNorm(conv_layer))\n",
    "    else:\n",
    "        layers.append(conv_layer)\n",
    "    if batch_norm:\n",
    "        layers.append(nn.BatchNorm2d(out_channels))\n",
    "    return nn.Sequential(*layers)\n",
    "\n",
    "\n",
    "def conv(in_channels, out_channels, kernel_size, stride=2, padding=2, batch_norm=True, init_zero_weights=False, spectral_norm=False):\n",
    "    \"\"\"Creates a convolutional layer, with optional batch normalization.\n",
    "    \"\"\"\n",
    "    layers = []\n",
    "    conv_layer = nn.Conv2d(in_channels=in_channels, out_channels=out_channels, kernel_size=kernel_size, stride=stride, padding=padding, bias=False)\n",
    "    if init_zero_weights:\n",
    "        conv_layer.weight.data = torch.randn(out_channels, in_channels, kernel_size, kernel_size) * 0.001\n",
    "            \n",
    "    if spectral_norm:\n",
    "        layers.append(SpectralNorm(conv_layer))\n",
    "    else:\n",
    "        layers.append(conv_layer)\n",
    "\n",
    "    if batch_norm:\n",
    "        layers.append(nn.BatchNorm2d(out_channels))\n",
    "    return nn.Sequential(*layers)\n",
    "  \n",
    "\n",
    "class ResnetBlock(nn.Module):\n",
    "    def __init__(self, conv_dim):\n",
    "        super(ResnetBlock, self).__init__()\n",
    "        self.conv_layer = conv(in_channels=conv_dim, out_channels=conv_dim, kernel_size=3, stride=1, padding=1)\n",
    "\n",
    "    def forward(self, x):\n",
    "        out = x + self.conv_layer(x)\n",
    "        return out"
   ]
  },
  {
   "cell_type": "markdown",
   "metadata": {
    "id": "S0_YbBwe5k35"
   },
   "source": [
    "## DCGAN"
   ]
  },
  {
   "cell_type": "markdown",
   "metadata": {
    "id": "m1E_jDaBLT1P"
   },
   "source": [
    "### Spectral Norm class"
   ]
  },
  {
   "cell_type": "code",
   "execution_count": 6,
   "metadata": {
    "id": "2hy97i1-LT1Q"
   },
   "outputs": [],
   "source": [
    "def l2normalize(v, eps=1e-12):\n",
    "    return v / (v.norm() + eps)\n",
    "\n",
    "\n",
    "class SpectralNorm(nn.Module):\n",
    "    def __init__(self, module, name='weight', power_iterations=1):\n",
    "        super(SpectralNorm, self).__init__()\n",
    "        self.module = module\n",
    "        self.name = name\n",
    "        self.power_iterations = power_iterations\n",
    "        if not self._made_params():\n",
    "            self._make_params()\n",
    "\n",
    "    def _update_u_v(self):\n",
    "        u = getattr(self.module, self.name + \"_u\")\n",
    "        v = getattr(self.module, self.name + \"_v\")\n",
    "        w = getattr(self.module, self.name + \"_bar\")\n",
    "\n",
    "        height = w.data.shape[0]\n",
    "        for _ in range(self.power_iterations):\n",
    "            v.data = l2normalize(torch.mv(torch.t(w.view(height,-1).data), u.data))\n",
    "            u.data = l2normalize(torch.mv(w.view(height,-1).data, v.data))\n",
    "\n",
    "        # sigma = torch.dot(u.data, torch.mv(w.view(height,-1).data, v.data))\n",
    "        sigma = u.dot(w.view(height, -1).mv(v))\n",
    "        setattr(self.module, self.name, w / sigma.expand_as(w))\n",
    "\n",
    "    def _made_params(self):\n",
    "        try:\n",
    "            u = getattr(self.module, self.name + \"_u\")\n",
    "            v = getattr(self.module, self.name + \"_v\")\n",
    "            w = getattr(self.module, self.name + \"_bar\")\n",
    "            return True\n",
    "        except AttributeError:\n",
    "            return False\n",
    "\n",
    "    def _make_params(self):\n",
    "        w = getattr(self.module, self.name)\n",
    "\n",
    "        height = w.data.shape[0]\n",
    "        width = w.view(height, -1).data.shape[1]\n",
    "\n",
    "        u = Parameter(w.data.new(height).normal_(0, 1), requires_grad=False)\n",
    "        v = Parameter(w.data.new(width).normal_(0, 1), requires_grad=False)\n",
    "        u.data = l2normalize(u.data)\n",
    "        v.data = l2normalize(v.data)\n",
    "        w_bar = Parameter(w.data)\n",
    "\n",
    "        del self.module._parameters[self.name]\n",
    "\n",
    "        self.module.register_parameter(self.name + \"_u\", u)\n",
    "        self.module.register_parameter(self.name + \"_v\", v)\n",
    "        self.module.register_parameter(self.name + \"_bar\", w_bar)\n",
    "\n",
    "    def forward(self, *args):\n",
    "        self._update_u_v()\n",
    "        return self.module.forward(*args)"
   ]
  },
  {
   "cell_type": "markdown",
   "metadata": {
    "id": "_BAfi_8yWB3y"
   },
   "source": [
    "### **[Your Task]** GAN generator"
   ]
  },
  {
   "cell_type": "code",
   "execution_count": 9,
   "metadata": {
    "id": "9ztmyA5Ro67o"
   },
   "outputs": [],
   "source": [
    "class DCGenerator(nn.Module):\n",
    "    def __init__(self, noise_size, conv_dim, spectral_norm=False):\n",
    "        super(DCGenerator, self).__init__()\n",
    "\n",
    "        self.conv_dim = conv_dim\n",
    "        print(\"conv dim. \", conv_dim)\n",
    "        ###########################################\n",
    "        ##   FILL THIS IN: CREATE ARCHITECTURE   ##\n",
    "        ###########################################\n",
    "        \n",
    "        self.linear_bn = upconv(noise_size, self.conv_dim*4*4*4, kernel_size=1, stride=1, padding=0,\n",
    "                                batch_norm=True, spectral_norm=spectral_norm)\n",
    "        self.upconv1 = upconv(conv_dim*4, conv_dim*2, kernel_size=5, stride=2, padding=2, \n",
    "                              batch_norm=True, spectral_norm=spectral_norm)\n",
    "        self.upconv2 = upconv(conv_dim*2, conv_dim, kernel_size=5, stride=2, padding=2, \n",
    "                              batch_norm=True, spectral_norm=spectral_norm)\n",
    "        self.upconv3 = upconv(conv_dim, 3, kernel_size=5, stride=2, padding=2, \n",
    "                              batch_norm=False, spectral_norm=spectral_norm)\n",
    "\n",
    "    def forward(self, z):\n",
    "        \"\"\"Generates an image given a sample of random noise.\n",
    "\n",
    "            Input\n",
    "            -----\n",
    "                z: BS x noise_size x 1 x 1   -->  BSx100x1x1 (during training)\n",
    "\n",
    "            Output\n",
    "            ------\n",
    "                out: BS x channels x image_width x image_height  -->  BSx3x32x32 (during training)\n",
    "        \"\"\"\n",
    "\n",
    "        \n",
    "        batch_size = z.size(0)\n",
    "        \n",
    "        out = F.relu(self.linear_bn(z)).view(-1, self.conv_dim*4, 4, 4)    # BS x 128 x 4 x 4\n",
    "#         print(\"out 1 shape (BS x 128 x 4 x 4)\", out.shape)\n",
    "        out = F.relu(self.upconv1(out))  # BS x 64 x 8 x 8\n",
    "#         print(\"out 2 shape (BS x 64 x 8 x 8)\", out.shape)\n",
    "        out = F.relu(self.upconv2(out))  # BS x 32 x 16 x 16\n",
    "#         print(\"out 3 shape (BS x 32 x 16 x 16)\", out.shape)\n",
    "        out = F.tanh(self.upconv3(out))  # BS x 3 x 32 x 32\n",
    "#         print(\"out 4 shape (BS x 3 x 32 x 32)\", out.shape)\n",
    "        \n",
    "        out_size = out.size()\n",
    "        if out_size != torch.Size([batch_size, 3, 32, 32]):\n",
    "            raise ValueError(\"expect {} x 3 x 32 x 32, but get {}\".format(batch_size, out_size))\n",
    "        return out\n"
   ]
  },
  {
   "cell_type": "markdown",
   "metadata": {
    "id": "cG4uqAVPp8_B"
   },
   "source": [
    "### GAN discriminator"
   ]
  },
  {
   "cell_type": "code",
   "execution_count": 10,
   "metadata": {
    "id": "0GkjXydnqARR"
   },
   "outputs": [],
   "source": [
    "class DCDiscriminator(nn.Module):\n",
    "    \"\"\"Defines the architecture of the discriminator network.\n",
    "       Note: Both discriminators D_X and D_Y have the same architecture in this assignment.\n",
    "    \"\"\"\n",
    "    def __init__(self, conv_dim=64, spectral_norm=False):\n",
    "        super(DCDiscriminator, self).__init__()\n",
    "\n",
    "\n",
    "        self.conv1 = conv(in_channels=3, out_channels=conv_dim, kernel_size=5, stride=2, spectral_norm=spectral_norm)\n",
    "        self.conv2 = conv(in_channels=conv_dim, out_channels=conv_dim*2, kernel_size=5, stride=2, spectral_norm=spectral_norm)\n",
    "        self.conv3 = conv(in_channels=conv_dim*2, out_channels=conv_dim*4, kernel_size=5, stride=2, spectral_norm=spectral_norm)\n",
    "        self.conv4 = conv(in_channels=conv_dim*4, out_channels=1, kernel_size=5, stride=2, padding=1, batch_norm=False, spectral_norm=spectral_norm)\n",
    "\n",
    "    def forward(self, x):\n",
    "        batch_size = x.size(0)\n",
    "\n",
    "        out = F.relu(self.conv1(x))    # BS x 64 x 16 x 16\n",
    "        out = F.relu(self.conv2(out))    # BS x 64 x 8 x 8\n",
    "        out = F.relu(self.conv3(out))    # BS x 64 x 4 x 4\n",
    "\n",
    "        out = self.conv4(out).squeeze()\n",
    "        out_size = out.size()\n",
    "        if out_size != torch.Size([batch_size,]):\n",
    "            raise ValueError(\"expect {} x 1, but get {}\".format(batch_size, out_size))\n",
    "        return out"
   ]
  },
  {
   "cell_type": "markdown",
   "metadata": {
    "id": "G8RtBMu55ysm"
   },
   "source": [
    "### **[Your Task]** GAN training loop \n",
    "\n",
    "\n",
    "*   Regular GAN\n",
    "*   Least Squares GAN\n",
    "\n"
   ]
  },
  {
   "cell_type": "code",
   "execution_count": 47,
   "metadata": {
    "id": "MxIJ2Zua51KI"
   },
   "outputs": [],
   "source": [
    "def gan_training_loop_regular(dataloader, test_dataloader, opts):\n",
    "    \"\"\"Runs the training loop.\n",
    "        * Saves checkpoint every opts.checkpoint_every iterations\n",
    "        * Saves generated samples every opts.sample_every iterations\n",
    "    \"\"\"\n",
    "\n",
    "    # Create generators and discriminators\n",
    "    G, D = create_model(opts)\n",
    "\n",
    "    g_params = G.parameters()  # Get generator parameters\n",
    "    d_params = D.parameters()  # Get discriminator parameters\n",
    "\n",
    "    # Create optimizers for the generators and discriminators\n",
    "    g_optimizer = optim.Adam(g_params, opts.lr, [opts.beta1, opts.beta2])\n",
    "    d_optimizer = optim.Adam(d_params, opts.lr * 2., [opts.beta1, opts.beta2])\n",
    "\n",
    "    train_iter = iter(dataloader)\n",
    "\n",
    "    test_iter = iter(test_dataloader)\n",
    "\n",
    "    # Get some fixed data from domains X and Y for sampling. These are images that are held\n",
    "    # constant throughout training, that allow us to inspect the model's performance.\n",
    "    fixed_noise = sample_noise(100, opts.noise_size)  # # 100 x noise_size x 1 x 1\n",
    "\n",
    "    iter_per_epoch = len(train_iter)\n",
    "    total_train_iters = opts.train_iters\n",
    "\n",
    "    losses = {\"iteration\": [], \"D_fake_loss\": [], \"D_real_loss\": [], \"G_loss\": []}\n",
    "    \n",
    "    gp_weight = 1\n",
    "\n",
    "    adversarial_loss = torch.nn.BCEWithLogitsLoss() # Use this loss\n",
    "    # [Hint: you may find the folowing code helpful]\n",
    "    # ones = Variable(torch.Tensor(real_images.shape[0]).float().cuda().fill_(1.0), requires_grad=False)\n",
    "\n",
    "    try:\n",
    "        for iteration in range(1, opts.train_iters + 1):\n",
    "\n",
    "            # Reset data_iter for each epoch\n",
    "            if iteration % iter_per_epoch == 0:\n",
    "                train_iter = iter(dataloader)\n",
    "\n",
    "            real_images, real_labels = train_iter.next()\n",
    "            real_images, real_labels = to_var(real_images), to_var(real_labels).long().squeeze()\n",
    "            \n",
    "\n",
    "            for d_i in range(opts.d_train_iters):\n",
    "                d_optimizer.zero_grad()\n",
    "\n",
    "                # FILL THIS IN\n",
    "                # 1. Compute the discriminator loss on real images\n",
    "                D_real_loss = -1 * torch.mean(torch.log(D(real_images)))\n",
    "                \n",
    "\n",
    "                # 2. Sample noise\n",
    "                ### batch size is real_images.shape[0]\n",
    "                noise = sample_noise(real_images.shape[0], opts.noise_size)\n",
    "\n",
    "                # 3. Generate fake images from the noise\n",
    "                fake_images = G(noise)\n",
    "\n",
    "                # 4. Compute the discriminator loss on the fake images\n",
    "                D_fake_loss = -1 * torch.mean(torch.log(1 - D(fake_images)))\n",
    "\n",
    "                # ---- Gradient Penalty ----\n",
    "                if opts.gradient_penalty:\n",
    "                    alpha = torch.rand(real_images.shape[0], 1, 1, 1)\n",
    "                    alpha = alpha.expand_as(real_images).cuda()\n",
    "                    interp_images = Variable(alpha * real_images.data + (1 - alpha) * fake_images.data, \n",
    "                                             requires_grad=True).cuda()\n",
    "                    D_interp_output = D(interp_images)\n",
    "\n",
    "                    gradients = torch.autograd.grad(outputs=D_interp_output, inputs=interp_images,\n",
    "                                                    grad_outputs=torch.ones(D_interp_output.size()).cuda(),\n",
    "                                                    create_graph=True, retain_graph=True)[0]\n",
    "                    gradients = gradients.view(real_images.shape[0], -1)\n",
    "                    gradients_norm = torch.sqrt(torch.sum(gradients ** 2, dim=1) + 1e-12)\n",
    "\n",
    "                    gp = gp_weight * gradients_norm.mean()\n",
    "                else:\n",
    "                    gp = 0.0\n",
    "\n",
    "                # --------------------------\n",
    "                # 5. Compute the total discriminator loss\n",
    "                D_total_loss = D_real_loss + D_fake_loss + gp\n",
    "\n",
    "                D_total_loss.backward()\n",
    "                d_optimizer.step()\n",
    "\n",
    "            ###########################################\n",
    "            ###          TRAIN THE GENERATOR        ###\n",
    "            ###########################################\n",
    "\n",
    "            g_optimizer.zero_grad()\n",
    "\n",
    "            # FILL THIS IN\n",
    "            # 1. Sample noise\n",
    "            noise = sample_noise(real_images.shape[0], opts.noise_size)\n",
    "\n",
    "            # 2. Generate fake images from the noise\n",
    "            fake_images = G(noise)\n",
    "\n",
    "            # 3. Compute the generator loss\n",
    "            G_loss = -1 * torch.mean(torch.log(D(fake_images)))\n",
    "\n",
    "            G_loss.backward()\n",
    "            g_optimizer.step()\n",
    "\n",
    "            # Print the log info\n",
    "            if iteration % opts.log_step == 0:\n",
    "                losses['iteration'].append(iteration)\n",
    "                losses['D_real_loss'].append(D_real_loss.item())\n",
    "                losses['D_fake_loss'].append(D_fake_loss.item())\n",
    "                losses['G_loss'].append(G_loss.item())\n",
    "                print('Iteration [{:4d}/{:4d}] | D_real_loss: \\\n",
    "                {:6.4f} | D_fake_loss: {:6.4f} | G_loss: {:6.4f}'.format(\n",
    "                    iteration, total_train_iters, D_real_loss.item(), D_fake_loss.item(), G_loss.item()))\n",
    "\n",
    "            # Save the generated samples\n",
    "            if iteration % opts.sample_every == 0:\n",
    "                gan_save_samples(G, fixed_noise, iteration, opts)\n",
    "\n",
    "            # Save the model parameters\n",
    "            if iteration % opts.checkpoint_every == 0:\n",
    "                gan_checkpoint(iteration, G, D, opts)\n",
    "\n",
    "    except KeyboardInterrupt:\n",
    "        print('Exiting early from training.')\n",
    "        return G, D\n",
    "\n",
    "    plt.figure()\n",
    "    plt.plot(losses['iteration'], losses['D_real_loss'], label='D_real')\n",
    "    plt.plot(losses['iteration'], losses['D_fake_loss'], label='D_fake')\n",
    "    plt.plot(losses['iteration'], losses['G_loss'], label='G')\n",
    "    plt.legend()\n",
    "    plt.savefig(os.path.join(opts.sample_dir, 'losses.png'))\n",
    "    plt.close()\n",
    "    return G, D"
   ]
  },
  {
   "cell_type": "code",
   "execution_count": 11,
   "metadata": {
    "id": "cCla1-2mezfn"
   },
   "outputs": [],
   "source": [
    "def gan_training_loop_leastsquares(dataloader, test_dataloader, opts):\n",
    "    \"\"\"Runs the training loop.\n",
    "        * Saves checkpoint every opts.checkpoint_every iterations\n",
    "        * Saves generated samples every opts.sample_every iterations\n",
    "    \"\"\"\n",
    "\n",
    "    # Create generators and discriminators\n",
    "    G, D = create_model(opts)\n",
    "\n",
    "    g_params = G.parameters()  # Get generator parameters\n",
    "    d_params = D.parameters()  # Get discriminator parameters\n",
    "\n",
    "    # Create optimizers for the generators and discriminators\n",
    "    g_optimizer = optim.Adam(g_params, opts.lr, [opts.beta1, opts.beta2])\n",
    "    d_optimizer = optim.Adam(d_params, opts.lr * 2., [opts.beta1, opts.beta2])\n",
    "\n",
    "    train_iter = iter(dataloader)\n",
    "\n",
    "    test_iter = iter(test_dataloader)\n",
    "\n",
    "    # Get some fixed data from domains X and Y for sampling. These are images that are held\n",
    "    # constant throughout training, that allow us to inspect the model's performance.\n",
    "    fixed_noise = sample_noise(100, opts.noise_size)  # # 100 x noise_size x 1 x 1\n",
    "\n",
    "    iter_per_epoch = len(train_iter)\n",
    "    total_train_iters = opts.train_iters\n",
    "\n",
    "    losses = {\"iteration\": [], \"D_fake_loss\": [], \"D_real_loss\": [], \"G_loss\": []}\n",
    "\n",
    "    #adversarial_loss = torch.nn.BCEWithLogitsLoss()\n",
    "    gp_weight = 1\n",
    "\n",
    "    try:\n",
    "        for iteration in range(1, opts.train_iters + 1):\n",
    "\n",
    "            # Reset data_iter for each epoch\n",
    "            if iteration % iter_per_epoch == 0:\n",
    "                train_iter = iter(dataloader)\n",
    "\n",
    "            real_images, real_labels = train_iter.next()\n",
    "            real_images, real_labels = to_var(real_images), to_var(real_labels).long().squeeze()\n",
    "\n",
    "\n",
    "            for d_i in range(opts.d_train_iters):\n",
    "                d_optimizer.zero_grad()\n",
    "\n",
    "                # FILL THIS IN\n",
    "                # 1. Compute the discriminator loss on real images\n",
    "                D_real_loss = torch.mean((D(real_images) - 1) ** 2) /2\n",
    "\n",
    "                # 2. Sample noise\n",
    "                ### batch size is real_images.shape[0]\n",
    "                noise = sample_noise(real_images.shape[0], opts.noise_size)\n",
    "\n",
    "                # 3. Generate fake images from the noise\n",
    "                fake_images = G(noise)\n",
    "\n",
    "                # 4. Compute the discriminator loss on the fake images\n",
    "                D_fake_loss = torch.mean(D(fake_images) ** 2) /2\n",
    "\n",
    "                # ---- Gradient Penalty ----\n",
    "                if opts.gradient_penalty:\n",
    "                    alpha = torch.rand(real_images.shape[0], 1, 1, 1)\n",
    "                    alpha = alpha.expand_as(real_images).cuda()\n",
    "                    interp_images = Variable(alpha * real_images.data + (1 - alpha) * \n",
    "                                             fake_images.data, requires_grad=True).cuda()\n",
    "                    D_interp_output = D(interp_images)\n",
    "\n",
    "                    gradients = torch.autograd.grad(outputs=D_interp_output, inputs=interp_images,\n",
    "                                                    grad_outputs=torch.ones(D_interp_output.size()).cuda(),\n",
    "                                                    create_graph=True, retain_graph=True)[0]\n",
    "                    gradients = gradients.view(real_images.shape[0], -1)\n",
    "                    gradients_norm = torch.sqrt(torch.sum(gradients ** 2, dim=1) + 1e-12)\n",
    "\n",
    "                    gp = gp_weight * gradients_norm.mean()\n",
    "                else:\n",
    "                    gp = 0.0\n",
    "\n",
    "                # --------------------------\n",
    "                # 5. Compute the total discriminator loss\n",
    "                D_total_loss = D_real_loss + D_fake_loss + gp\n",
    "\n",
    "                D_total_loss.backward()\n",
    "                d_optimizer.step()\n",
    "\n",
    "            ###########################################\n",
    "            ###          TRAIN THE GENERATOR        ###\n",
    "            ###########################################\n",
    "\n",
    "            g_optimizer.zero_grad()\n",
    "\n",
    "            # FILL THIS IN\n",
    "            # 1. Sample noise\n",
    "            noise = sample_noise(real_images.shape[0], opts.noise_size)\n",
    "\n",
    "            # 2. Generate fake images from the noise\n",
    "            fake_images = G(noise)\n",
    "\n",
    "            # 3. Compute the generator loss\n",
    "            G_loss = torch.mean((D(fake_images) - 1) ** 2)\n",
    "\n",
    "            G_loss.backward()\n",
    "            g_optimizer.step()\n",
    "\n",
    "            # Print the log info\n",
    "            if iteration % opts.log_step == 0:\n",
    "                losses['iteration'].append(iteration)\n",
    "                losses['D_real_loss'].append(D_real_loss.item())\n",
    "                losses['D_fake_loss'].append(D_fake_loss.item())\n",
    "                losses['G_loss'].append(G_loss.item())\n",
    "                print('Iteration [{:4d}/{:4d}] | D_real_loss: {:6.4f} | \\\n",
    "                D_fake_loss: {:6.4f} | G_loss: {:6.4f}'.format(\n",
    "                    iteration, total_train_iters, D_real_loss.item(), D_fake_loss.item(), G_loss.item()))\n",
    "\n",
    "            # Save the generated samples\n",
    "            if iteration % opts.sample_every == 0:\n",
    "                gan_save_samples(G, fixed_noise, iteration, opts)\n",
    "\n",
    "            # Save the model parameters\n",
    "            if iteration % opts.checkpoint_every == 0:\n",
    "                gan_checkpoint(iteration, G, D, opts)\n",
    "\n",
    "    except KeyboardInterrupt:\n",
    "        print('Exiting early from training.')\n",
    "        return G, D\n",
    "\n",
    "    plt.figure()\n",
    "    plt.plot(losses['iteration'], losses['D_real_loss'], label='D_real')\n",
    "    plt.plot(losses['iteration'], losses['D_fake_loss'], label='D_fake')\n",
    "    plt.plot(losses['iteration'], losses['G_loss'], label='G')\n",
    "    plt.legend()\n",
    "    plt.savefig(os.path.join(opts.sample_dir, 'losses.png'))\n",
    "    plt.close()\n",
    "    return G, D"
   ]
  },
  {
   "cell_type": "markdown",
   "metadata": {
    "id": "XuNFd6LNo0-o"
   },
   "source": [
    "# **[Your Task]** Training\n"
   ]
  },
  {
   "cell_type": "markdown",
   "metadata": {
    "id": "kiUwiOITHTW4"
   },
   "source": [
    "## Download dataset"
   ]
  },
  {
   "cell_type": "code",
   "execution_count": 12,
   "metadata": {
    "id": "xwcFjsEpHRbI"
   },
   "outputs": [
    {
     "name": "stdout",
     "output_type": "stream",
     "text": [
      "data/emojis.tar.gz\n"
     ]
    }
   ],
   "source": [
    "######################################################################\n",
    "# Download Translation datasets\n",
    "######################################################################\n",
    "data_fpath = get_file(fname='emojis', \n",
    "                         origin='http://www.cs.toronto.edu/~jba/emojis.tar.gz', \n",
    "                         untar=True)"
   ]
  },
  {
   "cell_type": "markdown",
   "metadata": {
    "id": "hmQmyJDSRFKR"
   },
   "source": [
    "## Train DCGAN"
   ]
  },
  {
   "cell_type": "code",
   "execution_count": 50,
   "metadata": {},
   "outputs": [
    {
     "name": "stdout",
     "output_type": "stream",
     "text": [
      "================================================================================\n",
      "                                      Opts                                      \n",
      "--------------------------------------------------------------------------------\n",
      "                             image_size: 32                                     \n",
      "                             g_conv_dim: 32                                     \n",
      "                             d_conv_dim: 64                                     \n",
      "                             noise_size: 100                                    \n",
      "                            train_iters: 20000                                  \n",
      "                                      X: Apple                                  \n",
      "                                     lr: 3e-05                                  \n",
      "                                  beta1: 0.5                                    \n",
      "                                  beta2: 0.999                                  \n",
      "                             batch_size: 32                                     \n",
      "                       checkpoint_dir: results/checkpoints_gan_gp1_lr3e-5       \n",
      "                             sample_dir: results/samples_gan_gp1_lr3e-5         \n",
      "                               log_step: 200                                    \n",
      "                           sample_every: 200                                    \n",
      "                       checkpoint_every: 1000                                   \n",
      "                       gradient_penalty: 1                                      \n",
      "                          d_train_iters: 1                                      \n",
      "================================================================================\n",
      "conv dim.  32\n",
      "                 G                     \n",
      "---------------------------------------\n",
      "DCGenerator(\n",
      "  (linear_bn): Sequential(\n",
      "    (0): Conv2d(100, 2048, kernel_size=(1, 1), stride=(1, 1), bias=False)\n",
      "    (1): BatchNorm2d(2048, eps=1e-05, momentum=0.1, affine=True, track_running_stats=True)\n",
      "  )\n",
      "  (upconv1): Sequential(\n",
      "    (0): Upsample(scale_factor=2.0, mode=nearest)\n",
      "    (1): Conv2d(128, 64, kernel_size=(5, 5), stride=(1, 1), padding=(2, 2), bias=False)\n",
      "    (2): BatchNorm2d(64, eps=1e-05, momentum=0.1, affine=True, track_running_stats=True)\n",
      "  )\n",
      "  (upconv2): Sequential(\n",
      "    (0): Upsample(scale_factor=2.0, mode=nearest)\n",
      "    (1): Conv2d(64, 32, kernel_size=(5, 5), stride=(1, 1), padding=(2, 2), bias=False)\n",
      "    (2): BatchNorm2d(32, eps=1e-05, momentum=0.1, affine=True, track_running_stats=True)\n",
      "  )\n",
      "  (upconv3): Sequential(\n",
      "    (0): Upsample(scale_factor=2.0, mode=nearest)\n",
      "    (1): Conv2d(32, 3, kernel_size=(5, 5), stride=(1, 1), padding=(2, 2), bias=False)\n",
      "  )\n",
      ")\n",
      "---------------------------------------\n",
      "                  D                    \n",
      "---------------------------------------\n",
      "DCDiscriminator(\n",
      "  (conv1): Sequential(\n",
      "    (0): Conv2d(3, 64, kernel_size=(5, 5), stride=(2, 2), padding=(2, 2), bias=False)\n",
      "    (1): BatchNorm2d(64, eps=1e-05, momentum=0.1, affine=True, track_running_stats=True)\n",
      "  )\n",
      "  (conv2): Sequential(\n",
      "    (0): Conv2d(64, 128, kernel_size=(5, 5), stride=(2, 2), padding=(2, 2), bias=False)\n",
      "    (1): BatchNorm2d(128, eps=1e-05, momentum=0.1, affine=True, track_running_stats=True)\n",
      "  )\n",
      "  (conv3): Sequential(\n",
      "    (0): Conv2d(128, 256, kernel_size=(5, 5), stride=(2, 2), padding=(2, 2), bias=False)\n",
      "    (1): BatchNorm2d(256, eps=1e-05, momentum=0.1, affine=True, track_running_stats=True)\n",
      "  )\n",
      "  (conv4): Sequential(\n",
      "    (0): Conv2d(256, 1, kernel_size=(5, 5), stride=(2, 2), padding=(1, 1), bias=False)\n",
      "  )\n",
      ")\n",
      "---------------------------------------\n",
      "Models moved to GPU.\n"
     ]
    },
    {
     "name": "stderr",
     "output_type": "stream",
     "text": [
      "Lossy conversion from float32 to uint8. Range [-0.9670770764350891, 0.9953771829605103]. Convert image to uint8 prior to saving to suppress this warning.\n"
     ]
    },
    {
     "name": "stdout",
     "output_type": "stream",
     "text": [
      "Iteration [ 200/20000] | D_real_loss:                    nan | D_fake_loss: -1.4905 | G_loss:    nan\n",
      "Saved results/samples_gan_gp1_lr3e-5/sample-000200.png\n",
      "Exiting early from training.\n",
      "adding image results/samples_gan_gp1_lr3e-5/losses.png\n",
      "adding image results/samples_gan_gp1_lr3e-5/sample-000200.png\n",
      "adding image results/samples_gan_gp1_lr3e-5/sample-000400.png\n",
      "adding image results/samples_gan_gp1_lr3e-5/sample-000600.png\n",
      "adding image results/samples_gan_gp1_lr3e-5/sample-000800.png\n",
      "adding image results/samples_gan_gp1_lr3e-5/sample-001000.png\n",
      "adding image results/samples_gan_gp1_lr3e-5/sample-001200.png\n",
      "adding image results/samples_gan_gp1_lr3e-5/sample-001400.png\n",
      "adding image results/samples_gan_gp1_lr3e-5/sample-001600.png\n",
      "adding image results/samples_gan_gp1_lr3e-5/sample-001800.png\n",
      "adding image results/samples_gan_gp1_lr3e-5/sample-002000.png\n",
      "adding image results/samples_gan_gp1_lr3e-5/sample-002200.png\n",
      "adding image results/samples_gan_gp1_lr3e-5/sample-002400.png\n",
      "adding image results/samples_gan_gp1_lr3e-5/sample-002600.png\n",
      "adding image results/samples_gan_gp1_lr3e-5/sample-002800.png\n",
      "adding image results/samples_gan_gp1_lr3e-5/sample-003000.png\n",
      "adding image results/samples_gan_gp1_lr3e-5/sample-003200.png\n",
      "adding image results/samples_gan_gp1_lr3e-5/sample-003400.png\n",
      "adding image results/samples_gan_gp1_lr3e-5/sample-003600.png\n",
      "adding image results/samples_gan_gp1_lr3e-5/sample-003800.png\n",
      "adding image results/samples_gan_gp1_lr3e-5/sample-004000.png\n",
      "adding image results/samples_gan_gp1_lr3e-5/sample-004200.png\n",
      "adding image results/samples_gan_gp1_lr3e-5/sample-004400.png\n",
      "adding image results/samples_gan_gp1_lr3e-5/sample-004600.png\n",
      "adding image results/samples_gan_gp1_lr3e-5/sample-004800.png\n",
      "adding image results/samples_gan_gp1_lr3e-5/sample-005000.png\n",
      "adding image results/samples_gan_gp1_lr3e-5/sample-005200.png\n",
      "adding image results/samples_gan_gp1_lr3e-5/sample-005400.png\n",
      "adding image results/samples_gan_gp1_lr3e-5/sample-005600.png\n",
      "adding image results/samples_gan_gp1_lr3e-5/sample-005800.png\n",
      "adding image results/samples_gan_gp1_lr3e-5/sample-006000.png\n",
      "adding image results/samples_gan_gp1_lr3e-5/sample-006200.png\n",
      "adding image results/samples_gan_gp1_lr3e-5/sample-006400.png\n",
      "adding image results/samples_gan_gp1_lr3e-5/sample-006600.png\n",
      "adding image results/samples_gan_gp1_lr3e-5/sample-006800.png\n",
      "adding image results/samples_gan_gp1_lr3e-5/sample-007000.png\n",
      "adding image results/samples_gan_gp1_lr3e-5/sample-007200.png\n",
      "adding image results/samples_gan_gp1_lr3e-5/sample-007400.png\n",
      "adding image results/samples_gan_gp1_lr3e-5/sample-007600.png\n",
      "adding image results/samples_gan_gp1_lr3e-5/sample-007800.png\n",
      "adding image results/samples_gan_gp1_lr3e-5/sample-008000.png\n",
      "adding image results/samples_gan_gp1_lr3e-5/sample-008200.png\n",
      "adding image results/samples_gan_gp1_lr3e-5/sample-008400.png\n",
      "adding image results/samples_gan_gp1_lr3e-5/sample-008600.png\n",
      "adding image results/samples_gan_gp1_lr3e-5/sample-008800.png\n",
      "adding image results/samples_gan_gp1_lr3e-5/sample-009000.png\n",
      "adding image results/samples_gan_gp1_lr3e-5/sample-009200.png\n",
      "adding image results/samples_gan_gp1_lr3e-5/sample-009400.png\n",
      "adding image results/samples_gan_gp1_lr3e-5/sample-009600.png\n",
      "adding image results/samples_gan_gp1_lr3e-5/sample-009800.png\n",
      "adding image results/samples_gan_gp1_lr3e-5/sample-010000.png\n",
      "adding image results/samples_gan_gp1_lr3e-5/sample-010200.png\n",
      "adding image results/samples_gan_gp1_lr3e-5/sample-010400.png\n",
      "adding image results/samples_gan_gp1_lr3e-5/sample-010600.png\n",
      "adding image results/samples_gan_gp1_lr3e-5/sample-010800.png\n",
      "adding image results/samples_gan_gp1_lr3e-5/sample-011000.png\n",
      "adding image results/samples_gan_gp1_lr3e-5/sample-011200.png\n",
      "adding image results/samples_gan_gp1_lr3e-5/sample-011400.png\n",
      "adding image results/samples_gan_gp1_lr3e-5/sample-011600.png\n",
      "adding image results/samples_gan_gp1_lr3e-5/sample-011800.png\n",
      "adding image results/samples_gan_gp1_lr3e-5/sample-012000.png\n",
      "adding image results/samples_gan_gp1_lr3e-5/sample-012200.png\n",
      "adding image results/samples_gan_gp1_lr3e-5/sample-012400.png\n",
      "adding image results/samples_gan_gp1_lr3e-5/sample-012600.png\n",
      "adding image results/samples_gan_gp1_lr3e-5/sample-012800.png\n",
      "adding image results/samples_gan_gp1_lr3e-5/sample-013000.png\n",
      "adding image results/samples_gan_gp1_lr3e-5/sample-013200.png\n",
      "adding image results/samples_gan_gp1_lr3e-5/sample-013400.png\n",
      "adding image results/samples_gan_gp1_lr3e-5/sample-013600.png\n",
      "adding image results/samples_gan_gp1_lr3e-5/sample-013800.png\n",
      "adding image results/samples_gan_gp1_lr3e-5/sample-014000.png\n",
      "adding image results/samples_gan_gp1_lr3e-5/sample-014200.png\n",
      "adding image results/samples_gan_gp1_lr3e-5/sample-014400.png\n",
      "adding image results/samples_gan_gp1_lr3e-5/sample-014600.png\n",
      "adding image results/samples_gan_gp1_lr3e-5/sample-014800.png\n",
      "adding image results/samples_gan_gp1_lr3e-5/sample-015000.png\n",
      "adding image results/samples_gan_gp1_lr3e-5/sample-015200.png\n",
      "adding image results/samples_gan_gp1_lr3e-5/sample-015400.png\n",
      "adding image results/samples_gan_gp1_lr3e-5/sample-015600.png\n",
      "adding image results/samples_gan_gp1_lr3e-5/sample-015800.png\n",
      "adding image results/samples_gan_gp1_lr3e-5/sample-016000.png\n",
      "adding image results/samples_gan_gp1_lr3e-5/sample-016200.png\n",
      "adding image results/samples_gan_gp1_lr3e-5/sample-016400.png\n",
      "adding image results/samples_gan_gp1_lr3e-5/sample-016600.png\n",
      "adding image results/samples_gan_gp1_lr3e-5/sample-016800.png\n",
      "adding image results/samples_gan_gp1_lr3e-5/sample-017000.png\n",
      "adding image results/samples_gan_gp1_lr3e-5/sample-017200.png\n",
      "adding image results/samples_gan_gp1_lr3e-5/sample-017400.png\n",
      "adding image results/samples_gan_gp1_lr3e-5/sample-017600.png\n",
      "adding image results/samples_gan_gp1_lr3e-5/sample-017800.png\n",
      "adding image results/samples_gan_gp1_lr3e-5/sample-018000.png\n",
      "adding image results/samples_gan_gp1_lr3e-5/sample-018200.png\n",
      "adding image results/samples_gan_gp1_lr3e-5/sample-018400.png\n",
      "adding image results/samples_gan_gp1_lr3e-5/sample-018600.png\n",
      "adding image results/samples_gan_gp1_lr3e-5/sample-018800.png\n",
      "adding image results/samples_gan_gp1_lr3e-5/sample-019000.png\n",
      "adding image results/samples_gan_gp1_lr3e-5/sample-019200.png\n",
      "adding image results/samples_gan_gp1_lr3e-5/sample-019400.png\n",
      "adding image results/samples_gan_gp1_lr3e-5/sample-019600.png\n",
      "adding image results/samples_gan_gp1_lr3e-5/sample-019800.png\n",
      "adding image results/samples_gan_gp1_lr3e-5/sample-020000.png\n"
     ]
    }
   ],
   "source": [
    "#######regular\n",
    "\n",
    "SEED = 11\n",
    "\n",
    "# Set the random seed manually for reproducibility.\n",
    "np.random.seed(SEED)\n",
    "torch.manual_seed(SEED)\n",
    "if torch.cuda.is_available():\n",
    "    torch.cuda.manual_seed(SEED)\n",
    "\n",
    "\n",
    "args = AttrDict()\n",
    "args_dict = {\n",
    "              'image_size':32, \n",
    "              'g_conv_dim':32, \n",
    "              'd_conv_dim':64,\n",
    "              'noise_size':100,\n",
    "              'num_workers': 0,\n",
    "              'train_iters':20000,\n",
    "              'X':'Apple',  # options: 'Windows' / 'Apple'\n",
    "              'Y': None,\n",
    "              'lr':0.00003,\n",
    "              'beta1':0.5,\n",
    "              'beta2':0.999,\n",
    "              'batch_size':32, \n",
    "              'checkpoint_dir': 'results/checkpoints_gan_gp1_lr3e-5',\n",
    "              'sample_dir': 'results/samples_gan_gp1_lr3e-5',\n",
    "              'load': None,\n",
    "              'log_step':200,\n",
    "              'sample_every':200,\n",
    "              'checkpoint_every':1000,\n",
    "              'spectral_norm': False,\n",
    "              'gradient_penalty': True,\n",
    "              'least_squares_gan': False,\n",
    "              'd_train_iters': 1\n",
    "}\n",
    "args.update(args_dict)\n",
    "\n",
    "print_opts(args)\n",
    "G, D = train(args)\n",
    "\n",
    "generate_gif(\"results/samples_gan_gp1_lr3e-5\")"
   ]
  },
  {
   "cell_type": "code",
   "execution_count": 13,
   "metadata": {
    "id": "0LKaRF1jwhH7",
    "scrolled": true
   },
   "outputs": [
    {
     "name": "stdout",
     "output_type": "stream",
     "text": [
      "================================================================================\n",
      "                                      Opts                                      \n",
      "--------------------------------------------------------------------------------\n",
      "                             image_size: 32                                     \n",
      "                             g_conv_dim: 32                                     \n",
      "                             d_conv_dim: 64                                     \n",
      "                             noise_size: 100                                    \n",
      "                            train_iters: 20000                                  \n",
      "                                      X: Apple                                  \n",
      "                                     lr: 3e-05                                  \n",
      "                                  beta1: 0.5                                    \n",
      "                                  beta2: 0.999                                  \n",
      "                             batch_size: 32                                     \n",
      "                       checkpoint_dir: results/checkpoints_gan_gp1_lr3e-5       \n",
      "                             sample_dir: results/samples_gan_gp1_lr3e-5         \n",
      "                               log_step: 200                                    \n",
      "                           sample_every: 200                                    \n",
      "                       checkpoint_every: 1000                                   \n",
      "                       gradient_penalty: 1                                      \n",
      "                      least_squares_gan: 1                                      \n",
      "                          d_train_iters: 1                                      \n",
      "================================================================================\n",
      "conv dim.  32\n",
      "                 G                     \n",
      "---------------------------------------\n",
      "DCGenerator(\n",
      "  (linear_bn): Sequential(\n",
      "    (0): Conv2d(100, 2048, kernel_size=(1, 1), stride=(1, 1), bias=False)\n",
      "    (1): BatchNorm2d(2048, eps=1e-05, momentum=0.1, affine=True, track_running_stats=True)\n",
      "  )\n",
      "  (upconv1): Sequential(\n",
      "    (0): Upsample(scale_factor=2.0, mode=nearest)\n",
      "    (1): Conv2d(128, 64, kernel_size=(5, 5), stride=(1, 1), padding=(2, 2), bias=False)\n",
      "    (2): BatchNorm2d(64, eps=1e-05, momentum=0.1, affine=True, track_running_stats=True)\n",
      "  )\n",
      "  (upconv2): Sequential(\n",
      "    (0): Upsample(scale_factor=2.0, mode=nearest)\n",
      "    (1): Conv2d(64, 32, kernel_size=(5, 5), stride=(1, 1), padding=(2, 2), bias=False)\n",
      "    (2): BatchNorm2d(32, eps=1e-05, momentum=0.1, affine=True, track_running_stats=True)\n",
      "  )\n",
      "  (upconv3): Sequential(\n",
      "    (0): Upsample(scale_factor=2.0, mode=nearest)\n",
      "    (1): Conv2d(32, 3, kernel_size=(5, 5), stride=(1, 1), padding=(2, 2), bias=False)\n",
      "  )\n",
      ")\n",
      "---------------------------------------\n",
      "                  D                    \n",
      "---------------------------------------\n",
      "DCDiscriminator(\n",
      "  (conv1): Sequential(\n",
      "    (0): Conv2d(3, 64, kernel_size=(5, 5), stride=(2, 2), padding=(2, 2), bias=False)\n",
      "    (1): BatchNorm2d(64, eps=1e-05, momentum=0.1, affine=True, track_running_stats=True)\n",
      "  )\n",
      "  (conv2): Sequential(\n",
      "    (0): Conv2d(64, 128, kernel_size=(5, 5), stride=(2, 2), padding=(2, 2), bias=False)\n",
      "    (1): BatchNorm2d(128, eps=1e-05, momentum=0.1, affine=True, track_running_stats=True)\n",
      "  )\n",
      "  (conv3): Sequential(\n",
      "    (0): Conv2d(128, 256, kernel_size=(5, 5), stride=(2, 2), padding=(2, 2), bias=False)\n",
      "    (1): BatchNorm2d(256, eps=1e-05, momentum=0.1, affine=True, track_running_stats=True)\n",
      "  )\n",
      "  (conv4): Sequential(\n",
      "    (0): Conv2d(256, 1, kernel_size=(5, 5), stride=(2, 2), padding=(1, 1), bias=False)\n",
      "  )\n",
      ")\n",
      "---------------------------------------\n"
     ]
    },
    {
     "name": "stderr",
     "output_type": "stream",
     "text": [
      "/home/maryamebr/anaconda3/envs/new-tf-gpu/lib/python3.7/site-packages/torchvision/transforms/transforms.py:317: UserWarning: The use of the transforms.Scale transform is deprecated, please use transforms.Resize instead.\n",
      "  warnings.warn(\"The use of the transforms.Scale transform is deprecated, \" +\n"
     ]
    },
    {
     "name": "stdout",
     "output_type": "stream",
     "text": [
      "Models moved to GPU.\n"
     ]
    },
    {
     "name": "stderr",
     "output_type": "stream",
     "text": [
      "/home/maryamebr/anaconda3/envs/new-tf-gpu/lib/python3.7/site-packages/PIL/Image.py:946: UserWarning: Palette images with Transparency expressed in bytes should be converted to RGBA images\n",
      "  \"Palette images with Transparency expressed in bytes should be \"\n",
      "/home/maryamebr/anaconda3/envs/new-tf-gpu/lib/python3.7/site-packages/torch/nn/functional.py:1795: UserWarning: nn.functional.tanh is deprecated. Use torch.tanh instead.\n",
      "  warnings.warn(\"nn.functional.tanh is deprecated. Use torch.tanh instead.\")\n"
     ]
    },
    {
     "name": "stdout",
     "output_type": "stream",
     "text": [
      "Iteration [ 200/20000] | D_real_loss: 0.0558 |                 D_fake_loss: 0.0725 | G_loss: 0.3623\n"
     ]
    },
    {
     "name": "stderr",
     "output_type": "stream",
     "text": [
      "Lossy conversion from float32 to uint8. Range [-0.9836665391921997, 0.9961264133453369]. Convert image to uint8 prior to saving to suppress this warning.\n"
     ]
    },
    {
     "name": "stdout",
     "output_type": "stream",
     "text": [
      "Saved results/samples_gan_gp1_lr3e-5/sample-000200.png\n"
     ]
    },
    {
     "name": "stderr",
     "output_type": "stream",
     "text": [
      "Lossy conversion from float32 to uint8. Range [-0.9891908168792725, 0.9996702671051025]. Convert image to uint8 prior to saving to suppress this warning.\n"
     ]
    },
    {
     "name": "stdout",
     "output_type": "stream",
     "text": [
      "Iteration [ 400/20000] | D_real_loss: 0.0634 |                 D_fake_loss: 0.0728 | G_loss: 0.4637\n",
      "Saved results/samples_gan_gp1_lr3e-5/sample-000400.png\n"
     ]
    },
    {
     "name": "stderr",
     "output_type": "stream",
     "text": [
      "Lossy conversion from float32 to uint8. Range [-0.9869199991226196, 0.9999279379844666]. Convert image to uint8 prior to saving to suppress this warning.\n"
     ]
    },
    {
     "name": "stdout",
     "output_type": "stream",
     "text": [
      "Iteration [ 600/20000] | D_real_loss: 0.0492 |                 D_fake_loss: 0.0703 | G_loss: 0.4619\n",
      "Saved results/samples_gan_gp1_lr3e-5/sample-000600.png\n"
     ]
    },
    {
     "name": "stderr",
     "output_type": "stream",
     "text": [
      "Lossy conversion from float32 to uint8. Range [-0.992468535900116, 0.9999628067016602]. Convert image to uint8 prior to saving to suppress this warning.\n"
     ]
    },
    {
     "name": "stdout",
     "output_type": "stream",
     "text": [
      "Iteration [ 800/20000] | D_real_loss: 0.0516 |                 D_fake_loss: 0.0541 | G_loss: 0.4811\n",
      "Saved results/samples_gan_gp1_lr3e-5/sample-000800.png\n"
     ]
    },
    {
     "name": "stderr",
     "output_type": "stream",
     "text": [
      "Lossy conversion from float32 to uint8. Range [-0.9841594099998474, 0.9999321103096008]. Convert image to uint8 prior to saving to suppress this warning.\n"
     ]
    },
    {
     "name": "stdout",
     "output_type": "stream",
     "text": [
      "Iteration [1000/20000] | D_real_loss: 0.0625 |                 D_fake_loss: 0.0438 | G_loss: 0.5190\n",
      "Saved results/samples_gan_gp1_lr3e-5/sample-001000.png\n"
     ]
    },
    {
     "name": "stderr",
     "output_type": "stream",
     "text": [
      "Lossy conversion from float32 to uint8. Range [-0.990145206451416, 0.9996594190597534]. Convert image to uint8 prior to saving to suppress this warning.\n"
     ]
    },
    {
     "name": "stdout",
     "output_type": "stream",
     "text": [
      "Iteration [1200/20000] | D_real_loss: 0.0636 |                 D_fake_loss: 0.0572 | G_loss: 0.5394\n",
      "Saved results/samples_gan_gp1_lr3e-5/sample-001200.png\n"
     ]
    },
    {
     "name": "stderr",
     "output_type": "stream",
     "text": [
      "Lossy conversion from float32 to uint8. Range [-0.9932950139045715, 0.9998076558113098]. Convert image to uint8 prior to saving to suppress this warning.\n"
     ]
    },
    {
     "name": "stdout",
     "output_type": "stream",
     "text": [
      "Iteration [1400/20000] | D_real_loss: 0.0345 |                 D_fake_loss: 0.0789 | G_loss: 0.5005\n",
      "Saved results/samples_gan_gp1_lr3e-5/sample-001400.png\n"
     ]
    },
    {
     "name": "stderr",
     "output_type": "stream",
     "text": [
      "Lossy conversion from float32 to uint8. Range [-0.9903756380081177, 0.9998384714126587]. Convert image to uint8 prior to saving to suppress this warning.\n"
     ]
    },
    {
     "name": "stdout",
     "output_type": "stream",
     "text": [
      "Iteration [1600/20000] | D_real_loss: 0.0300 |                 D_fake_loss: 0.0523 | G_loss: 0.6510\n",
      "Saved results/samples_gan_gp1_lr3e-5/sample-001600.png\n"
     ]
    },
    {
     "name": "stderr",
     "output_type": "stream",
     "text": [
      "Lossy conversion from float32 to uint8. Range [-0.997671365737915, 0.9997785091400146]. Convert image to uint8 prior to saving to suppress this warning.\n"
     ]
    },
    {
     "name": "stdout",
     "output_type": "stream",
     "text": [
      "Iteration [1800/20000] | D_real_loss: 0.0328 |                 D_fake_loss: 0.0535 | G_loss: 0.6837\n",
      "Saved results/samples_gan_gp1_lr3e-5/sample-001800.png\n"
     ]
    },
    {
     "name": "stderr",
     "output_type": "stream",
     "text": [
      "Lossy conversion from float32 to uint8. Range [-0.9927758574485779, 0.9999629855155945]. Convert image to uint8 prior to saving to suppress this warning.\n"
     ]
    },
    {
     "name": "stdout",
     "output_type": "stream",
     "text": [
      "Iteration [2000/20000] | D_real_loss: 0.0406 |                 D_fake_loss: 0.0309 | G_loss: 0.4913\n",
      "Saved results/samples_gan_gp1_lr3e-5/sample-002000.png\n"
     ]
    },
    {
     "name": "stderr",
     "output_type": "stream",
     "text": [
      "Lossy conversion from float32 to uint8. Range [-0.997933030128479, 0.9998225569725037]. Convert image to uint8 prior to saving to suppress this warning.\n"
     ]
    },
    {
     "name": "stdout",
     "output_type": "stream",
     "text": [
      "Iteration [2200/20000] | D_real_loss: 0.0489 |                 D_fake_loss: 0.0387 | G_loss: 0.5081\n",
      "Saved results/samples_gan_gp1_lr3e-5/sample-002200.png\n"
     ]
    },
    {
     "name": "stderr",
     "output_type": "stream",
     "text": [
      "Lossy conversion from float32 to uint8. Range [-0.9992724657058716, 0.9999557137489319]. Convert image to uint8 prior to saving to suppress this warning.\n"
     ]
    },
    {
     "name": "stdout",
     "output_type": "stream",
     "text": [
      "Iteration [2400/20000] | D_real_loss: 0.0647 |                 D_fake_loss: 0.0103 | G_loss: 0.5546\n",
      "Saved results/samples_gan_gp1_lr3e-5/sample-002400.png\n"
     ]
    },
    {
     "name": "stderr",
     "output_type": "stream",
     "text": [
      "Lossy conversion from float32 to uint8. Range [-0.9994468688964844, 0.99989253282547]. Convert image to uint8 prior to saving to suppress this warning.\n"
     ]
    },
    {
     "name": "stdout",
     "output_type": "stream",
     "text": [
      "Iteration [2600/20000] | D_real_loss: 0.0275 |                 D_fake_loss: 0.0416 | G_loss: 0.5566\n",
      "Saved results/samples_gan_gp1_lr3e-5/sample-002600.png\n"
     ]
    },
    {
     "name": "stderr",
     "output_type": "stream",
     "text": [
      "Lossy conversion from float32 to uint8. Range [-0.9996371269226074, 0.9999393820762634]. Convert image to uint8 prior to saving to suppress this warning.\n"
     ]
    },
    {
     "name": "stdout",
     "output_type": "stream",
     "text": [
      "Iteration [2800/20000] | D_real_loss: 0.0222 |                 D_fake_loss: 0.0382 | G_loss: 0.6518\n",
      "Saved results/samples_gan_gp1_lr3e-5/sample-002800.png\n"
     ]
    },
    {
     "name": "stderr",
     "output_type": "stream",
     "text": [
      "Lossy conversion from float32 to uint8. Range [-0.9984535574913025, 0.9999380707740784]. Convert image to uint8 prior to saving to suppress this warning.\n"
     ]
    },
    {
     "name": "stdout",
     "output_type": "stream",
     "text": [
      "Iteration [3000/20000] | D_real_loss: 0.0440 |                 D_fake_loss: 0.0378 | G_loss: 0.7197\n",
      "Saved results/samples_gan_gp1_lr3e-5/sample-003000.png\n"
     ]
    },
    {
     "name": "stderr",
     "output_type": "stream",
     "text": [
      "Lossy conversion from float32 to uint8. Range [-0.9983237981796265, 0.9999427199363708]. Convert image to uint8 prior to saving to suppress this warning.\n"
     ]
    },
    {
     "name": "stdout",
     "output_type": "stream",
     "text": [
      "Iteration [3200/20000] | D_real_loss: 0.0520 |                 D_fake_loss: 0.0137 | G_loss: 0.5366\n",
      "Saved results/samples_gan_gp1_lr3e-5/sample-003200.png\n"
     ]
    },
    {
     "name": "stderr",
     "output_type": "stream",
     "text": [
      "Lossy conversion from float32 to uint8. Range [-0.9969032406806946, 0.9999646544456482]. Convert image to uint8 prior to saving to suppress this warning.\n"
     ]
    },
    {
     "name": "stdout",
     "output_type": "stream",
     "text": [
      "Iteration [3400/20000] | D_real_loss: 0.0249 |                 D_fake_loss: 0.0405 | G_loss: 0.5672\n",
      "Saved results/samples_gan_gp1_lr3e-5/sample-003400.png\n"
     ]
    },
    {
     "name": "stderr",
     "output_type": "stream",
     "text": [
      "Lossy conversion from float32 to uint8. Range [-0.9960228800773621, 0.9998830556869507]. Convert image to uint8 prior to saving to suppress this warning.\n"
     ]
    },
    {
     "name": "stdout",
     "output_type": "stream",
     "text": [
      "Iteration [3600/20000] | D_real_loss: 0.0386 |                 D_fake_loss: 0.0342 | G_loss: 0.4530\n",
      "Saved results/samples_gan_gp1_lr3e-5/sample-003600.png\n"
     ]
    },
    {
     "name": "stderr",
     "output_type": "stream",
     "text": [
      "Lossy conversion from float32 to uint8. Range [-0.997153639793396, 0.9998764991760254]. Convert image to uint8 prior to saving to suppress this warning.\n"
     ]
    },
    {
     "name": "stdout",
     "output_type": "stream",
     "text": [
      "Iteration [3800/20000] | D_real_loss: 0.0204 |                 D_fake_loss: 0.0198 | G_loss: 0.6535\n",
      "Saved results/samples_gan_gp1_lr3e-5/sample-003800.png\n"
     ]
    },
    {
     "name": "stderr",
     "output_type": "stream",
     "text": [
      "Lossy conversion from float32 to uint8. Range [-0.9897193908691406, 0.9998825192451477]. Convert image to uint8 prior to saving to suppress this warning.\n"
     ]
    },
    {
     "name": "stdout",
     "output_type": "stream",
     "text": [
      "Iteration [4000/20000] | D_real_loss: 0.0558 |                 D_fake_loss: 0.0152 | G_loss: 0.6781\n",
      "Saved results/samples_gan_gp1_lr3e-5/sample-004000.png\n"
     ]
    },
    {
     "name": "stderr",
     "output_type": "stream",
     "text": [
      "Lossy conversion from float32 to uint8. Range [-0.9976248741149902, 0.9995876550674438]. Convert image to uint8 prior to saving to suppress this warning.\n"
     ]
    },
    {
     "name": "stdout",
     "output_type": "stream",
     "text": [
      "Iteration [4200/20000] | D_real_loss: 0.0257 |                 D_fake_loss: 0.0220 | G_loss: 0.5299\n",
      "Saved results/samples_gan_gp1_lr3e-5/sample-004200.png\n"
     ]
    },
    {
     "name": "stderr",
     "output_type": "stream",
     "text": [
      "Lossy conversion from float32 to uint8. Range [-0.995206892490387, 0.9999462962150574]. Convert image to uint8 prior to saving to suppress this warning.\n"
     ]
    },
    {
     "name": "stdout",
     "output_type": "stream",
     "text": [
      "Iteration [4400/20000] | D_real_loss: 0.0129 |                 D_fake_loss: 0.0294 | G_loss: 0.7540\n",
      "Saved results/samples_gan_gp1_lr3e-5/sample-004400.png\n"
     ]
    },
    {
     "name": "stderr",
     "output_type": "stream",
     "text": [
      "Lossy conversion from float32 to uint8. Range [-0.995685338973999, 0.9999493360519409]. Convert image to uint8 prior to saving to suppress this warning.\n"
     ]
    },
    {
     "name": "stdout",
     "output_type": "stream",
     "text": [
      "Iteration [4600/20000] | D_real_loss: 0.0326 |                 D_fake_loss: 0.0194 | G_loss: 0.6171\n",
      "Saved results/samples_gan_gp1_lr3e-5/sample-004600.png\n"
     ]
    },
    {
     "name": "stderr",
     "output_type": "stream",
     "text": [
      "Lossy conversion from float32 to uint8. Range [-0.9944676756858826, 0.9998703598976135]. Convert image to uint8 prior to saving to suppress this warning.\n"
     ]
    },
    {
     "name": "stdout",
     "output_type": "stream",
     "text": [
      "Iteration [4800/20000] | D_real_loss: 0.0160 |                 D_fake_loss: 0.0364 | G_loss: 0.7628\n",
      "Saved results/samples_gan_gp1_lr3e-5/sample-004800.png\n"
     ]
    },
    {
     "name": "stderr",
     "output_type": "stream",
     "text": [
      "Lossy conversion from float32 to uint8. Range [-0.9958920478820801, 0.9999234080314636]. Convert image to uint8 prior to saving to suppress this warning.\n"
     ]
    },
    {
     "name": "stdout",
     "output_type": "stream",
     "text": [
      "Iteration [5000/20000] | D_real_loss: 0.0106 |                 D_fake_loss: 0.0210 | G_loss: 0.8785\n",
      "Saved results/samples_gan_gp1_lr3e-5/sample-005000.png\n"
     ]
    },
    {
     "name": "stderr",
     "output_type": "stream",
     "text": [
      "Lossy conversion from float32 to uint8. Range [-0.9938417673110962, 0.9999037981033325]. Convert image to uint8 prior to saving to suppress this warning.\n"
     ]
    },
    {
     "name": "stdout",
     "output_type": "stream",
     "text": [
      "Iteration [5200/20000] | D_real_loss: 0.0138 |                 D_fake_loss: 0.0282 | G_loss: 0.6643\n",
      "Saved results/samples_gan_gp1_lr3e-5/sample-005200.png\n"
     ]
    },
    {
     "name": "stderr",
     "output_type": "stream",
     "text": [
      "Lossy conversion from float32 to uint8. Range [-0.9923668503761292, 0.999968945980072]. Convert image to uint8 prior to saving to suppress this warning.\n"
     ]
    },
    {
     "name": "stdout",
     "output_type": "stream",
     "text": [
      "Iteration [5400/20000] | D_real_loss: 0.0400 |                 D_fake_loss: 0.0083 | G_loss: 0.5727\n",
      "Saved results/samples_gan_gp1_lr3e-5/sample-005400.png\n"
     ]
    },
    {
     "name": "stderr",
     "output_type": "stream",
     "text": [
      "Lossy conversion from float32 to uint8. Range [-0.9906209111213684, 0.9999337196350098]. Convert image to uint8 prior to saving to suppress this warning.\n"
     ]
    },
    {
     "name": "stdout",
     "output_type": "stream",
     "text": [
      "Iteration [5600/20000] | D_real_loss: 0.0145 |                 D_fake_loss: 0.0222 | G_loss: 0.8292\n",
      "Saved results/samples_gan_gp1_lr3e-5/sample-005600.png\n"
     ]
    },
    {
     "name": "stderr",
     "output_type": "stream",
     "text": [
      "Lossy conversion from float32 to uint8. Range [-0.9811186790466309, 0.9999635219573975]. Convert image to uint8 prior to saving to suppress this warning.\n"
     ]
    },
    {
     "name": "stdout",
     "output_type": "stream",
     "text": [
      "Iteration [5800/20000] | D_real_loss: 0.0148 |                 D_fake_loss: 0.0303 | G_loss: 0.6525\n",
      "Saved results/samples_gan_gp1_lr3e-5/sample-005800.png\n"
     ]
    },
    {
     "name": "stderr",
     "output_type": "stream",
     "text": [
      "Lossy conversion from float32 to uint8. Range [-0.9899566173553467, 0.9999542236328125]. Convert image to uint8 prior to saving to suppress this warning.\n"
     ]
    },
    {
     "name": "stdout",
     "output_type": "stream",
     "text": [
      "Iteration [6000/20000] | D_real_loss: 0.0323 |                 D_fake_loss: 0.0144 | G_loss: 0.6631\n",
      "Saved results/samples_gan_gp1_lr3e-5/sample-006000.png\n"
     ]
    },
    {
     "name": "stderr",
     "output_type": "stream",
     "text": [
      "Lossy conversion from float32 to uint8. Range [-0.9890550971031189, 0.9999027848243713]. Convert image to uint8 prior to saving to suppress this warning.\n"
     ]
    },
    {
     "name": "stdout",
     "output_type": "stream",
     "text": [
      "Iteration [6200/20000] | D_real_loss: 0.0028 |                 D_fake_loss: 0.0371 | G_loss: 0.8102\n",
      "Saved results/samples_gan_gp1_lr3e-5/sample-006200.png\n"
     ]
    },
    {
     "name": "stderr",
     "output_type": "stream",
     "text": [
      "Lossy conversion from float32 to uint8. Range [-0.9900715351104736, 0.9999350309371948]. Convert image to uint8 prior to saving to suppress this warning.\n"
     ]
    },
    {
     "name": "stdout",
     "output_type": "stream",
     "text": [
      "Iteration [6400/20000] | D_real_loss: 0.0282 |                 D_fake_loss: 0.0109 | G_loss: 0.6265\n",
      "Saved results/samples_gan_gp1_lr3e-5/sample-006400.png\n"
     ]
    },
    {
     "name": "stderr",
     "output_type": "stream",
     "text": [
      "Lossy conversion from float32 to uint8. Range [-0.9906664490699768, 0.9998910427093506]. Convert image to uint8 prior to saving to suppress this warning.\n"
     ]
    },
    {
     "name": "stdout",
     "output_type": "stream",
     "text": [
      "Iteration [6600/20000] | D_real_loss: 0.0082 |                 D_fake_loss: 0.0277 | G_loss: 0.8043\n",
      "Saved results/samples_gan_gp1_lr3e-5/sample-006600.png\n"
     ]
    },
    {
     "name": "stderr",
     "output_type": "stream",
     "text": [
      "Lossy conversion from float32 to uint8. Range [-0.9786965250968933, 0.9999721050262451]. Convert image to uint8 prior to saving to suppress this warning.\n"
     ]
    },
    {
     "name": "stdout",
     "output_type": "stream",
     "text": [
      "Iteration [6800/20000] | D_real_loss: 0.0106 |                 D_fake_loss: 0.0186 | G_loss: 0.8278\n",
      "Saved results/samples_gan_gp1_lr3e-5/sample-006800.png\n"
     ]
    },
    {
     "name": "stderr",
     "output_type": "stream",
     "text": [
      "Lossy conversion from float32 to uint8. Range [-0.9809240698814392, 0.9999692440032959]. Convert image to uint8 prior to saving to suppress this warning.\n"
     ]
    },
    {
     "name": "stdout",
     "output_type": "stream",
     "text": [
      "Iteration [7000/20000] | D_real_loss: 0.0413 |                 D_fake_loss: 0.0137 | G_loss: 0.5934\n",
      "Saved results/samples_gan_gp1_lr3e-5/sample-007000.png\n"
     ]
    },
    {
     "name": "stderr",
     "output_type": "stream",
     "text": [
      "Lossy conversion from float32 to uint8. Range [-0.9848686456680298, 0.9999169111251831]. Convert image to uint8 prior to saving to suppress this warning.\n"
     ]
    },
    {
     "name": "stdout",
     "output_type": "stream",
     "text": [
      "Iteration [7200/20000] | D_real_loss: 0.0325 |                 D_fake_loss: 0.0239 | G_loss: 0.5595\n",
      "Saved results/samples_gan_gp1_lr3e-5/sample-007200.png\n"
     ]
    },
    {
     "name": "stderr",
     "output_type": "stream",
     "text": [
      "Lossy conversion from float32 to uint8. Range [-0.9631960391998291, 0.9999455809593201]. Convert image to uint8 prior to saving to suppress this warning.\n"
     ]
    },
    {
     "name": "stdout",
     "output_type": "stream",
     "text": [
      "Iteration [7400/20000] | D_real_loss: 0.0077 |                 D_fake_loss: 0.0325 | G_loss: 0.7170\n",
      "Saved results/samples_gan_gp1_lr3e-5/sample-007400.png\n"
     ]
    },
    {
     "name": "stderr",
     "output_type": "stream",
     "text": [
      "Lossy conversion from float32 to uint8. Range [-0.9879375100135803, 0.9997692704200745]. Convert image to uint8 prior to saving to suppress this warning.\n"
     ]
    },
    {
     "name": "stdout",
     "output_type": "stream",
     "text": [
      "Iteration [7600/20000] | D_real_loss: 0.0061 |                 D_fake_loss: 0.0419 | G_loss: 0.6953\n",
      "Saved results/samples_gan_gp1_lr3e-5/sample-007600.png\n"
     ]
    },
    {
     "name": "stderr",
     "output_type": "stream",
     "text": [
      "Lossy conversion from float32 to uint8. Range [-0.9897981286048889, 0.9999191164970398]. Convert image to uint8 prior to saving to suppress this warning.\n"
     ]
    },
    {
     "name": "stdout",
     "output_type": "stream",
     "text": [
      "Iteration [7800/20000] | D_real_loss: 0.0238 |                 D_fake_loss: 0.0184 | G_loss: 0.7881\n",
      "Saved results/samples_gan_gp1_lr3e-5/sample-007800.png\n"
     ]
    },
    {
     "name": "stderr",
     "output_type": "stream",
     "text": [
      "Lossy conversion from float32 to uint8. Range [-0.9928786754608154, 0.9999217391014099]. Convert image to uint8 prior to saving to suppress this warning.\n"
     ]
    },
    {
     "name": "stdout",
     "output_type": "stream",
     "text": [
      "Iteration [8000/20000] | D_real_loss: 0.0551 |                 D_fake_loss: 0.0025 | G_loss: 0.7551\n",
      "Saved results/samples_gan_gp1_lr3e-5/sample-008000.png\n"
     ]
    },
    {
     "name": "stderr",
     "output_type": "stream",
     "text": [
      "Lossy conversion from float32 to uint8. Range [-0.9869359731674194, 0.9998593926429749]. Convert image to uint8 prior to saving to suppress this warning.\n"
     ]
    },
    {
     "name": "stdout",
     "output_type": "stream",
     "text": [
      "Iteration [8200/20000] | D_real_loss: 0.0264 |                 D_fake_loss: 0.0191 | G_loss: 0.6801\n",
      "Saved results/samples_gan_gp1_lr3e-5/sample-008200.png\n"
     ]
    },
    {
     "name": "stderr",
     "output_type": "stream",
     "text": [
      "Lossy conversion from float32 to uint8. Range [-0.9904372692108154, 0.9997252225875854]. Convert image to uint8 prior to saving to suppress this warning.\n"
     ]
    },
    {
     "name": "stdout",
     "output_type": "stream",
     "text": [
      "Iteration [8400/20000] | D_real_loss: 0.0114 |                 D_fake_loss: 0.0229 | G_loss: 0.6638\n",
      "Saved results/samples_gan_gp1_lr3e-5/sample-008400.png\n"
     ]
    },
    {
     "name": "stderr",
     "output_type": "stream",
     "text": [
      "Lossy conversion from float32 to uint8. Range [-0.9879539608955383, 0.9998176097869873]. Convert image to uint8 prior to saving to suppress this warning.\n"
     ]
    },
    {
     "name": "stdout",
     "output_type": "stream",
     "text": [
      "Iteration [8600/20000] | D_real_loss: 0.0023 |                 D_fake_loss: 0.0278 | G_loss: 0.9091\n",
      "Saved results/samples_gan_gp1_lr3e-5/sample-008600.png\n"
     ]
    },
    {
     "name": "stderr",
     "output_type": "stream",
     "text": [
      "Lossy conversion from float32 to uint8. Range [-0.9959837794303894, 0.9998644590377808]. Convert image to uint8 prior to saving to suppress this warning.\n"
     ]
    },
    {
     "name": "stdout",
     "output_type": "stream",
     "text": [
      "Iteration [8800/20000] | D_real_loss: 0.0086 |                 D_fake_loss: 0.0129 | G_loss: 0.9663\n",
      "Saved results/samples_gan_gp1_lr3e-5/sample-008800.png\n"
     ]
    },
    {
     "name": "stderr",
     "output_type": "stream",
     "text": [
      "Lossy conversion from float32 to uint8. Range [-0.9971057176589966, 0.9998875260353088]. Convert image to uint8 prior to saving to suppress this warning.\n"
     ]
    },
    {
     "name": "stdout",
     "output_type": "stream",
     "text": [
      "Iteration [9000/20000] | D_real_loss: 0.0468 |                 D_fake_loss: 0.0125 | G_loss: 0.5803\n",
      "Saved results/samples_gan_gp1_lr3e-5/sample-009000.png\n"
     ]
    },
    {
     "name": "stderr",
     "output_type": "stream",
     "text": [
      "Lossy conversion from float32 to uint8. Range [-0.9950900077819824, 0.9999173879623413]. Convert image to uint8 prior to saving to suppress this warning.\n"
     ]
    },
    {
     "name": "stdout",
     "output_type": "stream",
     "text": [
      "Iteration [9200/20000] | D_real_loss: 0.0271 |                 D_fake_loss: 0.0117 | G_loss: 0.7628\n",
      "Saved results/samples_gan_gp1_lr3e-5/sample-009200.png\n"
     ]
    },
    {
     "name": "stderr",
     "output_type": "stream",
     "text": [
      "Lossy conversion from float32 to uint8. Range [-0.9909053444862366, 0.9999740719795227]. Convert image to uint8 prior to saving to suppress this warning.\n"
     ]
    },
    {
     "name": "stdout",
     "output_type": "stream",
     "text": [
      "Iteration [9400/20000] | D_real_loss: 0.0093 |                 D_fake_loss: 0.0050 | G_loss: 0.8739\n",
      "Saved results/samples_gan_gp1_lr3e-5/sample-009400.png\n"
     ]
    },
    {
     "name": "stderr",
     "output_type": "stream",
     "text": [
      "Lossy conversion from float32 to uint8. Range [-0.9942192435264587, 0.9998655319213867]. Convert image to uint8 prior to saving to suppress this warning.\n"
     ]
    },
    {
     "name": "stdout",
     "output_type": "stream",
     "text": [
      "Iteration [9600/20000] | D_real_loss: 0.0054 |                 D_fake_loss: 0.0294 | G_loss: 0.7383\n",
      "Saved results/samples_gan_gp1_lr3e-5/sample-009600.png\n"
     ]
    },
    {
     "name": "stderr",
     "output_type": "stream",
     "text": [
      "Lossy conversion from float32 to uint8. Range [-0.9947971105575562, 0.9998757243156433]. Convert image to uint8 prior to saving to suppress this warning.\n"
     ]
    },
    {
     "name": "stdout",
     "output_type": "stream",
     "text": [
      "Iteration [9800/20000] | D_real_loss: 0.0384 |                 D_fake_loss: 0.0044 | G_loss: 0.7248\n",
      "Saved results/samples_gan_gp1_lr3e-5/sample-009800.png\n"
     ]
    },
    {
     "name": "stderr",
     "output_type": "stream",
     "text": [
      "Lossy conversion from float32 to uint8. Range [-0.9903565049171448, 0.9999667406082153]. Convert image to uint8 prior to saving to suppress this warning.\n"
     ]
    },
    {
     "name": "stdout",
     "output_type": "stream",
     "text": [
      "Iteration [10000/20000] | D_real_loss: 0.0119 |                 D_fake_loss: 0.0159 | G_loss: 0.7094\n",
      "Saved results/samples_gan_gp1_lr3e-5/sample-010000.png\n"
     ]
    },
    {
     "name": "stderr",
     "output_type": "stream",
     "text": [
      "Lossy conversion from float32 to uint8. Range [-0.9940533638000488, 0.9999189376831055]. Convert image to uint8 prior to saving to suppress this warning.\n"
     ]
    },
    {
     "name": "stdout",
     "output_type": "stream",
     "text": [
      "Iteration [10200/20000] | D_real_loss: 0.0342 |                 D_fake_loss: 0.0117 | G_loss: 0.5835\n",
      "Saved results/samples_gan_gp1_lr3e-5/sample-010200.png\n"
     ]
    },
    {
     "name": "stderr",
     "output_type": "stream",
     "text": [
      "Lossy conversion from float32 to uint8. Range [-0.9946467876434326, 0.9998427629470825]. Convert image to uint8 prior to saving to suppress this warning.\n"
     ]
    },
    {
     "name": "stdout",
     "output_type": "stream",
     "text": [
      "Iteration [10400/20000] | D_real_loss: 0.0149 |                 D_fake_loss: 0.0081 | G_loss: 0.7953\n",
      "Saved results/samples_gan_gp1_lr3e-5/sample-010400.png\n"
     ]
    },
    {
     "name": "stderr",
     "output_type": "stream",
     "text": [
      "Lossy conversion from float32 to uint8. Range [-0.9967290163040161, 0.9998919367790222]. Convert image to uint8 prior to saving to suppress this warning.\n"
     ]
    },
    {
     "name": "stdout",
     "output_type": "stream",
     "text": [
      "Iteration [10600/20000] | D_real_loss: 0.0252 |                 D_fake_loss: 0.0131 | G_loss: 0.7299\n",
      "Saved results/samples_gan_gp1_lr3e-5/sample-010600.png\n"
     ]
    },
    {
     "name": "stderr",
     "output_type": "stream",
     "text": [
      "Lossy conversion from float32 to uint8. Range [-0.9934645891189575, 0.9999497532844543]. Convert image to uint8 prior to saving to suppress this warning.\n"
     ]
    },
    {
     "name": "stdout",
     "output_type": "stream",
     "text": [
      "Iteration [10800/20000] | D_real_loss: 0.0178 |                 D_fake_loss: 0.0218 | G_loss: 0.6678\n",
      "Saved results/samples_gan_gp1_lr3e-5/sample-010800.png\n"
     ]
    },
    {
     "name": "stderr",
     "output_type": "stream",
     "text": [
      "Lossy conversion from float32 to uint8. Range [-0.9923548102378845, 0.9998952746391296]. Convert image to uint8 prior to saving to suppress this warning.\n"
     ]
    },
    {
     "name": "stdout",
     "output_type": "stream",
     "text": [
      "Iteration [11000/20000] | D_real_loss: 0.0085 |                 D_fake_loss: 0.0141 | G_loss: 0.6190\n",
      "Saved results/samples_gan_gp1_lr3e-5/sample-011000.png\n"
     ]
    },
    {
     "name": "stderr",
     "output_type": "stream",
     "text": [
      "Lossy conversion from float32 to uint8. Range [-0.9949583411216736, 0.999923825263977]. Convert image to uint8 prior to saving to suppress this warning.\n"
     ]
    },
    {
     "name": "stdout",
     "output_type": "stream",
     "text": [
      "Iteration [11200/20000] | D_real_loss: 0.0074 |                 D_fake_loss: 0.0156 | G_loss: 0.7501\n",
      "Saved results/samples_gan_gp1_lr3e-5/sample-011200.png\n"
     ]
    },
    {
     "name": "stderr",
     "output_type": "stream",
     "text": [
      "Lossy conversion from float32 to uint8. Range [-0.9929819703102112, 0.9998745918273926]. Convert image to uint8 prior to saving to suppress this warning.\n"
     ]
    },
    {
     "name": "stdout",
     "output_type": "stream",
     "text": [
      "Iteration [11400/20000] | D_real_loss: 0.0254 |                 D_fake_loss: 0.0131 | G_loss: 0.5205\n",
      "Saved results/samples_gan_gp1_lr3e-5/sample-011400.png\n"
     ]
    },
    {
     "name": "stderr",
     "output_type": "stream",
     "text": [
      "Lossy conversion from float32 to uint8. Range [-0.9977035522460938, 0.9999662637710571]. Convert image to uint8 prior to saving to suppress this warning.\n"
     ]
    },
    {
     "name": "stdout",
     "output_type": "stream",
     "text": [
      "Iteration [11600/20000] | D_real_loss: 0.0139 |                 D_fake_loss: 0.0394 | G_loss: 0.6477\n",
      "Saved results/samples_gan_gp1_lr3e-5/sample-011600.png\n"
     ]
    },
    {
     "name": "stderr",
     "output_type": "stream",
     "text": [
      "Lossy conversion from float32 to uint8. Range [-0.9942160844802856, 0.9999334812164307]. Convert image to uint8 prior to saving to suppress this warning.\n"
     ]
    },
    {
     "name": "stdout",
     "output_type": "stream",
     "text": [
      "Iteration [11800/20000] | D_real_loss: 0.0116 |                 D_fake_loss: 0.0087 | G_loss: 0.8028\n",
      "Saved results/samples_gan_gp1_lr3e-5/sample-011800.png\n"
     ]
    },
    {
     "name": "stderr",
     "output_type": "stream",
     "text": [
      "Lossy conversion from float32 to uint8. Range [-0.9977680444717407, 0.9998948574066162]. Convert image to uint8 prior to saving to suppress this warning.\n"
     ]
    },
    {
     "name": "stdout",
     "output_type": "stream",
     "text": [
      "Iteration [12000/20000] | D_real_loss: 0.0090 |                 D_fake_loss: 0.0161 | G_loss: 0.7854\n",
      "Saved results/samples_gan_gp1_lr3e-5/sample-012000.png\n"
     ]
    },
    {
     "name": "stderr",
     "output_type": "stream",
     "text": [
      "Lossy conversion from float32 to uint8. Range [-0.9934110045433044, 0.9998553395271301]. Convert image to uint8 prior to saving to suppress this warning.\n"
     ]
    },
    {
     "name": "stdout",
     "output_type": "stream",
     "text": [
      "Iteration [12200/20000] | D_real_loss: 0.0338 |                 D_fake_loss: 0.0178 | G_loss: 0.7047\n",
      "Saved results/samples_gan_gp1_lr3e-5/sample-012200.png\n"
     ]
    },
    {
     "name": "stderr",
     "output_type": "stream",
     "text": [
      "Lossy conversion from float32 to uint8. Range [-0.9944978952407837, 0.9998540282249451]. Convert image to uint8 prior to saving to suppress this warning.\n"
     ]
    },
    {
     "name": "stdout",
     "output_type": "stream",
     "text": [
      "Iteration [12400/20000] | D_real_loss: 0.0077 |                 D_fake_loss: 0.0135 | G_loss: 0.9192\n",
      "Saved results/samples_gan_gp1_lr3e-5/sample-012400.png\n"
     ]
    },
    {
     "name": "stderr",
     "output_type": "stream",
     "text": [
      "Lossy conversion from float32 to uint8. Range [-0.9990675449371338, 0.9994626641273499]. Convert image to uint8 prior to saving to suppress this warning.\n"
     ]
    },
    {
     "name": "stdout",
     "output_type": "stream",
     "text": [
      "Iteration [12600/20000] | D_real_loss: 0.0298 |                 D_fake_loss: 0.0046 | G_loss: 0.7104\n",
      "Saved results/samples_gan_gp1_lr3e-5/sample-012600.png\n"
     ]
    },
    {
     "name": "stderr",
     "output_type": "stream",
     "text": [
      "Lossy conversion from float32 to uint8. Range [-0.9922742247581482, 0.9999699592590332]. Convert image to uint8 prior to saving to suppress this warning.\n"
     ]
    },
    {
     "name": "stdout",
     "output_type": "stream",
     "text": [
      "Iteration [12800/20000] | D_real_loss: 0.0196 |                 D_fake_loss: 0.0111 | G_loss: 0.7368\n",
      "Saved results/samples_gan_gp1_lr3e-5/sample-012800.png\n"
     ]
    },
    {
     "name": "stderr",
     "output_type": "stream",
     "text": [
      "Lossy conversion from float32 to uint8. Range [-0.9989893436431885, 0.9999969601631165]. Convert image to uint8 prior to saving to suppress this warning.\n"
     ]
    },
    {
     "name": "stdout",
     "output_type": "stream",
     "text": [
      "Iteration [13000/20000] | D_real_loss: 0.0115 |                 D_fake_loss: 0.0014 | G_loss: 0.9564\n",
      "Saved results/samples_gan_gp1_lr3e-5/sample-013000.png\n"
     ]
    },
    {
     "name": "stderr",
     "output_type": "stream",
     "text": [
      "Lossy conversion from float32 to uint8. Range [-0.9990721940994263, 0.9999958872795105]. Convert image to uint8 prior to saving to suppress this warning.\n"
     ]
    },
    {
     "name": "stdout",
     "output_type": "stream",
     "text": [
      "Iteration [13200/20000] | D_real_loss: 0.0052 |                 D_fake_loss: 0.0014 | G_loss: 0.9767\n",
      "Saved results/samples_gan_gp1_lr3e-5/sample-013200.png\n"
     ]
    },
    {
     "name": "stderr",
     "output_type": "stream",
     "text": [
      "Lossy conversion from float32 to uint8. Range [-0.9995343685150146, 0.9999735355377197]. Convert image to uint8 prior to saving to suppress this warning.\n"
     ]
    },
    {
     "name": "stdout",
     "output_type": "stream",
     "text": [
      "Iteration [13400/20000] | D_real_loss: 0.0015 |                 D_fake_loss: 0.0015 | G_loss: 1.0540\n",
      "Saved results/samples_gan_gp1_lr3e-5/sample-013400.png\n"
     ]
    },
    {
     "name": "stderr",
     "output_type": "stream",
     "text": [
      "Lossy conversion from float32 to uint8. Range [-0.9996147751808167, 0.9998959302902222]. Convert image to uint8 prior to saving to suppress this warning.\n"
     ]
    },
    {
     "name": "stdout",
     "output_type": "stream",
     "text": [
      "Iteration [13600/20000] | D_real_loss: 0.0124 |                 D_fake_loss: 0.0092 | G_loss: 0.9431\n",
      "Saved results/samples_gan_gp1_lr3e-5/sample-013600.png\n"
     ]
    },
    {
     "name": "stderr",
     "output_type": "stream",
     "text": [
      "Lossy conversion from float32 to uint8. Range [-0.9998442530632019, 0.9998692274093628]. Convert image to uint8 prior to saving to suppress this warning.\n"
     ]
    },
    {
     "name": "stdout",
     "output_type": "stream",
     "text": [
      "Iteration [13800/20000] | D_real_loss: 0.0111 |                 D_fake_loss: 0.0021 | G_loss: 0.9451\n",
      "Saved results/samples_gan_gp1_lr3e-5/sample-013800.png\n"
     ]
    },
    {
     "name": "stderr",
     "output_type": "stream",
     "text": [
      "Lossy conversion from float32 to uint8. Range [-0.9999182224273682, 0.9998357892036438]. Convert image to uint8 prior to saving to suppress this warning.\n"
     ]
    },
    {
     "name": "stdout",
     "output_type": "stream",
     "text": [
      "Iteration [14000/20000] | D_real_loss: 0.0082 |                 D_fake_loss: 0.0030 | G_loss: 1.0816\n",
      "Saved results/samples_gan_gp1_lr3e-5/sample-014000.png\n"
     ]
    },
    {
     "name": "stderr",
     "output_type": "stream",
     "text": [
      "Lossy conversion from float32 to uint8. Range [-0.9999265074729919, 0.9998918175697327]. Convert image to uint8 prior to saving to suppress this warning.\n"
     ]
    },
    {
     "name": "stdout",
     "output_type": "stream",
     "text": [
      "Iteration [14200/20000] | D_real_loss: 0.0005 |                 D_fake_loss: 0.0001 | G_loss: 1.0480\n",
      "Saved results/samples_gan_gp1_lr3e-5/sample-014200.png\n"
     ]
    },
    {
     "name": "stderr",
     "output_type": "stream",
     "text": [
      "Lossy conversion from float32 to uint8. Range [-0.9999181032180786, 0.9998894333839417]. Convert image to uint8 prior to saving to suppress this warning.\n"
     ]
    },
    {
     "name": "stdout",
     "output_type": "stream",
     "text": [
      "Iteration [14400/20000] | D_real_loss: 0.0011 |                 D_fake_loss: 0.0002 | G_loss: 0.9585\n",
      "Saved results/samples_gan_gp1_lr3e-5/sample-014400.png\n"
     ]
    },
    {
     "name": "stderr",
     "output_type": "stream",
     "text": [
      "Lossy conversion from float32 to uint8. Range [-0.9998915195465088, 0.9998528361320496]. Convert image to uint8 prior to saving to suppress this warning.\n"
     ]
    },
    {
     "name": "stdout",
     "output_type": "stream",
     "text": [
      "Iteration [14600/20000] | D_real_loss: 0.0004 |                 D_fake_loss: 0.0001 | G_loss: 1.0472\n",
      "Saved results/samples_gan_gp1_lr3e-5/sample-014600.png\n"
     ]
    },
    {
     "name": "stderr",
     "output_type": "stream",
     "text": [
      "Lossy conversion from float32 to uint8. Range [-0.9998776912689209, 0.9996718168258667]. Convert image to uint8 prior to saving to suppress this warning.\n"
     ]
    },
    {
     "name": "stdout",
     "output_type": "stream",
     "text": [
      "Iteration [14800/20000] | D_real_loss: 0.0078 |                 D_fake_loss: 0.0003 | G_loss: 0.8481\n",
      "Saved results/samples_gan_gp1_lr3e-5/sample-014800.png\n"
     ]
    },
    {
     "name": "stderr",
     "output_type": "stream",
     "text": [
      "Lossy conversion from float32 to uint8. Range [-0.999850332736969, 0.999171257019043]. Convert image to uint8 prior to saving to suppress this warning.\n"
     ]
    },
    {
     "name": "stdout",
     "output_type": "stream",
     "text": [
      "Iteration [15000/20000] | D_real_loss: 0.0063 |                 D_fake_loss: 0.0004 | G_loss: 0.8286\n",
      "Saved results/samples_gan_gp1_lr3e-5/sample-015000.png\n"
     ]
    },
    {
     "name": "stderr",
     "output_type": "stream",
     "text": [
      "Lossy conversion from float32 to uint8. Range [-0.9998204708099365, 0.9936312437057495]. Convert image to uint8 prior to saving to suppress this warning.\n"
     ]
    },
    {
     "name": "stdout",
     "output_type": "stream",
     "text": [
      "Iteration [15200/20000] | D_real_loss: 0.0013 |                 D_fake_loss: 0.0000 | G_loss: 0.9567\n",
      "Saved results/samples_gan_gp1_lr3e-5/sample-015200.png\n"
     ]
    },
    {
     "name": "stderr",
     "output_type": "stream",
     "text": [
      "Lossy conversion from float32 to uint8. Range [-0.9998400211334229, 0.9959498643875122]. Convert image to uint8 prior to saving to suppress this warning.\n"
     ]
    },
    {
     "name": "stdout",
     "output_type": "stream",
     "text": [
      "Iteration [15400/20000] | D_real_loss: 0.0005 |                 D_fake_loss: 0.0002 | G_loss: 0.9648\n",
      "Saved results/samples_gan_gp1_lr3e-5/sample-015400.png\n"
     ]
    },
    {
     "name": "stderr",
     "output_type": "stream",
     "text": [
      "Lossy conversion from float32 to uint8. Range [-0.9997751712799072, 0.9976105690002441]. Convert image to uint8 prior to saving to suppress this warning.\n"
     ]
    },
    {
     "name": "stdout",
     "output_type": "stream",
     "text": [
      "Iteration [15600/20000] | D_real_loss: 0.0003 |                 D_fake_loss: 0.0000 | G_loss: 0.9706\n",
      "Saved results/samples_gan_gp1_lr3e-5/sample-015600.png\n"
     ]
    },
    {
     "name": "stderr",
     "output_type": "stream",
     "text": [
      "Lossy conversion from float32 to uint8. Range [-0.9996815323829651, 0.993126630783081]. Convert image to uint8 prior to saving to suppress this warning.\n"
     ]
    },
    {
     "name": "stdout",
     "output_type": "stream",
     "text": [
      "Iteration [15800/20000] | D_real_loss: 0.0003 |                 D_fake_loss: 0.0001 | G_loss: 0.9564\n",
      "Saved results/samples_gan_gp1_lr3e-5/sample-015800.png\n"
     ]
    },
    {
     "name": "stderr",
     "output_type": "stream",
     "text": [
      "Lossy conversion from float32 to uint8. Range [-0.9992911219596863, 0.9941529035568237]. Convert image to uint8 prior to saving to suppress this warning.\n"
     ]
    },
    {
     "name": "stdout",
     "output_type": "stream",
     "text": [
      "Iteration [16000/20000] | D_real_loss: 0.0006 |                 D_fake_loss: 0.0008 | G_loss: 1.0354\n",
      "Saved results/samples_gan_gp1_lr3e-5/sample-016000.png\n"
     ]
    },
    {
     "name": "stderr",
     "output_type": "stream",
     "text": [
      "Lossy conversion from float32 to uint8. Range [-0.9988588690757751, 0.9983137249946594]. Convert image to uint8 prior to saving to suppress this warning.\n"
     ]
    },
    {
     "name": "stdout",
     "output_type": "stream",
     "text": [
      "Iteration [16200/20000] | D_real_loss: 0.0003 |                 D_fake_loss: 0.0000 | G_loss: 1.0071\n",
      "Saved results/samples_gan_gp1_lr3e-5/sample-016200.png\n"
     ]
    },
    {
     "name": "stderr",
     "output_type": "stream",
     "text": [
      "Lossy conversion from float32 to uint8. Range [-0.997506320476532, 0.9980039596557617]. Convert image to uint8 prior to saving to suppress this warning.\n"
     ]
    },
    {
     "name": "stdout",
     "output_type": "stream",
     "text": [
      "Iteration [16400/20000] | D_real_loss: 0.0004 |                 D_fake_loss: 0.0001 | G_loss: 0.9961\n",
      "Saved results/samples_gan_gp1_lr3e-5/sample-016400.png\n"
     ]
    },
    {
     "name": "stderr",
     "output_type": "stream",
     "text": [
      "Lossy conversion from float32 to uint8. Range [-0.9932913780212402, 0.9921401143074036]. Convert image to uint8 prior to saving to suppress this warning.\n"
     ]
    },
    {
     "name": "stdout",
     "output_type": "stream",
     "text": [
      "Iteration [16600/20000] | D_real_loss: 0.0083 |                 D_fake_loss: 0.0001 | G_loss: 0.8221\n",
      "Saved results/samples_gan_gp1_lr3e-5/sample-016600.png\n"
     ]
    },
    {
     "name": "stderr",
     "output_type": "stream",
     "text": [
      "Lossy conversion from float32 to uint8. Range [-0.9882263541221619, 0.991395115852356]. Convert image to uint8 prior to saving to suppress this warning.\n"
     ]
    },
    {
     "name": "stdout",
     "output_type": "stream",
     "text": [
      "Iteration [16800/20000] | D_real_loss: 0.0008 |                 D_fake_loss: 0.0009 | G_loss: 1.0271\n",
      "Saved results/samples_gan_gp1_lr3e-5/sample-016800.png\n"
     ]
    },
    {
     "name": "stderr",
     "output_type": "stream",
     "text": [
      "Lossy conversion from float32 to uint8. Range [-0.9805660247802734, 0.9925203323364258]. Convert image to uint8 prior to saving to suppress this warning.\n"
     ]
    },
    {
     "name": "stdout",
     "output_type": "stream",
     "text": [
      "Iteration [17000/20000] | D_real_loss: 0.0002 |                 D_fake_loss: 0.0001 | G_loss: 1.0156\n",
      "Saved results/samples_gan_gp1_lr3e-5/sample-017000.png\n"
     ]
    },
    {
     "name": "stderr",
     "output_type": "stream",
     "text": [
      "Lossy conversion from float32 to uint8. Range [-0.9699261784553528, 0.9947702288627625]. Convert image to uint8 prior to saving to suppress this warning.\n"
     ]
    },
    {
     "name": "stdout",
     "output_type": "stream",
     "text": [
      "Iteration [17200/20000] | D_real_loss: 0.0002 |                 D_fake_loss: 0.0000 | G_loss: 1.0277\n",
      "Saved results/samples_gan_gp1_lr3e-5/sample-017200.png\n"
     ]
    },
    {
     "name": "stderr",
     "output_type": "stream",
     "text": [
      "Lossy conversion from float32 to uint8. Range [-0.9778338074684143, 0.999305009841919]. Convert image to uint8 prior to saving to suppress this warning.\n"
     ]
    },
    {
     "name": "stdout",
     "output_type": "stream",
     "text": [
      "Iteration [17400/20000] | D_real_loss: 0.0010 |                 D_fake_loss: 0.0001 | G_loss: 0.9359\n",
      "Saved results/samples_gan_gp1_lr3e-5/sample-017400.png\n"
     ]
    },
    {
     "name": "stderr",
     "output_type": "stream",
     "text": [
      "Lossy conversion from float32 to uint8. Range [-0.9600232839584351, 0.9950689673423767]. Convert image to uint8 prior to saving to suppress this warning.\n"
     ]
    },
    {
     "name": "stdout",
     "output_type": "stream",
     "text": [
      "Iteration [17600/20000] | D_real_loss: 0.0002 |                 D_fake_loss: 0.0001 | G_loss: 0.9951\n",
      "Saved results/samples_gan_gp1_lr3e-5/sample-017600.png\n"
     ]
    },
    {
     "name": "stderr",
     "output_type": "stream",
     "text": [
      "Lossy conversion from float32 to uint8. Range [-0.9564498066902161, 0.997854471206665]. Convert image to uint8 prior to saving to suppress this warning.\n"
     ]
    },
    {
     "name": "stdout",
     "output_type": "stream",
     "text": [
      "Iteration [17800/20000] | D_real_loss: 0.0003 |                 D_fake_loss: 0.0000 | G_loss: 0.9905\n",
      "Saved results/samples_gan_gp1_lr3e-5/sample-017800.png\n"
     ]
    },
    {
     "name": "stderr",
     "output_type": "stream",
     "text": [
      "Lossy conversion from float32 to uint8. Range [-0.9538058638572693, 0.998157799243927]. Convert image to uint8 prior to saving to suppress this warning.\n"
     ]
    },
    {
     "name": "stdout",
     "output_type": "stream",
     "text": [
      "Iteration [18000/20000] | D_real_loss: 0.0003 |                 D_fake_loss: 0.0000 | G_loss: 1.0457\n",
      "Saved results/samples_gan_gp1_lr3e-5/sample-018000.png\n"
     ]
    },
    {
     "name": "stderr",
     "output_type": "stream",
     "text": [
      "Lossy conversion from float32 to uint8. Range [-0.9561058282852173, 0.9980267286300659]. Convert image to uint8 prior to saving to suppress this warning.\n"
     ]
    },
    {
     "name": "stdout",
     "output_type": "stream",
     "text": [
      "Iteration [18200/20000] | D_real_loss: 0.0004 |                 D_fake_loss: 0.0003 | G_loss: 1.0267\n",
      "Saved results/samples_gan_gp1_lr3e-5/sample-018200.png\n"
     ]
    },
    {
     "name": "stderr",
     "output_type": "stream",
     "text": [
      "Lossy conversion from float32 to uint8. Range [-0.9843563437461853, 0.9928539395332336]. Convert image to uint8 prior to saving to suppress this warning.\n"
     ]
    },
    {
     "name": "stdout",
     "output_type": "stream",
     "text": [
      "Iteration [18400/20000] | D_real_loss: 0.0008 |                 D_fake_loss: 0.0002 | G_loss: 0.9516\n",
      "Saved results/samples_gan_gp1_lr3e-5/sample-018400.png\n"
     ]
    },
    {
     "name": "stderr",
     "output_type": "stream",
     "text": [
      "Lossy conversion from float32 to uint8. Range [-0.9775722026824951, 0.9941100478172302]. Convert image to uint8 prior to saving to suppress this warning.\n"
     ]
    },
    {
     "name": "stdout",
     "output_type": "stream",
     "text": [
      "Iteration [18600/20000] | D_real_loss: 0.0005 |                 D_fake_loss: 0.0009 | G_loss: 1.0747\n",
      "Saved results/samples_gan_gp1_lr3e-5/sample-018600.png\n"
     ]
    },
    {
     "name": "stderr",
     "output_type": "stream",
     "text": [
      "Lossy conversion from float32 to uint8. Range [-0.9444082379341125, 0.9930678009986877]. Convert image to uint8 prior to saving to suppress this warning.\n"
     ]
    },
    {
     "name": "stdout",
     "output_type": "stream",
     "text": [
      "Iteration [18800/20000] | D_real_loss: 0.0015 |                 D_fake_loss: 0.0002 | G_loss: 0.9998\n",
      "Saved results/samples_gan_gp1_lr3e-5/sample-018800.png\n"
     ]
    },
    {
     "name": "stderr",
     "output_type": "stream",
     "text": [
      "Lossy conversion from float32 to uint8. Range [-0.9169889688491821, 0.994239091873169]. Convert image to uint8 prior to saving to suppress this warning.\n"
     ]
    },
    {
     "name": "stdout",
     "output_type": "stream",
     "text": [
      "Iteration [19000/20000] | D_real_loss: 0.0006 |                 D_fake_loss: 0.0007 | G_loss: 0.9827\n",
      "Saved results/samples_gan_gp1_lr3e-5/sample-019000.png\n"
     ]
    },
    {
     "name": "stderr",
     "output_type": "stream",
     "text": [
      "Lossy conversion from float32 to uint8. Range [-0.9424250721931458, 0.9973589777946472]. Convert image to uint8 prior to saving to suppress this warning.\n"
     ]
    },
    {
     "name": "stdout",
     "output_type": "stream",
     "text": [
      "Iteration [19200/20000] | D_real_loss: 0.0003 |                 D_fake_loss: 0.0001 | G_loss: 0.9672\n",
      "Saved results/samples_gan_gp1_lr3e-5/sample-019200.png\n"
     ]
    },
    {
     "name": "stderr",
     "output_type": "stream",
     "text": [
      "Lossy conversion from float32 to uint8. Range [-0.9466108679771423, 0.998067319393158]. Convert image to uint8 prior to saving to suppress this warning.\n"
     ]
    },
    {
     "name": "stdout",
     "output_type": "stream",
     "text": [
      "Iteration [19400/20000] | D_real_loss: 0.0007 |                 D_fake_loss: 0.0000 | G_loss: 0.9813\n",
      "Saved results/samples_gan_gp1_lr3e-5/sample-019400.png\n"
     ]
    },
    {
     "name": "stderr",
     "output_type": "stream",
     "text": [
      "Lossy conversion from float32 to uint8. Range [-0.7917157411575317, 0.9926284551620483]. Convert image to uint8 prior to saving to suppress this warning.\n"
     ]
    },
    {
     "name": "stdout",
     "output_type": "stream",
     "text": [
      "Iteration [19600/20000] | D_real_loss: 0.0003 |                 D_fake_loss: 0.0000 | G_loss: 0.9536\n",
      "Saved results/samples_gan_gp1_lr3e-5/sample-019600.png\n"
     ]
    },
    {
     "name": "stderr",
     "output_type": "stream",
     "text": [
      "Lossy conversion from float32 to uint8. Range [-0.9469570517539978, 0.9740370512008667]. Convert image to uint8 prior to saving to suppress this warning.\n"
     ]
    },
    {
     "name": "stdout",
     "output_type": "stream",
     "text": [
      "Iteration [19800/20000] | D_real_loss: 0.0004 |                 D_fake_loss: 0.0000 | G_loss: 0.9908\n",
      "Saved results/samples_gan_gp1_lr3e-5/sample-019800.png\n"
     ]
    },
    {
     "name": "stderr",
     "output_type": "stream",
     "text": [
      "Lossy conversion from float32 to uint8. Range [-0.9525268077850342, 0.9840017557144165]. Convert image to uint8 prior to saving to suppress this warning.\n"
     ]
    },
    {
     "name": "stdout",
     "output_type": "stream",
     "text": [
      "Iteration [20000/20000] | D_real_loss: 0.0003 |                 D_fake_loss: 0.0003 | G_loss: 0.9677\n",
      "Saved results/samples_gan_gp1_lr3e-5/sample-020000.png\n",
      "adding image results/samples_gan_gp1_lr3e-5/losses.png\n",
      "adding image results/samples_gan_gp1_lr3e-5/sample-000200.png\n",
      "adding image results/samples_gan_gp1_lr3e-5/sample-000400.png\n",
      "adding image results/samples_gan_gp1_lr3e-5/sample-000600.png\n",
      "adding image results/samples_gan_gp1_lr3e-5/sample-000800.png\n",
      "adding image results/samples_gan_gp1_lr3e-5/sample-001000.png\n",
      "adding image results/samples_gan_gp1_lr3e-5/sample-001200.png\n",
      "adding image results/samples_gan_gp1_lr3e-5/sample-001400.png\n",
      "adding image results/samples_gan_gp1_lr3e-5/sample-001600.png\n",
      "adding image results/samples_gan_gp1_lr3e-5/sample-001800.png\n",
      "adding image results/samples_gan_gp1_lr3e-5/sample-002000.png\n",
      "adding image results/samples_gan_gp1_lr3e-5/sample-002200.png\n",
      "adding image results/samples_gan_gp1_lr3e-5/sample-002400.png\n",
      "adding image results/samples_gan_gp1_lr3e-5/sample-002600.png\n",
      "adding image results/samples_gan_gp1_lr3e-5/sample-002800.png\n",
      "adding image results/samples_gan_gp1_lr3e-5/sample-003000.png\n",
      "adding image results/samples_gan_gp1_lr3e-5/sample-003200.png\n",
      "adding image results/samples_gan_gp1_lr3e-5/sample-003400.png\n",
      "adding image results/samples_gan_gp1_lr3e-5/sample-003600.png\n",
      "adding image results/samples_gan_gp1_lr3e-5/sample-003800.png\n",
      "adding image results/samples_gan_gp1_lr3e-5/sample-004000.png\n",
      "adding image results/samples_gan_gp1_lr3e-5/sample-004200.png\n",
      "adding image results/samples_gan_gp1_lr3e-5/sample-004400.png\n",
      "adding image results/samples_gan_gp1_lr3e-5/sample-004600.png\n",
      "adding image results/samples_gan_gp1_lr3e-5/sample-004800.png\n",
      "adding image results/samples_gan_gp1_lr3e-5/sample-005000.png\n",
      "adding image results/samples_gan_gp1_lr3e-5/sample-005200.png\n",
      "adding image results/samples_gan_gp1_lr3e-5/sample-005400.png\n",
      "adding image results/samples_gan_gp1_lr3e-5/sample-005600.png\n",
      "adding image results/samples_gan_gp1_lr3e-5/sample-005800.png\n",
      "adding image results/samples_gan_gp1_lr3e-5/sample-006000.png\n",
      "adding image results/samples_gan_gp1_lr3e-5/sample-006200.png\n",
      "adding image results/samples_gan_gp1_lr3e-5/sample-006400.png\n",
      "adding image results/samples_gan_gp1_lr3e-5/sample-006600.png\n",
      "adding image results/samples_gan_gp1_lr3e-5/sample-006800.png\n",
      "adding image results/samples_gan_gp1_lr3e-5/sample-007000.png\n",
      "adding image results/samples_gan_gp1_lr3e-5/sample-007200.png\n",
      "adding image results/samples_gan_gp1_lr3e-5/sample-007400.png\n",
      "adding image results/samples_gan_gp1_lr3e-5/sample-007600.png\n",
      "adding image results/samples_gan_gp1_lr3e-5/sample-007800.png\n",
      "adding image results/samples_gan_gp1_lr3e-5/sample-008000.png\n",
      "adding image results/samples_gan_gp1_lr3e-5/sample-008200.png\n",
      "adding image results/samples_gan_gp1_lr3e-5/sample-008400.png\n",
      "adding image results/samples_gan_gp1_lr3e-5/sample-008600.png\n",
      "adding image results/samples_gan_gp1_lr3e-5/sample-008800.png\n",
      "adding image results/samples_gan_gp1_lr3e-5/sample-009000.png\n",
      "adding image results/samples_gan_gp1_lr3e-5/sample-009200.png\n",
      "adding image results/samples_gan_gp1_lr3e-5/sample-009400.png\n",
      "adding image results/samples_gan_gp1_lr3e-5/sample-009600.png\n",
      "adding image results/samples_gan_gp1_lr3e-5/sample-009800.png\n",
      "adding image results/samples_gan_gp1_lr3e-5/sample-010000.png\n",
      "adding image results/samples_gan_gp1_lr3e-5/sample-010200.png\n",
      "adding image results/samples_gan_gp1_lr3e-5/sample-010400.png\n",
      "adding image results/samples_gan_gp1_lr3e-5/sample-010600.png\n",
      "adding image results/samples_gan_gp1_lr3e-5/sample-010800.png\n",
      "adding image results/samples_gan_gp1_lr3e-5/sample-011000.png\n",
      "adding image results/samples_gan_gp1_lr3e-5/sample-011200.png\n",
      "adding image results/samples_gan_gp1_lr3e-5/sample-011400.png\n",
      "adding image results/samples_gan_gp1_lr3e-5/sample-011600.png\n",
      "adding image results/samples_gan_gp1_lr3e-5/sample-011800.png\n",
      "adding image results/samples_gan_gp1_lr3e-5/sample-012000.png\n",
      "adding image results/samples_gan_gp1_lr3e-5/sample-012200.png\n",
      "adding image results/samples_gan_gp1_lr3e-5/sample-012400.png\n",
      "adding image results/samples_gan_gp1_lr3e-5/sample-012600.png\n",
      "adding image results/samples_gan_gp1_lr3e-5/sample-012800.png\n",
      "adding image results/samples_gan_gp1_lr3e-5/sample-013000.png\n",
      "adding image results/samples_gan_gp1_lr3e-5/sample-013200.png\n",
      "adding image results/samples_gan_gp1_lr3e-5/sample-013400.png\n",
      "adding image results/samples_gan_gp1_lr3e-5/sample-013600.png\n",
      "adding image results/samples_gan_gp1_lr3e-5/sample-013800.png\n",
      "adding image results/samples_gan_gp1_lr3e-5/sample-014000.png\n",
      "adding image results/samples_gan_gp1_lr3e-5/sample-014200.png\n",
      "adding image results/samples_gan_gp1_lr3e-5/sample-014400.png\n",
      "adding image results/samples_gan_gp1_lr3e-5/sample-014600.png\n",
      "adding image results/samples_gan_gp1_lr3e-5/sample-014800.png\n",
      "adding image results/samples_gan_gp1_lr3e-5/sample-015000.png\n",
      "adding image results/samples_gan_gp1_lr3e-5/sample-015200.png\n",
      "adding image results/samples_gan_gp1_lr3e-5/sample-015400.png\n",
      "adding image results/samples_gan_gp1_lr3e-5/sample-015600.png\n",
      "adding image results/samples_gan_gp1_lr3e-5/sample-015800.png\n",
      "adding image results/samples_gan_gp1_lr3e-5/sample-016000.png\n",
      "adding image results/samples_gan_gp1_lr3e-5/sample-016200.png\n",
      "adding image results/samples_gan_gp1_lr3e-5/sample-016400.png\n",
      "adding image results/samples_gan_gp1_lr3e-5/sample-016600.png\n",
      "adding image results/samples_gan_gp1_lr3e-5/sample-016800.png\n",
      "adding image results/samples_gan_gp1_lr3e-5/sample-017000.png\n",
      "adding image results/samples_gan_gp1_lr3e-5/sample-017200.png\n",
      "adding image results/samples_gan_gp1_lr3e-5/sample-017400.png\n",
      "adding image results/samples_gan_gp1_lr3e-5/sample-017600.png\n",
      "adding image results/samples_gan_gp1_lr3e-5/sample-017800.png\n",
      "adding image results/samples_gan_gp1_lr3e-5/sample-018000.png\n",
      "adding image results/samples_gan_gp1_lr3e-5/sample-018200.png\n",
      "adding image results/samples_gan_gp1_lr3e-5/sample-018400.png\n",
      "adding image results/samples_gan_gp1_lr3e-5/sample-018600.png\n",
      "adding image results/samples_gan_gp1_lr3e-5/sample-018800.png\n",
      "adding image results/samples_gan_gp1_lr3e-5/sample-019000.png\n",
      "adding image results/samples_gan_gp1_lr3e-5/sample-019200.png\n",
      "adding image results/samples_gan_gp1_lr3e-5/sample-019400.png\n",
      "adding image results/samples_gan_gp1_lr3e-5/sample-019600.png\n",
      "adding image results/samples_gan_gp1_lr3e-5/sample-019800.png\n",
      "adding image results/samples_gan_gp1_lr3e-5/sample-020000.png\n"
     ]
    }
   ],
   "source": [
    "#######leastsquares\n",
    "\n",
    "SEED = 11\n",
    "\n",
    "# Set the random seed manually for reproducibility.\n",
    "np.random.seed(SEED)\n",
    "torch.manual_seed(SEED)\n",
    "if torch.cuda.is_available():\n",
    "    torch.cuda.manual_seed(SEED)\n",
    "\n",
    "\n",
    "args = AttrDict()\n",
    "args_dict = {\n",
    "              'image_size':32, \n",
    "              'g_conv_dim':32, \n",
    "              'd_conv_dim':64,\n",
    "              'noise_size':100,\n",
    "              'num_workers': 0,\n",
    "              'train_iters':20000,\n",
    "              'X':'Apple',  # options: 'Windows' / 'Apple'\n",
    "              'Y': None,\n",
    "              'lr':0.00003,\n",
    "              'beta1':0.5,\n",
    "              'beta2':0.999,\n",
    "              'batch_size':32, \n",
    "              'checkpoint_dir': 'results/checkpoints_gan_gp1_lr3e-5',\n",
    "              'sample_dir': 'results/samples_gan_gp1_lr3e-5',\n",
    "              'load': None,\n",
    "              'log_step':200,\n",
    "              'sample_every':200,\n",
    "              'checkpoint_every':1000,\n",
    "              'spectral_norm': False,\n",
    "              'gradient_penalty': True,\n",
    "              'least_squares_gan': True,\n",
    "              'd_train_iters': 1\n",
    "}\n",
    "args.update(args_dict)\n",
    "\n",
    "print_opts(args)\n",
    "G, D = train(args)\n",
    "\n",
    "generate_gif(\"results/samples_gan_gp1_lr3e-5\")"
   ]
  },
  {
   "cell_type": "markdown",
   "metadata": {
    "id": "UU5XajxuhQ4c"
   },
   "source": [
    "## Download your output"
   ]
  },
  {
   "cell_type": "code",
   "execution_count": null,
   "metadata": {
    "id": "PqF_oI4RAM8I"
   },
   "outputs": [],
   "source": [
    "!zip -r /content/csc413/a4/results/samples.zip /content/csc413/a4/results/samples_gan_gp1_lr3e-5\n",
    "\n",
    "from google.colab import files\n",
    "files.download(\"/content/csc413/a4/results/samples.zip\")"
   ]
  },
  {
   "cell_type": "code",
   "execution_count": null,
   "metadata": {},
   "outputs": [],
   "source": []
  },
  {
   "cell_type": "code",
   "execution_count": null,
   "metadata": {},
   "outputs": [],
   "source": []
  }
 ],
 "metadata": {
  "accelerator": "GPU",
  "colab": {
   "collapsed_sections": [
    "9DaTdRNuUra7",
    "u0KxX0sDpXKb",
    "m1E_jDaBLT1P"
   ],
   "name": "a4_dcgan.ipynb",
   "provenance": []
  },
  "kernelspec": {
   "display_name": "Python 3",
   "language": "python",
   "name": "python3"
  },
  "language_info": {
   "codemirror_mode": {
    "name": "ipython",
    "version": 3
   },
   "file_extension": ".py",
   "mimetype": "text/x-python",
   "name": "python",
   "nbconvert_exporter": "python",
   "pygments_lexer": "ipython3",
   "version": "3.7.10"
  }
 },
 "nbformat": 4,
 "nbformat_minor": 1
}
