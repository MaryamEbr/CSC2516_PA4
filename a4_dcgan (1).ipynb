{
 "cells": [
  {
   "cell_type": "markdown",
   "metadata": {
    "id": "TjPTaRB4mpCd"
   },
   "source": [
    "# Colab FAQ\n",
    "\n",
    "For some basic overview and features offered in Colab notebooks, check out: [Overview of Colaboratory Features](https://colab.research.google.com/notebooks/basic_features_overview.ipynb)\n",
    "\n",
    "You need to use the colab GPU for this assignmentby selecting:\n",
    "\n",
    "> **Runtime**   →   **Change runtime type**   →   **Hardware Accelerator: GPU**"
   ]
  },
  {
   "cell_type": "markdown",
   "metadata": {
    "id": "s9IS9B9-yUU5"
   },
   "source": [
    "# Setup PyTorch\n",
    "All files are stored at /content/csc421/a4/ folder\n"
   ]
  },
  {
   "cell_type": "code",
   "execution_count": 1,
   "metadata": {
    "id": "Z-6MQhMOlHXD"
   },
   "outputs": [
    {
     "name": "stdout",
     "output_type": "stream",
     "text": [
      "Requirement already satisfied: torch in /home/maryamebr/anaconda3/envs/new-tf-gpu/lib/python3.7/site-packages (1.10.1+cu113)\n",
      "Requirement already satisfied: torchvision in /home/maryamebr/anaconda3/envs/new-tf-gpu/lib/python3.7/site-packages (0.11.2+cu113)\n",
      "Requirement already satisfied: typing-extensions in /home/maryamebr/anaconda3/envs/new-tf-gpu/lib/python3.7/site-packages (from torch) (4.1.1)\n",
      "Requirement already satisfied: numpy in /home/maryamebr/anaconda3/envs/new-tf-gpu/lib/python3.7/site-packages (from torchvision) (1.21.5)\n",
      "Requirement already satisfied: pillow!=8.3.0,>=5.3.0 in /home/maryamebr/anaconda3/envs/new-tf-gpu/lib/python3.7/site-packages (from torchvision) (9.0.1)\n",
      "Requirement already satisfied: imageio in /home/maryamebr/anaconda3/envs/new-tf-gpu/lib/python3.7/site-packages (2.16.1)\n",
      "Requirement already satisfied: numpy>=1.20.0 in /home/maryamebr/anaconda3/envs/new-tf-gpu/lib/python3.7/site-packages (from imageio) (1.21.5)\n",
      "Requirement already satisfied: pillow>=8.3.2 in /home/maryamebr/anaconda3/envs/new-tf-gpu/lib/python3.7/site-packages (from imageio) (9.0.1)\n",
      "Requirement already satisfied: matplotlib in /home/maryamebr/anaconda3/envs/new-tf-gpu/lib/python3.7/site-packages (3.4.2)\n",
      "Requirement already satisfied: numpy>=1.16 in /home/maryamebr/anaconda3/envs/new-tf-gpu/lib/python3.7/site-packages (from matplotlib) (1.21.5)\n",
      "Requirement already satisfied: pillow>=6.2.0 in /home/maryamebr/anaconda3/envs/new-tf-gpu/lib/python3.7/site-packages (from matplotlib) (9.0.1)\n",
      "Requirement already satisfied: cycler>=0.10 in /home/maryamebr/anaconda3/envs/new-tf-gpu/lib/python3.7/site-packages (from matplotlib) (0.10.0)\n",
      "Requirement already satisfied: pyparsing>=2.2.1 in /home/maryamebr/anaconda3/envs/new-tf-gpu/lib/python3.7/site-packages (from matplotlib) (2.4.7)\n",
      "Requirement already satisfied: python-dateutil>=2.7 in /home/maryamebr/anaconda3/envs/new-tf-gpu/lib/python3.7/site-packages (from matplotlib) (2.8.1)\n",
      "Requirement already satisfied: kiwisolver>=1.0.1 in /home/maryamebr/anaconda3/envs/new-tf-gpu/lib/python3.7/site-packages (from matplotlib) (1.3.1)\n",
      "Requirement already satisfied: six in /home/maryamebr/anaconda3/envs/new-tf-gpu/lib/python3.7/site-packages (from cycler>=0.10->matplotlib) (1.15.0)\n"
     ]
    }
   ],
   "source": [
    "######################################################################\n",
    "# Setup python environment and change the current working directory\n",
    "######################################################################\n",
    "!pip install torch torchvision\n",
    "!pip install imageio\n",
    "\n",
    "!pip install matplotlib\n",
    "\n",
    "%mkdir -p /content/csc413/a4/\n",
    "%cd /content/csc413/a4"
   ]
  },
  {
   "cell_type": "markdown",
   "metadata": {
    "id": "9DaTdRNuUra7"
   },
   "source": [
    "# Helper code"
   ]
  },
  {
   "cell_type": "markdown",
   "metadata": {
    "id": "4BIpGwANoQOg"
   },
   "source": [
    "## Utility functions"
   ]
  },
  {
   "cell_type": "code",
   "execution_count": 2,
   "metadata": {
    "id": "D-UJHBYZkh7f"
   },
   "outputs": [],
   "source": [
    "import os\n",
    "\n",
    "import numpy as np\n",
    "import matplotlib.pyplot as plt\n",
    "\n",
    "import torch\n",
    "from torch import nn\n",
    "from torch.nn import Parameter\n",
    "import torch.nn.functional as F\n",
    "import torch.optim as optim\n",
    "from torch.autograd import Variable\n",
    "from torch.utils.data import DataLoader\n",
    "from torchvision import datasets\n",
    "from torchvision import transforms\n",
    "\n",
    "from six.moves.urllib.request import urlretrieve\n",
    "import tarfile\n",
    "\n",
    "import imageio\n",
    "from urllib.error import URLError\n",
    "from urllib.error import HTTPError\n",
    "\n",
    "\n",
    "def get_file(fname,\n",
    "             origin,\n",
    "             untar=False,\n",
    "             extract=False,\n",
    "             archive_format='auto',\n",
    "             cache_dir='data'):\n",
    "    datadir = os.path.join(cache_dir)\n",
    "    if not os.path.exists(datadir):\n",
    "        os.makedirs(datadir)\n",
    "\n",
    "    if untar:\n",
    "        untar_fpath = os.path.join(datadir, fname)\n",
    "        fpath = untar_fpath + '.tar.gz'\n",
    "    else:\n",
    "        fpath = os.path.join(datadir, fname)\n",
    "\n",
    "    print(fpath)\n",
    "    if not os.path.exists(fpath):\n",
    "        print('Downloading data from', origin)\n",
    "\n",
    "        error_msg = 'URL fetch failure on {}: {} -- {}'\n",
    "        try:\n",
    "            try:\n",
    "                urlretrieve(origin, fpath)\n",
    "            except URLError as e:\n",
    "                raise Exception(error_msg.format(origin, e.errno, e.reason))\n",
    "            except HTTPError as e:\n",
    "                raise Exception(error_msg.format(origin, e.code, e.msg))\n",
    "        except (Exception, KeyboardInterrupt) as e:\n",
    "            if os.path.exists(fpath):\n",
    "                os.remove(fpath)\n",
    "            raise\n",
    "\n",
    "    if untar:\n",
    "        if not os.path.exists(untar_fpath):\n",
    "            print('Extracting file.')\n",
    "            with tarfile.open(fpath) as archive:\n",
    "                archive.extractall(datadir)\n",
    "        return untar_fpath\n",
    "\n",
    "    return fpath\n",
    "\n",
    "\n",
    "class AttrDict(dict):\n",
    "    def __init__(self, *args, **kwargs):\n",
    "        super(AttrDict, self).__init__(*args, **kwargs)\n",
    "        self.__dict__ = self\n",
    "\n",
    "                \n",
    "def to_var(tensor, cuda=True):\n",
    "    \"\"\"Wraps a Tensor in a Variable, optionally placing it on the GPU.\n",
    "\n",
    "        Arguments:\n",
    "            tensor: A Tensor object.\n",
    "            cuda: A boolean flag indicating whether to use the GPU.\n",
    "\n",
    "        Returns:\n",
    "            A Variable object, on the GPU if cuda==True.\n",
    "    \"\"\"\n",
    "    if cuda:\n",
    "        return Variable(tensor.cuda())\n",
    "    else:\n",
    "        return Variable(tensor)\n",
    "\n",
    "    \n",
    "def to_data(x):\n",
    "    \"\"\"Converts variable to numpy.\"\"\"\n",
    "    if torch.cuda.is_available():\n",
    "        x = x.cpu()\n",
    "    return x.data.numpy()\n",
    "\n",
    "\n",
    "def create_dir(directory):\n",
    "    \"\"\"Creates a directory if it doesn't already exist.\n",
    "    \"\"\"\n",
    "    if not os.path.exists(directory):\n",
    "        os.makedirs(directory)\n",
    "\n",
    "\n",
    "def gan_checkpoint(iteration, G, D, opts):\n",
    "    \"\"\"Saves the parameters of the generator G and discriminator D.\n",
    "    \"\"\"\n",
    "    G_path = os.path.join(opts.checkpoint_dir, 'G.pkl')\n",
    "    D_path = os.path.join(opts.checkpoint_dir, 'D.pkl')\n",
    "    torch.save(G.state_dict(), G_path)\n",
    "    torch.save(D.state_dict(), D_path)\n",
    "\n",
    "def load_checkpoint(opts):\n",
    "    \"\"\"Loads the generator and discriminator models from checkpoints.\n",
    "    \"\"\"\n",
    "    G_path = os.path.join(opts.load, 'G.pkl')\n",
    "    D_path = os.path.join(opts.load, 'D_.pkl')\n",
    "\n",
    "    G = DCGenerator(noise_size=opts.noise_size, conv_dim=opts.g_conv_dim, spectral_norm=opts.spectral_norm)\n",
    "    D = DCDiscriminator(conv_dim=opts.d_conv_dim)\n",
    "\n",
    "    G.load_state_dict(torch.load(G_path, map_location=lambda storage, loc: storage))\n",
    "    D.load_state_dict(torch.load(D_path, map_location=lambda storage, loc: storage))\n",
    "\n",
    "    if torch.cuda.is_available():\n",
    "        G.cuda()\n",
    "        D.cuda()\n",
    "        print('Models moved to GPU.')\n",
    "\n",
    "    return G, D\n",
    "\n",
    "\n",
    "def merge_images(sources, targets, opts):\n",
    "    \"\"\"Creates a grid consisting of pairs of columns, where the first column in\n",
    "    each pair contains images source images and the second column in each pair\n",
    "    contains images generated by the CycleGAN from the corresponding images in\n",
    "    the first column.\n",
    "    \"\"\"\n",
    "    _, _, h, w = sources.shape\n",
    "    row = int(np.sqrt(opts.batch_size))\n",
    "    merged = np.zeros([3, row * h, row * w * 2])\n",
    "    for (idx, s, t) in (zip(range(row ** 2), sources, targets, )):\n",
    "        i = idx // row\n",
    "        j = idx % row\n",
    "        merged[:, i * h:(i + 1) * h, (j * 2) * h:(j * 2 + 1) * h] = s\n",
    "        merged[:, i * h:(i + 1) * h, (j * 2 + 1) * h:(j * 2 + 2) * h] = t\n",
    "    return merged.transpose(1, 2, 0)\n",
    "\n",
    "\n",
    "def generate_gif(directory_path, keyword=None):\n",
    "    images = []\n",
    "    for filename in sorted(os.listdir(directory_path)):\n",
    "        if filename.endswith(\".png\") and (keyword is None or keyword in filename):\n",
    "            img_path = os.path.join(directory_path, filename)\n",
    "            print(\"adding image {}\".format(img_path))\n",
    "            images.append(imageio.imread(img_path))\n",
    "\n",
    "    if keyword:\n",
    "        imageio.mimsave(\n",
    "            os.path.join(directory_path, 'anim_{}.gif'.format(keyword)), images)\n",
    "    else:\n",
    "        imageio.mimsave(os.path.join(directory_path, 'anim.gif'), images)\n",
    "\n",
    "\n",
    "def create_image_grid(array, ncols=None):\n",
    "    \"\"\"\n",
    "    \"\"\"\n",
    "    num_images, channels, cell_h, cell_w = array.shape\n",
    "    if not ncols:\n",
    "        ncols = int(np.sqrt(num_images))\n",
    "    nrows = int(np.math.floor(num_images / float(ncols)))\n",
    "    result = np.zeros((cell_h * nrows, cell_w * ncols, channels), dtype=array.dtype)\n",
    "    for i in range(0, nrows):\n",
    "        for j in range(0, ncols):\n",
    "            result[i * cell_h:(i + 1) * cell_h, j * cell_w:(j + 1) * cell_w, :] = array[i * ncols + j].transpose(1, 2,\n",
    "                                                                                                                 0)\n",
    "\n",
    "    if channels == 1:\n",
    "        result = result.squeeze()\n",
    "    return result\n",
    "\n",
    "\n",
    "def gan_save_samples(G, fixed_noise, iteration, opts):\n",
    "    generated_images = G(fixed_noise)\n",
    "    generated_images = to_data(generated_images)\n",
    "\n",
    "    grid = create_image_grid(generated_images)\n",
    "\n",
    "    # merged = merge_images(X, fake_Y, opts)\n",
    "    path = os.path.join(opts.sample_dir, 'sample-{:06d}.png'.format(iteration))\n",
    "    imageio.imwrite(path, grid)\n",
    "    print('Saved {}'.format(path))"
   ]
  },
  {
   "cell_type": "markdown",
   "metadata": {
    "id": "pbvpn4MaV0I1"
   },
   "source": [
    "## Data loader"
   ]
  },
  {
   "cell_type": "code",
   "execution_count": 3,
   "metadata": {
    "id": "XVT4TNTOV3Eg"
   },
   "outputs": [],
   "source": [
    "def get_emoji_loader(emoji_type, opts):\n",
    "    \"\"\"Creates training and test data loaders.\n",
    "    \"\"\"\n",
    "    transform = transforms.Compose([\n",
    "                    transforms.Scale(opts.image_size),\n",
    "                    transforms.ToTensor(),\n",
    "                    transforms.Normalize((0.5, 0.5, 0.5), (0.5, 0.5, 0.5))\n",
    "                ])\n",
    "\n",
    "    train_path = os.path.join('data/emojis', emoji_type)\n",
    "    test_path = os.path.join('data/emojis', 'Test_{}'.format(emoji_type))\n",
    "\n",
    "    train_dataset = datasets.ImageFolder(train_path, transform)\n",
    "    test_dataset = datasets.ImageFolder(test_path, transform)\n",
    "\n",
    "    train_dloader = DataLoader(dataset=train_dataset, batch_size=opts.batch_size, shuffle=True, num_workers=opts.num_workers)\n",
    "    test_dloader = DataLoader(dataset=test_dataset, batch_size=opts.batch_size, shuffle=False, num_workers=opts.num_workers)\n",
    "\n",
    "    return train_dloader, test_dloader"
   ]
  },
  {
   "cell_type": "markdown",
   "metadata": {
    "id": "bRWfRdmVVjUl"
   },
   "source": [
    "## Training and evaluation code"
   ]
  },
  {
   "cell_type": "code",
   "execution_count": 4,
   "metadata": {
    "id": "nSIhQp41q_Nu"
   },
   "outputs": [],
   "source": [
    "def print_models(G_XtoY, G_YtoX, D_X, D_Y):\n",
    "    \"\"\"Prints model information for the generators and discriminators.\n",
    "    \"\"\"\n",
    "    print(\"                 G                     \")\n",
    "    print(\"---------------------------------------\")\n",
    "    print(G_XtoY)\n",
    "    print(\"---------------------------------------\")\n",
    "\n",
    "    print(\"                  D                    \")\n",
    "    print(\"---------------------------------------\")\n",
    "    print(D_X)\n",
    "    print(\"---------------------------------------\")\n",
    "\n",
    "\n",
    "def create_model(opts):\n",
    "    \"\"\"Builds the generators and discriminators.\n",
    "    \"\"\"\n",
    "    ### GAN\n",
    "    G = DCGenerator(noise_size=opts.noise_size, conv_dim=opts.g_conv_dim, spectral_norm=opts.spectral_norm)\n",
    "    D = DCDiscriminator(conv_dim=opts.d_conv_dim, spectral_norm=opts.spectral_norm)\n",
    "\n",
    "    print_models(G, None, D, None)\n",
    "\n",
    "    if torch.cuda.is_available():\n",
    "        G.cuda()\n",
    "        D.cuda()\n",
    "        print('Models moved to GPU.')\n",
    "    return G, D\n",
    "\n",
    "def train(opts):\n",
    "    \"\"\"Loads the data, creates checkpoint and sample directories, and starts the training loop.\n",
    "    \"\"\"\n",
    "\n",
    "    # Create train and test dataloaders for images from the two domains X and Y\n",
    "    dataloader_X, test_dataloader_X = get_emoji_loader(emoji_type=opts.X, opts=opts)\n",
    "    \n",
    "    # Create checkpoint and sample directories\n",
    "    create_dir(opts.checkpoint_dir)\n",
    "    create_dir(opts.sample_dir)\n",
    "\n",
    "    # Start training\n",
    "    if opts.least_squares_gan:\n",
    "        G, D = gan_training_loop_leastsquares(dataloader_X, test_dataloader_X, opts)\n",
    "    else:\n",
    "        G, D = gan_training_loop_regular(dataloader_X, test_dataloader_X, opts)\n",
    "        \n",
    "    return G, D\n",
    "\n",
    "def print_opts(opts):\n",
    "    \"\"\"Prints the values of all command-line arguments.\n",
    "    \"\"\"\n",
    "    print('=' * 80)\n",
    "    print('Opts'.center(80))\n",
    "    print('-' * 80)\n",
    "    for key in opts.__dict__:\n",
    "        if opts.__dict__[key]:\n",
    "            print('{:>30}: {:<30}'.format(key, opts.__dict__[key]).center(80))\n",
    "    print('=' * 80)\n"
   ]
  },
  {
   "cell_type": "markdown",
   "metadata": {
    "id": "bXNsLNkOn38w"
   },
   "source": [
    "# Your code for generators and discriminators"
   ]
  },
  {
   "cell_type": "markdown",
   "metadata": {
    "id": "u0KxX0sDpXKb"
   },
   "source": [
    "## Helper modules"
   ]
  },
  {
   "cell_type": "code",
   "execution_count": 5,
   "metadata": {
    "id": "y7s0etAmpUgT"
   },
   "outputs": [],
   "source": [
    "def sample_noise(batch_size, dim):\n",
    "    \"\"\"\n",
    "    Generate a PyTorch Tensor of uniform random noise.\n",
    "\n",
    "    Input:\n",
    "    - batch_size: Integer giving the batch size of noise to generate.\n",
    "    - dim: Integer giving the dimension of noise to generate.\n",
    "\n",
    "    Output:\n",
    "    - A PyTorch Tensor of shape (batch_size, dim, 1, 1) containing uniform\n",
    "      random noise in the range (-1, 1).\n",
    "    \"\"\"\n",
    "    return to_var(torch.rand(batch_size, dim) * 2 - 1).unsqueeze(2).unsqueeze(3)\n",
    "  \n",
    "\n",
    "def upconv(in_channels, out_channels, kernel_size, stride=2, padding=2, batch_norm=True, spectral_norm=False):\n",
    "    \"\"\"Creates a upsample-and-convolution layer, with optional batch normalization.\n",
    "    \"\"\"\n",
    "    layers = []\n",
    "    if stride>1:\n",
    "        layers.append(nn.Upsample(scale_factor=stride))\n",
    "    conv_layer = nn.Conv2d(in_channels=in_channels, out_channels=out_channels, kernel_size=kernel_size, stride=1, padding=padding, bias=False)\n",
    "    if spectral_norm:\n",
    "        layers.append(SpectralNorm(conv_layer))\n",
    "    else:\n",
    "        layers.append(conv_layer)\n",
    "    if batch_norm:\n",
    "        layers.append(nn.BatchNorm2d(out_channels))\n",
    "    return nn.Sequential(*layers)\n",
    "\n",
    "\n",
    "def conv(in_channels, out_channels, kernel_size, stride=2, padding=2, batch_norm=True, init_zero_weights=False, spectral_norm=False):\n",
    "    \"\"\"Creates a convolutional layer, with optional batch normalization.\n",
    "    \"\"\"\n",
    "    layers = []\n",
    "    conv_layer = nn.Conv2d(in_channels=in_channels, out_channels=out_channels, kernel_size=kernel_size, stride=stride, padding=padding, bias=False)\n",
    "    if init_zero_weights:\n",
    "        conv_layer.weight.data = torch.randn(out_channels, in_channels, kernel_size, kernel_size) * 0.001\n",
    "            \n",
    "    if spectral_norm:\n",
    "        layers.append(SpectralNorm(conv_layer))\n",
    "    else:\n",
    "        layers.append(conv_layer)\n",
    "\n",
    "    if batch_norm:\n",
    "        layers.append(nn.BatchNorm2d(out_channels))\n",
    "    return nn.Sequential(*layers)\n",
    "  \n",
    "\n",
    "class ResnetBlock(nn.Module):\n",
    "    def __init__(self, conv_dim):\n",
    "        super(ResnetBlock, self).__init__()\n",
    "        self.conv_layer = conv(in_channels=conv_dim, out_channels=conv_dim, kernel_size=3, stride=1, padding=1)\n",
    "\n",
    "    def forward(self, x):\n",
    "        out = x + self.conv_layer(x)\n",
    "        return out"
   ]
  },
  {
   "cell_type": "markdown",
   "metadata": {
    "id": "S0_YbBwe5k35"
   },
   "source": [
    "## DCGAN"
   ]
  },
  {
   "cell_type": "markdown",
   "metadata": {
    "id": "m1E_jDaBLT1P"
   },
   "source": [
    "### Spectral Norm class"
   ]
  },
  {
   "cell_type": "code",
   "execution_count": 6,
   "metadata": {
    "id": "2hy97i1-LT1Q"
   },
   "outputs": [],
   "source": [
    "def l2normalize(v, eps=1e-12):\n",
    "    return v / (v.norm() + eps)\n",
    "\n",
    "\n",
    "class SpectralNorm(nn.Module):\n",
    "    def __init__(self, module, name='weight', power_iterations=1):\n",
    "        super(SpectralNorm, self).__init__()\n",
    "        self.module = module\n",
    "        self.name = name\n",
    "        self.power_iterations = power_iterations\n",
    "        if not self._made_params():\n",
    "            self._make_params()\n",
    "\n",
    "    def _update_u_v(self):\n",
    "        u = getattr(self.module, self.name + \"_u\")\n",
    "        v = getattr(self.module, self.name + \"_v\")\n",
    "        w = getattr(self.module, self.name + \"_bar\")\n",
    "\n",
    "        height = w.data.shape[0]\n",
    "        for _ in range(self.power_iterations):\n",
    "            v.data = l2normalize(torch.mv(torch.t(w.view(height,-1).data), u.data))\n",
    "            u.data = l2normalize(torch.mv(w.view(height,-1).data, v.data))\n",
    "\n",
    "        # sigma = torch.dot(u.data, torch.mv(w.view(height,-1).data, v.data))\n",
    "        sigma = u.dot(w.view(height, -1).mv(v))\n",
    "        setattr(self.module, self.name, w / sigma.expand_as(w))\n",
    "\n",
    "    def _made_params(self):\n",
    "        try:\n",
    "            u = getattr(self.module, self.name + \"_u\")\n",
    "            v = getattr(self.module, self.name + \"_v\")\n",
    "            w = getattr(self.module, self.name + \"_bar\")\n",
    "            return True\n",
    "        except AttributeError:\n",
    "            return False\n",
    "\n",
    "    def _make_params(self):\n",
    "        w = getattr(self.module, self.name)\n",
    "\n",
    "        height = w.data.shape[0]\n",
    "        width = w.view(height, -1).data.shape[1]\n",
    "\n",
    "        u = Parameter(w.data.new(height).normal_(0, 1), requires_grad=False)\n",
    "        v = Parameter(w.data.new(width).normal_(0, 1), requires_grad=False)\n",
    "        u.data = l2normalize(u.data)\n",
    "        v.data = l2normalize(v.data)\n",
    "        w_bar = Parameter(w.data)\n",
    "\n",
    "        del self.module._parameters[self.name]\n",
    "\n",
    "        self.module.register_parameter(self.name + \"_u\", u)\n",
    "        self.module.register_parameter(self.name + \"_v\", v)\n",
    "        self.module.register_parameter(self.name + \"_bar\", w_bar)\n",
    "\n",
    "    def forward(self, *args):\n",
    "        self._update_u_v()\n",
    "        return self.module.forward(*args)"
   ]
  },
  {
   "cell_type": "markdown",
   "metadata": {
    "id": "_BAfi_8yWB3y"
   },
   "source": [
    "### **[Your Task]** GAN generator"
   ]
  },
  {
   "cell_type": "code",
   "execution_count": 27,
   "metadata": {
    "id": "9ztmyA5Ro67o"
   },
   "outputs": [],
   "source": [
    "class DCGenerator(nn.Module):\n",
    "    def __init__(self, noise_size, conv_dim, spectral_norm=False):\n",
    "        super(DCGenerator, self).__init__()\n",
    "\n",
    "        self.conv_dim = conv_dim\n",
    "        print(\"conv dim. \", conv_dim)\n",
    "        ###########################################\n",
    "        ##   FILL THIS IN: CREATE ARCHITECTURE   ##\n",
    "        ###########################################\n",
    "        \n",
    "        self.linear_bn = upconv(noise_size, self.conv_dim*4*4*4, kernel_size=1, stride=1, padding=0, batch_norm=True, spectral_norm=spectral_norm)\n",
    "        self.upconv1 = upconv(conv_dim*4, conv_dim*2, kernel_size=5, stride=2, padding=2, batch_norm=True, spectral_norm=spectral_norm)\n",
    "        self.upconv2 = upconv(conv_dim*2, conv_dim, kernel_size=5, stride=2, padding=2, batch_norm=True, spectral_norm=spectral_norm)\n",
    "        self.upconv3 = upconv(conv_dim, 3, kernel_size=5, stride=2, padding=2, batch_norm=False, spectral_norm=spectral_norm)\n",
    "\n",
    "    def forward(self, z):\n",
    "        \"\"\"Generates an image given a sample of random noise.\n",
    "\n",
    "            Input\n",
    "            -----\n",
    "                z: BS x noise_size x 1 x 1   -->  BSx100x1x1 (during training)\n",
    "\n",
    "            Output\n",
    "            ------\n",
    "                out: BS x channels x image_width x image_height  -->  BSx3x32x32 (during training)\n",
    "        \"\"\"\n",
    "\n",
    "        \n",
    "        batch_size = z.size(0)\n",
    "        \n",
    "        out = F.relu(self.linear_bn(z)).view(-1, self.conv_dim*4, 4, 4)    # BS x 128 x 4 x 4\n",
    "#         print(\"out 1 shape (BS x 128 x 4 x 4)\", out.shape)\n",
    "        out = F.relu(self.upconv1(out))  # BS x 64 x 8 x 8\n",
    "#         print(\"out 2 shape (BS x 64 x 8 x 8)\", out.shape)\n",
    "        out = F.relu(self.upconv2(out))  # BS x 32 x 16 x 16\n",
    "#         print(\"out 3 shape (BS x 32 x 16 x 16)\", out.shape)\n",
    "        out = F.tanh(self.upconv3(out))  # BS x 3 x 32 x 32\n",
    "#         print(\"out 4 shape (BS x 3 x 32 x 32)\", out.shape)\n",
    "        \n",
    "        out_size = out.size()\n",
    "        if out_size != torch.Size([batch_size, 3, 32, 32]):\n",
    "            raise ValueError(\"expect {} x 3 x 32 x 32, but get {}\".format(batch_size, out_size))\n",
    "        return out\n"
   ]
  },
  {
   "cell_type": "markdown",
   "metadata": {
    "id": "cG4uqAVPp8_B"
   },
   "source": [
    "### GAN discriminator"
   ]
  },
  {
   "cell_type": "code",
   "execution_count": 28,
   "metadata": {
    "id": "0GkjXydnqARR"
   },
   "outputs": [],
   "source": [
    "class DCDiscriminator(nn.Module):\n",
    "    \"\"\"Defines the architecture of the discriminator network.\n",
    "       Note: Both discriminators D_X and D_Y have the same architecture in this assignment.\n",
    "    \"\"\"\n",
    "    def __init__(self, conv_dim=64, spectral_norm=False):\n",
    "        super(DCDiscriminator, self).__init__()\n",
    "\n",
    "\n",
    "        self.conv1 = conv(in_channels=3, out_channels=conv_dim, kernel_size=5, stride=2, spectral_norm=spectral_norm)\n",
    "        self.conv2 = conv(in_channels=conv_dim, out_channels=conv_dim*2, kernel_size=5, stride=2, spectral_norm=spectral_norm)\n",
    "        self.conv3 = conv(in_channels=conv_dim*2, out_channels=conv_dim*4, kernel_size=5, stride=2, spectral_norm=spectral_norm)\n",
    "        self.conv4 = conv(in_channels=conv_dim*4, out_channels=1, kernel_size=5, stride=2, padding=1, batch_norm=False, spectral_norm=spectral_norm)\n",
    "\n",
    "    def forward(self, x):\n",
    "        batch_size = x.size(0)\n",
    "\n",
    "        out = F.relu(self.conv1(x))    # BS x 64 x 16 x 16\n",
    "        out = F.relu(self.conv2(out))    # BS x 64 x 8 x 8\n",
    "        out = F.relu(self.conv3(out))    # BS x 64 x 4 x 4\n",
    "\n",
    "        out = self.conv4(out).squeeze()\n",
    "        out_size = out.size()\n",
    "        if out_size != torch.Size([batch_size,]):\n",
    "            raise ValueError(\"expect {} x 1, but get {}\".format(batch_size, out_size))\n",
    "        return out"
   ]
  },
  {
   "cell_type": "markdown",
   "metadata": {
    "id": "G8RtBMu55ysm"
   },
   "source": [
    "### **[Your Task]** GAN training loop \n",
    "\n",
    "\n",
    "*   Regular GAN\n",
    "*   Least Squares GAN\n",
    "\n"
   ]
  },
  {
   "cell_type": "code",
   "execution_count": 47,
   "metadata": {
    "id": "MxIJ2Zua51KI"
   },
   "outputs": [],
   "source": [
    "def gan_training_loop_regular(dataloader, test_dataloader, opts):\n",
    "    \"\"\"Runs the training loop.\n",
    "        * Saves checkpoint every opts.checkpoint_every iterations\n",
    "        * Saves generated samples every opts.sample_every iterations\n",
    "    \"\"\"\n",
    "\n",
    "    # Create generators and discriminators\n",
    "    G, D = create_model(opts)\n",
    "\n",
    "    g_params = G.parameters()  # Get generator parameters\n",
    "    d_params = D.parameters()  # Get discriminator parameters\n",
    "\n",
    "    # Create optimizers for the generators and discriminators\n",
    "    g_optimizer = optim.Adam(g_params, opts.lr, [opts.beta1, opts.beta2])\n",
    "    d_optimizer = optim.Adam(d_params, opts.lr * 2., [opts.beta1, opts.beta2])\n",
    "\n",
    "    train_iter = iter(dataloader)\n",
    "\n",
    "    test_iter = iter(test_dataloader)\n",
    "\n",
    "    # Get some fixed data from domains X and Y for sampling. These are images that are held\n",
    "    # constant throughout training, that allow us to inspect the model's performance.\n",
    "    fixed_noise = sample_noise(100, opts.noise_size)  # # 100 x noise_size x 1 x 1\n",
    "\n",
    "    iter_per_epoch = len(train_iter)\n",
    "    total_train_iters = opts.train_iters\n",
    "\n",
    "    losses = {\"iteration\": [], \"D_fake_loss\": [], \"D_real_loss\": [], \"G_loss\": []}\n",
    "    \n",
    "    gp_weight = 1\n",
    "\n",
    "    adversarial_loss = torch.nn.BCEWithLogitsLoss() # Use this loss\n",
    "    # [Hint: you may find the folowing code helpful]\n",
    "    # ones = Variable(torch.Tensor(real_images.shape[0]).float().cuda().fill_(1.0), requires_grad=False)\n",
    "\n",
    "    try:\n",
    "        for iteration in range(1, opts.train_iters + 1):\n",
    "\n",
    "            # Reset data_iter for each epoch\n",
    "            if iteration % iter_per_epoch == 0:\n",
    "                train_iter = iter(dataloader)\n",
    "\n",
    "            real_images, real_labels = train_iter.next()\n",
    "            real_images, real_labels = to_var(real_images), to_var(real_labels).long().squeeze()\n",
    "            \n",
    "\n",
    "            for d_i in range(opts.d_train_iters):\n",
    "                d_optimizer.zero_grad()\n",
    "\n",
    "                # FILL THIS IN\n",
    "                # 1. Compute the discriminator loss on real images\n",
    "                D_real_loss = -1 * torch.mean(torch.log(D(real_images)))\n",
    "                \n",
    "\n",
    "                # 2. Sample noise\n",
    "                noise = sample_noise(real_images.shape[0], opts.noise_size)\n",
    "\n",
    "                # 3. Generate fake images from the noise\n",
    "                fake_images = G(noise)\n",
    "\n",
    "                # 4. Compute the discriminator loss on the fake images\n",
    "                D_fake_loss = -1 * torch.mean(torch.log(1 - D(fake_images.detach())))\n",
    "\n",
    "                # ---- Gradient Penalty ----\n",
    "                if opts.gradient_penalty:\n",
    "                    alpha = torch.rand(real_images.shape[0], 1, 1, 1)\n",
    "                    alpha = alpha.expand_as(real_images).cuda()\n",
    "                    interp_images = Variable(alpha * real_images.data + (1 - alpha) * fake_images.data, \n",
    "                                             requires_grad=True).cuda()\n",
    "                    D_interp_output = D(interp_images)\n",
    "\n",
    "                    gradients = torch.autograd.grad(outputs=D_interp_output, inputs=interp_images,\n",
    "                                                    grad_outputs=torch.ones(D_interp_output.size()).cuda(),\n",
    "                                                    create_graph=True, retain_graph=True)[0]\n",
    "                    gradients = gradients.view(real_images.shape[0], -1)\n",
    "                    gradients_norm = torch.sqrt(torch.sum(gradients ** 2, dim=1) + 1e-12)\n",
    "\n",
    "                    gp = gp_weight * gradients_norm.mean()\n",
    "                else:\n",
    "                    gp = 0.0\n",
    "\n",
    "                # --------------------------\n",
    "                # 5. Compute the total discriminator loss\n",
    "                D_total_loss = D_real_loss + D_fake_loss + gp\n",
    "\n",
    "                D_total_loss.backward()\n",
    "                d_optimizer.step()\n",
    "\n",
    "            ###########################################\n",
    "            ###          TRAIN THE GENERATOR        ###\n",
    "            ###########################################\n",
    "\n",
    "            g_optimizer.zero_grad()\n",
    "\n",
    "            # FILL THIS IN\n",
    "            # 1. Sample noise\n",
    "            noise = sample_noise(real_images.shape[0], opts.noise_size)\n",
    "\n",
    "            # 2. Generate fake images from the noise\n",
    "            fake_images = G(noise)\n",
    "\n",
    "            # 3. Compute the generator loss\n",
    "            G_loss = -1 * torch.mean(torch.log(D(fake_images)))\n",
    "\n",
    "            G_loss.backward()\n",
    "            g_optimizer.step()\n",
    "\n",
    "            # Print the log info\n",
    "            if iteration % opts.log_step == 0:\n",
    "                losses['iteration'].append(iteration)\n",
    "                losses['D_real_loss'].append(D_real_loss.item())\n",
    "                losses['D_fake_loss'].append(D_fake_loss.item())\n",
    "                losses['G_loss'].append(G_loss.item())\n",
    "                print('Iteration [{:4d}/{:4d}] | D_real_loss: \\\n",
    "                {:6.4f} | D_fake_loss: {:6.4f} | G_loss: {:6.4f}'.format(\n",
    "                    iteration, total_train_iters, D_real_loss.item(), D_fake_loss.item(), G_loss.item()))\n",
    "\n",
    "            # Save the generated samples\n",
    "            if iteration % opts.sample_every == 0:\n",
    "                gan_save_samples(G, fixed_noise, iteration, opts)\n",
    "\n",
    "            # Save the model parameters\n",
    "            if iteration % opts.checkpoint_every == 0:\n",
    "                gan_checkpoint(iteration, G, D, opts)\n",
    "\n",
    "    except KeyboardInterrupt:\n",
    "        print('Exiting early from training.')\n",
    "        return G, D\n",
    "\n",
    "    plt.figure()\n",
    "    plt.plot(losses['iteration'], losses['D_real_loss'], label='D_real')\n",
    "    plt.plot(losses['iteration'], losses['D_fake_loss'], label='D_fake')\n",
    "    plt.plot(losses['iteration'], losses['G_loss'], label='G')\n",
    "    plt.legend()\n",
    "    plt.savefig(os.path.join(opts.sample_dir, 'losses.png'))\n",
    "    plt.close()\n",
    "    return G, D"
   ]
  },
  {
   "cell_type": "code",
   "execution_count": 48,
   "metadata": {
    "id": "cCla1-2mezfn"
   },
   "outputs": [],
   "source": [
    "def gan_training_loop_leastsquares(dataloader, test_dataloader, opts):\n",
    "    \"\"\"Runs the training loop.\n",
    "        * Saves checkpoint every opts.checkpoint_every iterations\n",
    "        * Saves generated samples every opts.sample_every iterations\n",
    "    \"\"\"\n",
    "\n",
    "    # Create generators and discriminators\n",
    "    G, D = create_model(opts)\n",
    "\n",
    "    g_params = G.parameters()  # Get generator parameters\n",
    "    d_params = D.parameters()  # Get discriminator parameters\n",
    "\n",
    "    # Create optimizers for the generators and discriminators\n",
    "    g_optimizer = optim.Adam(g_params, opts.lr, [opts.beta1, opts.beta2])\n",
    "    d_optimizer = optim.Adam(d_params, opts.lr * 2., [opts.beta1, opts.beta2])\n",
    "\n",
    "    train_iter = iter(dataloader)\n",
    "\n",
    "    test_iter = iter(test_dataloader)\n",
    "\n",
    "    # Get some fixed data from domains X and Y for sampling. These are images that are held\n",
    "    # constant throughout training, that allow us to inspect the model's performance.\n",
    "    fixed_noise = sample_noise(100, opts.noise_size)  # # 100 x noise_size x 1 x 1\n",
    "\n",
    "    iter_per_epoch = len(train_iter)\n",
    "    total_train_iters = opts.train_iters\n",
    "\n",
    "    losses = {\"iteration\": [], \"D_fake_loss\": [], \"D_real_loss\": [], \"G_loss\": []}\n",
    "\n",
    "    #adversarial_loss = torch.nn.BCEWithLogitsLoss()\n",
    "    gp_weight = 1\n",
    "\n",
    "    try:\n",
    "        for iteration in range(1, opts.train_iters + 1):\n",
    "\n",
    "            # Reset data_iter for each epoch\n",
    "            if iteration % iter_per_epoch == 0:\n",
    "                train_iter = iter(dataloader)\n",
    "\n",
    "            real_images, real_labels = train_iter.next()\n",
    "            real_images, real_labels = to_var(real_images), to_var(real_labels).long().squeeze()\n",
    "\n",
    "\n",
    "            for d_i in range(opts.d_train_iters):\n",
    "                d_optimizer.zero_grad()\n",
    "\n",
    "                # FILL THIS IN\n",
    "                # 1. Compute the discriminator loss on real images\n",
    "                D_real_loss = torch.mean((D(real_images) - 1) ** 2) /2\n",
    "\n",
    "                # 2. Sample noise\n",
    "                noise = sample_noise(real_images.shape[0], opts.noise_size)\n",
    "\n",
    "                # 3. Generate fake images from the noise\n",
    "                fake_images = G(noise)\n",
    "\n",
    "                # 4. Compute the discriminator loss on the fake images\n",
    "                D_fake_loss = torch.mean(D(fake_images) ** 2) /2\n",
    "\n",
    "                # ---- Gradient Penalty ----\n",
    "                if opts.gradient_penalty:\n",
    "                    alpha = torch.rand(real_images.shape[0], 1, 1, 1)\n",
    "                    alpha = alpha.expand_as(real_images).cuda()\n",
    "                    interp_images = Variable(alpha * real_images.data + (1 - alpha) * \n",
    "                                             fake_images.data, requires_grad=True).cuda()\n",
    "                    D_interp_output = D(interp_images)\n",
    "\n",
    "                    gradients = torch.autograd.grad(outputs=D_interp_output, inputs=interp_images,\n",
    "                                                    grad_outputs=torch.ones(D_interp_output.size()).cuda(),\n",
    "                                                    create_graph=True, retain_graph=True)[0]\n",
    "                    gradients = gradients.view(real_images.shape[0], -1)\n",
    "                    gradients_norm = torch.sqrt(torch.sum(gradients ** 2, dim=1) + 1e-12)\n",
    "\n",
    "                    gp = gp_weight * gradients_norm.mean()\n",
    "                else:\n",
    "                    gp = 0.0\n",
    "\n",
    "                # --------------------------\n",
    "                # 5. Compute the total discriminator loss\n",
    "                D_total_loss = D_real_loss + D_fake_loss + gp\n",
    "\n",
    "                D_total_loss.backward()\n",
    "                d_optimizer.step()\n",
    "\n",
    "            ###########################################\n",
    "            ###          TRAIN THE GENERATOR        ###\n",
    "            ###########################################\n",
    "\n",
    "            g_optimizer.zero_grad()\n",
    "\n",
    "            # FILL THIS IN\n",
    "            # 1. Sample noise\n",
    "            noise = sample_noise(real_images.shape[0], opts.noise_size)\n",
    "\n",
    "            # 2. Generate fake images from the noise\n",
    "            fake_images = G(noise)\n",
    "\n",
    "            # 3. Compute the generator loss\n",
    "            G_loss = torch.mean((D(fake_images) - 1) ** 2)\n",
    "\n",
    "            G_loss.backward()\n",
    "            g_optimizer.step()\n",
    "\n",
    "            # Print the log info\n",
    "            if iteration % opts.log_step == 0:\n",
    "                losses['iteration'].append(iteration)\n",
    "                losses['D_real_loss'].append(D_real_loss.item())\n",
    "                losses['D_fake_loss'].append(D_fake_loss.item())\n",
    "                losses['G_loss'].append(G_loss.item())\n",
    "                print('Iteration [{:4d}/{:4d}] | D_real_loss: {:6.4f} | \\\n",
    "                D_fake_loss: {:6.4f} | G_loss: {:6.4f}'.format(\n",
    "                    iteration, total_train_iters, D_real_loss.item(), D_fake_loss.item(), G_loss.item()))\n",
    "\n",
    "            # Save the generated samples\n",
    "            if iteration % opts.sample_every == 0:\n",
    "                gan_save_samples(G, fixed_noise, iteration, opts)\n",
    "\n",
    "            # Save the model parameters\n",
    "            if iteration % opts.checkpoint_every == 0:\n",
    "                gan_checkpoint(iteration, G, D, opts)\n",
    "\n",
    "    except KeyboardInterrupt:\n",
    "        print('Exiting early from training.')\n",
    "        return G, D\n",
    "\n",
    "    plt.figure()\n",
    "    plt.plot(losses['iteration'], losses['D_real_loss'], label='D_real')\n",
    "    plt.plot(losses['iteration'], losses['D_fake_loss'], label='D_fake')\n",
    "    plt.plot(losses['iteration'], losses['G_loss'], label='G')\n",
    "    plt.legend()\n",
    "    plt.savefig(os.path.join(opts.sample_dir, 'losses.png'))\n",
    "    plt.close()\n",
    "    return G, D"
   ]
  },
  {
   "cell_type": "markdown",
   "metadata": {
    "id": "XuNFd6LNo0-o"
   },
   "source": [
    "# **[Your Task]** Training\n"
   ]
  },
  {
   "cell_type": "markdown",
   "metadata": {
    "id": "kiUwiOITHTW4"
   },
   "source": [
    "## Download dataset"
   ]
  },
  {
   "cell_type": "code",
   "execution_count": 49,
   "metadata": {
    "id": "xwcFjsEpHRbI"
   },
   "outputs": [
    {
     "name": "stdout",
     "output_type": "stream",
     "text": [
      "data/emojis.tar.gz\n"
     ]
    }
   ],
   "source": [
    "######################################################################\n",
    "# Download Translation datasets\n",
    "######################################################################\n",
    "data_fpath = get_file(fname='emojis', \n",
    "                         origin='http://www.cs.toronto.edu/~jba/emojis.tar.gz', \n",
    "                         untar=True)"
   ]
  },
  {
   "cell_type": "markdown",
   "metadata": {
    "id": "hmQmyJDSRFKR"
   },
   "source": [
    "## Train DCGAN"
   ]
  },
  {
   "cell_type": "code",
   "execution_count": 50,
   "metadata": {},
   "outputs": [
    {
     "name": "stdout",
     "output_type": "stream",
     "text": [
      "================================================================================\n",
      "                                      Opts                                      \n",
      "--------------------------------------------------------------------------------\n",
      "                             image_size: 32                                     \n",
      "                             g_conv_dim: 32                                     \n",
      "                             d_conv_dim: 64                                     \n",
      "                             noise_size: 100                                    \n",
      "                            train_iters: 20000                                  \n",
      "                                      X: Apple                                  \n",
      "                                     lr: 3e-05                                  \n",
      "                                  beta1: 0.5                                    \n",
      "                                  beta2: 0.999                                  \n",
      "                             batch_size: 32                                     \n",
      "                       checkpoint_dir: results/checkpoints_gan_gp1_lr3e-5       \n",
      "                             sample_dir: results/samples_gan_gp1_lr3e-5         \n",
      "                               log_step: 200                                    \n",
      "                           sample_every: 200                                    \n",
      "                       checkpoint_every: 1000                                   \n",
      "                       gradient_penalty: 1                                      \n",
      "                          d_train_iters: 1                                      \n",
      "================================================================================\n",
      "conv dim.  32\n",
      "                 G                     \n",
      "---------------------------------------\n",
      "DCGenerator(\n",
      "  (linear_bn): Sequential(\n",
      "    (0): Conv2d(100, 2048, kernel_size=(1, 1), stride=(1, 1), bias=False)\n",
      "    (1): BatchNorm2d(2048, eps=1e-05, momentum=0.1, affine=True, track_running_stats=True)\n",
      "  )\n",
      "  (upconv1): Sequential(\n",
      "    (0): Upsample(scale_factor=2.0, mode=nearest)\n",
      "    (1): Conv2d(128, 64, kernel_size=(5, 5), stride=(1, 1), padding=(2, 2), bias=False)\n",
      "    (2): BatchNorm2d(64, eps=1e-05, momentum=0.1, affine=True, track_running_stats=True)\n",
      "  )\n",
      "  (upconv2): Sequential(\n",
      "    (0): Upsample(scale_factor=2.0, mode=nearest)\n",
      "    (1): Conv2d(64, 32, kernel_size=(5, 5), stride=(1, 1), padding=(2, 2), bias=False)\n",
      "    (2): BatchNorm2d(32, eps=1e-05, momentum=0.1, affine=True, track_running_stats=True)\n",
      "  )\n",
      "  (upconv3): Sequential(\n",
      "    (0): Upsample(scale_factor=2.0, mode=nearest)\n",
      "    (1): Conv2d(32, 3, kernel_size=(5, 5), stride=(1, 1), padding=(2, 2), bias=False)\n",
      "  )\n",
      ")\n",
      "---------------------------------------\n",
      "                  D                    \n",
      "---------------------------------------\n",
      "DCDiscriminator(\n",
      "  (conv1): Sequential(\n",
      "    (0): Conv2d(3, 64, kernel_size=(5, 5), stride=(2, 2), padding=(2, 2), bias=False)\n",
      "    (1): BatchNorm2d(64, eps=1e-05, momentum=0.1, affine=True, track_running_stats=True)\n",
      "  )\n",
      "  (conv2): Sequential(\n",
      "    (0): Conv2d(64, 128, kernel_size=(5, 5), stride=(2, 2), padding=(2, 2), bias=False)\n",
      "    (1): BatchNorm2d(128, eps=1e-05, momentum=0.1, affine=True, track_running_stats=True)\n",
      "  )\n",
      "  (conv3): Sequential(\n",
      "    (0): Conv2d(128, 256, kernel_size=(5, 5), stride=(2, 2), padding=(2, 2), bias=False)\n",
      "    (1): BatchNorm2d(256, eps=1e-05, momentum=0.1, affine=True, track_running_stats=True)\n",
      "  )\n",
      "  (conv4): Sequential(\n",
      "    (0): Conv2d(256, 1, kernel_size=(5, 5), stride=(2, 2), padding=(1, 1), bias=False)\n",
      "  )\n",
      ")\n",
      "---------------------------------------\n",
      "Models moved to GPU.\n"
     ]
    },
    {
     "name": "stderr",
     "output_type": "stream",
     "text": [
      "Lossy conversion from float32 to uint8. Range [-0.9670770764350891, 0.9953771829605103]. Convert image to uint8 prior to saving to suppress this warning.\n"
     ]
    },
    {
     "name": "stdout",
     "output_type": "stream",
     "text": [
      "Iteration [ 200/20000] | D_real_loss:                    nan | D_fake_loss: -1.4905 | G_loss:    nan\n",
      "Saved results/samples_gan_gp1_lr3e-5/sample-000200.png\n",
      "Exiting early from training.\n",
      "adding image results/samples_gan_gp1_lr3e-5/losses.png\n",
      "adding image results/samples_gan_gp1_lr3e-5/sample-000200.png\n",
      "adding image results/samples_gan_gp1_lr3e-5/sample-000400.png\n",
      "adding image results/samples_gan_gp1_lr3e-5/sample-000600.png\n",
      "adding image results/samples_gan_gp1_lr3e-5/sample-000800.png\n",
      "adding image results/samples_gan_gp1_lr3e-5/sample-001000.png\n",
      "adding image results/samples_gan_gp1_lr3e-5/sample-001200.png\n",
      "adding image results/samples_gan_gp1_lr3e-5/sample-001400.png\n",
      "adding image results/samples_gan_gp1_lr3e-5/sample-001600.png\n",
      "adding image results/samples_gan_gp1_lr3e-5/sample-001800.png\n",
      "adding image results/samples_gan_gp1_lr3e-5/sample-002000.png\n",
      "adding image results/samples_gan_gp1_lr3e-5/sample-002200.png\n",
      "adding image results/samples_gan_gp1_lr3e-5/sample-002400.png\n",
      "adding image results/samples_gan_gp1_lr3e-5/sample-002600.png\n",
      "adding image results/samples_gan_gp1_lr3e-5/sample-002800.png\n",
      "adding image results/samples_gan_gp1_lr3e-5/sample-003000.png\n",
      "adding image results/samples_gan_gp1_lr3e-5/sample-003200.png\n",
      "adding image results/samples_gan_gp1_lr3e-5/sample-003400.png\n",
      "adding image results/samples_gan_gp1_lr3e-5/sample-003600.png\n",
      "adding image results/samples_gan_gp1_lr3e-5/sample-003800.png\n",
      "adding image results/samples_gan_gp1_lr3e-5/sample-004000.png\n",
      "adding image results/samples_gan_gp1_lr3e-5/sample-004200.png\n",
      "adding image results/samples_gan_gp1_lr3e-5/sample-004400.png\n",
      "adding image results/samples_gan_gp1_lr3e-5/sample-004600.png\n",
      "adding image results/samples_gan_gp1_lr3e-5/sample-004800.png\n",
      "adding image results/samples_gan_gp1_lr3e-5/sample-005000.png\n",
      "adding image results/samples_gan_gp1_lr3e-5/sample-005200.png\n",
      "adding image results/samples_gan_gp1_lr3e-5/sample-005400.png\n",
      "adding image results/samples_gan_gp1_lr3e-5/sample-005600.png\n",
      "adding image results/samples_gan_gp1_lr3e-5/sample-005800.png\n",
      "adding image results/samples_gan_gp1_lr3e-5/sample-006000.png\n",
      "adding image results/samples_gan_gp1_lr3e-5/sample-006200.png\n",
      "adding image results/samples_gan_gp1_lr3e-5/sample-006400.png\n",
      "adding image results/samples_gan_gp1_lr3e-5/sample-006600.png\n",
      "adding image results/samples_gan_gp1_lr3e-5/sample-006800.png\n",
      "adding image results/samples_gan_gp1_lr3e-5/sample-007000.png\n",
      "adding image results/samples_gan_gp1_lr3e-5/sample-007200.png\n",
      "adding image results/samples_gan_gp1_lr3e-5/sample-007400.png\n",
      "adding image results/samples_gan_gp1_lr3e-5/sample-007600.png\n",
      "adding image results/samples_gan_gp1_lr3e-5/sample-007800.png\n",
      "adding image results/samples_gan_gp1_lr3e-5/sample-008000.png\n",
      "adding image results/samples_gan_gp1_lr3e-5/sample-008200.png\n",
      "adding image results/samples_gan_gp1_lr3e-5/sample-008400.png\n",
      "adding image results/samples_gan_gp1_lr3e-5/sample-008600.png\n",
      "adding image results/samples_gan_gp1_lr3e-5/sample-008800.png\n",
      "adding image results/samples_gan_gp1_lr3e-5/sample-009000.png\n",
      "adding image results/samples_gan_gp1_lr3e-5/sample-009200.png\n",
      "adding image results/samples_gan_gp1_lr3e-5/sample-009400.png\n",
      "adding image results/samples_gan_gp1_lr3e-5/sample-009600.png\n",
      "adding image results/samples_gan_gp1_lr3e-5/sample-009800.png\n",
      "adding image results/samples_gan_gp1_lr3e-5/sample-010000.png\n",
      "adding image results/samples_gan_gp1_lr3e-5/sample-010200.png\n",
      "adding image results/samples_gan_gp1_lr3e-5/sample-010400.png\n",
      "adding image results/samples_gan_gp1_lr3e-5/sample-010600.png\n",
      "adding image results/samples_gan_gp1_lr3e-5/sample-010800.png\n",
      "adding image results/samples_gan_gp1_lr3e-5/sample-011000.png\n",
      "adding image results/samples_gan_gp1_lr3e-5/sample-011200.png\n",
      "adding image results/samples_gan_gp1_lr3e-5/sample-011400.png\n",
      "adding image results/samples_gan_gp1_lr3e-5/sample-011600.png\n",
      "adding image results/samples_gan_gp1_lr3e-5/sample-011800.png\n",
      "adding image results/samples_gan_gp1_lr3e-5/sample-012000.png\n",
      "adding image results/samples_gan_gp1_lr3e-5/sample-012200.png\n",
      "adding image results/samples_gan_gp1_lr3e-5/sample-012400.png\n",
      "adding image results/samples_gan_gp1_lr3e-5/sample-012600.png\n",
      "adding image results/samples_gan_gp1_lr3e-5/sample-012800.png\n",
      "adding image results/samples_gan_gp1_lr3e-5/sample-013000.png\n",
      "adding image results/samples_gan_gp1_lr3e-5/sample-013200.png\n",
      "adding image results/samples_gan_gp1_lr3e-5/sample-013400.png\n",
      "adding image results/samples_gan_gp1_lr3e-5/sample-013600.png\n",
      "adding image results/samples_gan_gp1_lr3e-5/sample-013800.png\n",
      "adding image results/samples_gan_gp1_lr3e-5/sample-014000.png\n",
      "adding image results/samples_gan_gp1_lr3e-5/sample-014200.png\n",
      "adding image results/samples_gan_gp1_lr3e-5/sample-014400.png\n",
      "adding image results/samples_gan_gp1_lr3e-5/sample-014600.png\n",
      "adding image results/samples_gan_gp1_lr3e-5/sample-014800.png\n",
      "adding image results/samples_gan_gp1_lr3e-5/sample-015000.png\n",
      "adding image results/samples_gan_gp1_lr3e-5/sample-015200.png\n",
      "adding image results/samples_gan_gp1_lr3e-5/sample-015400.png\n",
      "adding image results/samples_gan_gp1_lr3e-5/sample-015600.png\n",
      "adding image results/samples_gan_gp1_lr3e-5/sample-015800.png\n",
      "adding image results/samples_gan_gp1_lr3e-5/sample-016000.png\n",
      "adding image results/samples_gan_gp1_lr3e-5/sample-016200.png\n",
      "adding image results/samples_gan_gp1_lr3e-5/sample-016400.png\n",
      "adding image results/samples_gan_gp1_lr3e-5/sample-016600.png\n",
      "adding image results/samples_gan_gp1_lr3e-5/sample-016800.png\n",
      "adding image results/samples_gan_gp1_lr3e-5/sample-017000.png\n",
      "adding image results/samples_gan_gp1_lr3e-5/sample-017200.png\n",
      "adding image results/samples_gan_gp1_lr3e-5/sample-017400.png\n",
      "adding image results/samples_gan_gp1_lr3e-5/sample-017600.png\n",
      "adding image results/samples_gan_gp1_lr3e-5/sample-017800.png\n",
      "adding image results/samples_gan_gp1_lr3e-5/sample-018000.png\n",
      "adding image results/samples_gan_gp1_lr3e-5/sample-018200.png\n",
      "adding image results/samples_gan_gp1_lr3e-5/sample-018400.png\n",
      "adding image results/samples_gan_gp1_lr3e-5/sample-018600.png\n",
      "adding image results/samples_gan_gp1_lr3e-5/sample-018800.png\n",
      "adding image results/samples_gan_gp1_lr3e-5/sample-019000.png\n",
      "adding image results/samples_gan_gp1_lr3e-5/sample-019200.png\n",
      "adding image results/samples_gan_gp1_lr3e-5/sample-019400.png\n",
      "adding image results/samples_gan_gp1_lr3e-5/sample-019600.png\n",
      "adding image results/samples_gan_gp1_lr3e-5/sample-019800.png\n",
      "adding image results/samples_gan_gp1_lr3e-5/sample-020000.png\n"
     ]
    }
   ],
   "source": [
    "#######regular\n",
    "\n",
    "SEED = 11\n",
    "\n",
    "# Set the random seed manually for reproducibility.\n",
    "np.random.seed(SEED)\n",
    "torch.manual_seed(SEED)\n",
    "if torch.cuda.is_available():\n",
    "    torch.cuda.manual_seed(SEED)\n",
    "\n",
    "\n",
    "args = AttrDict()\n",
    "args_dict = {\n",
    "              'image_size':32, \n",
    "              'g_conv_dim':32, \n",
    "              'd_conv_dim':64,\n",
    "              'noise_size':100,\n",
    "              'num_workers': 0,\n",
    "              'train_iters':20000,\n",
    "              'X':'Apple',  # options: 'Windows' / 'Apple'\n",
    "              'Y': None,\n",
    "              'lr':0.00003,\n",
    "              'beta1':0.5,\n",
    "              'beta2':0.999,\n",
    "              'batch_size':32, \n",
    "              'checkpoint_dir': 'results/checkpoints_gan_gp1_lr3e-5',\n",
    "              'sample_dir': 'results/samples_gan_gp1_lr3e-5',\n",
    "              'load': None,\n",
    "              'log_step':200,\n",
    "              'sample_every':200,\n",
    "              'checkpoint_every':1000,\n",
    "              'spectral_norm': False,\n",
    "              'gradient_penalty': True,\n",
    "              'least_squares_gan': False,\n",
    "              'd_train_iters': 1\n",
    "}\n",
    "args.update(args_dict)\n",
    "\n",
    "print_opts(args)\n",
    "G, D = train(args)\n",
    "\n",
    "generate_gif(\"results/samples_gan_gp1_lr3e-5\")"
   ]
  },
  {
   "cell_type": "code",
   "execution_count": 51,
   "metadata": {
    "id": "0LKaRF1jwhH7",
    "scrolled": true
   },
   "outputs": [
    {
     "name": "stdout",
     "output_type": "stream",
     "text": [
      "================================================================================\n",
      "                                      Opts                                      \n",
      "--------------------------------------------------------------------------------\n",
      "                             image_size: 32                                     \n",
      "                             g_conv_dim: 32                                     \n",
      "                             d_conv_dim: 64                                     \n",
      "                             noise_size: 100                                    \n",
      "                            train_iters: 20000                                  \n",
      "                                      X: Apple                                  \n",
      "                                     lr: 3e-05                                  \n",
      "                                  beta1: 0.5                                    \n",
      "                                  beta2: 0.999                                  \n",
      "                             batch_size: 32                                     \n",
      "                       checkpoint_dir: results/checkpoints_gan_gp1_lr3e-5       \n",
      "                             sample_dir: results/samples_gan_gp1_lr3e-5         \n",
      "                               log_step: 200                                    \n",
      "                           sample_every: 200                                    \n",
      "                       checkpoint_every: 1000                                   \n",
      "                       gradient_penalty: 1                                      \n",
      "                      least_squares_gan: 1                                      \n",
      "                          d_train_iters: 1                                      \n",
      "================================================================================\n",
      "conv dim.  32\n",
      "                 G                     \n",
      "---------------------------------------\n",
      "DCGenerator(\n",
      "  (linear_bn): Sequential(\n",
      "    (0): Conv2d(100, 2048, kernel_size=(1, 1), stride=(1, 1), bias=False)\n",
      "    (1): BatchNorm2d(2048, eps=1e-05, momentum=0.1, affine=True, track_running_stats=True)\n",
      "  )\n",
      "  (upconv1): Sequential(\n",
      "    (0): Upsample(scale_factor=2.0, mode=nearest)\n",
      "    (1): Conv2d(128, 64, kernel_size=(5, 5), stride=(1, 1), padding=(2, 2), bias=False)\n",
      "    (2): BatchNorm2d(64, eps=1e-05, momentum=0.1, affine=True, track_running_stats=True)\n",
      "  )\n",
      "  (upconv2): Sequential(\n",
      "    (0): Upsample(scale_factor=2.0, mode=nearest)\n",
      "    (1): Conv2d(64, 32, kernel_size=(5, 5), stride=(1, 1), padding=(2, 2), bias=False)\n",
      "    (2): BatchNorm2d(32, eps=1e-05, momentum=0.1, affine=True, track_running_stats=True)\n",
      "  )\n",
      "  (upconv3): Sequential(\n",
      "    (0): Upsample(scale_factor=2.0, mode=nearest)\n",
      "    (1): Conv2d(32, 3, kernel_size=(5, 5), stride=(1, 1), padding=(2, 2), bias=False)\n",
      "  )\n",
      ")\n",
      "---------------------------------------\n",
      "                  D                    \n",
      "---------------------------------------\n",
      "DCDiscriminator(\n",
      "  (conv1): Sequential(\n",
      "    (0): Conv2d(3, 64, kernel_size=(5, 5), stride=(2, 2), padding=(2, 2), bias=False)\n",
      "    (1): BatchNorm2d(64, eps=1e-05, momentum=0.1, affine=True, track_running_stats=True)\n",
      "  )\n",
      "  (conv2): Sequential(\n",
      "    (0): Conv2d(64, 128, kernel_size=(5, 5), stride=(2, 2), padding=(2, 2), bias=False)\n",
      "    (1): BatchNorm2d(128, eps=1e-05, momentum=0.1, affine=True, track_running_stats=True)\n",
      "  )\n",
      "  (conv3): Sequential(\n",
      "    (0): Conv2d(128, 256, kernel_size=(5, 5), stride=(2, 2), padding=(2, 2), bias=False)\n",
      "    (1): BatchNorm2d(256, eps=1e-05, momentum=0.1, affine=True, track_running_stats=True)\n",
      "  )\n",
      "  (conv4): Sequential(\n",
      "    (0): Conv2d(256, 1, kernel_size=(5, 5), stride=(2, 2), padding=(1, 1), bias=False)\n",
      "  )\n",
      ")\n",
      "---------------------------------------\n",
      "Models moved to GPU.\n"
     ]
    },
    {
     "name": "stderr",
     "output_type": "stream",
     "text": [
      "Lossy conversion from float32 to uint8. Range [-0.9829379320144653, 0.9962075352668762]. Convert image to uint8 prior to saving to suppress this warning.\n"
     ]
    },
    {
     "name": "stdout",
     "output_type": "stream",
     "text": [
      "Iteration [ 200/20000] | D_real_loss: 0.0559 |                 D_fake_loss: 0.0721 | G_loss: 0.3630\n",
      "Saved results/samples_gan_gp1_lr3e-5/sample-000200.png\n"
     ]
    },
    {
     "name": "stderr",
     "output_type": "stream",
     "text": [
      "Lossy conversion from float32 to uint8. Range [-0.9894413948059082, 0.9996684193611145]. Convert image to uint8 prior to saving to suppress this warning.\n"
     ]
    },
    {
     "name": "stdout",
     "output_type": "stream",
     "text": [
      "Iteration [ 400/20000] | D_real_loss: 0.0654 |                 D_fake_loss: 0.0718 | G_loss: 0.4533\n",
      "Saved results/samples_gan_gp1_lr3e-5/sample-000400.png\n"
     ]
    },
    {
     "name": "stderr",
     "output_type": "stream",
     "text": [
      "Lossy conversion from float32 to uint8. Range [-0.9875298142433167, 0.9999222755432129]. Convert image to uint8 prior to saving to suppress this warning.\n"
     ]
    },
    {
     "name": "stdout",
     "output_type": "stream",
     "text": [
      "Iteration [ 600/20000] | D_real_loss: 0.0487 |                 D_fake_loss: 0.0743 | G_loss: 0.4716\n",
      "Saved results/samples_gan_gp1_lr3e-5/sample-000600.png\n"
     ]
    },
    {
     "name": "stderr",
     "output_type": "stream",
     "text": [
      "Lossy conversion from float32 to uint8. Range [-0.9916628003120422, 0.999961793422699]. Convert image to uint8 prior to saving to suppress this warning.\n"
     ]
    },
    {
     "name": "stdout",
     "output_type": "stream",
     "text": [
      "Iteration [ 800/20000] | D_real_loss: 0.0514 |                 D_fake_loss: 0.0547 | G_loss: 0.4806\n",
      "Saved results/samples_gan_gp1_lr3e-5/sample-000800.png\n"
     ]
    },
    {
     "name": "stderr",
     "output_type": "stream",
     "text": [
      "Lossy conversion from float32 to uint8. Range [-0.981482982635498, 0.9999168515205383]. Convert image to uint8 prior to saving to suppress this warning.\n"
     ]
    },
    {
     "name": "stdout",
     "output_type": "stream",
     "text": [
      "Iteration [1000/20000] | D_real_loss: 0.0631 |                 D_fake_loss: 0.0445 | G_loss: 0.5362\n",
      "Saved results/samples_gan_gp1_lr3e-5/sample-001000.png\n"
     ]
    },
    {
     "name": "stderr",
     "output_type": "stream",
     "text": [
      "Lossy conversion from float32 to uint8. Range [-0.9876015782356262, 0.999720573425293]. Convert image to uint8 prior to saving to suppress this warning.\n"
     ]
    },
    {
     "name": "stdout",
     "output_type": "stream",
     "text": [
      "Iteration [1200/20000] | D_real_loss: 0.0646 |                 D_fake_loss: 0.0585 | G_loss: 0.5145\n",
      "Saved results/samples_gan_gp1_lr3e-5/sample-001200.png\n"
     ]
    },
    {
     "name": "stderr",
     "output_type": "stream",
     "text": [
      "Lossy conversion from float32 to uint8. Range [-0.9886339902877808, 0.9997700452804565]. Convert image to uint8 prior to saving to suppress this warning.\n"
     ]
    },
    {
     "name": "stdout",
     "output_type": "stream",
     "text": [
      "Iteration [1400/20000] | D_real_loss: 0.0356 |                 D_fake_loss: 0.0823 | G_loss: 0.4895\n",
      "Saved results/samples_gan_gp1_lr3e-5/sample-001400.png\n"
     ]
    },
    {
     "name": "stderr",
     "output_type": "stream",
     "text": [
      "Lossy conversion from float32 to uint8. Range [-0.9921666979789734, 0.9998486638069153]. Convert image to uint8 prior to saving to suppress this warning.\n"
     ]
    },
    {
     "name": "stdout",
     "output_type": "stream",
     "text": [
      "Iteration [1600/20000] | D_real_loss: 0.0266 |                 D_fake_loss: 0.0594 | G_loss: 0.6608\n",
      "Saved results/samples_gan_gp1_lr3e-5/sample-001600.png\n"
     ]
    },
    {
     "name": "stderr",
     "output_type": "stream",
     "text": [
      "Lossy conversion from float32 to uint8. Range [-0.9974546432495117, 0.9998758435249329]. Convert image to uint8 prior to saving to suppress this warning.\n"
     ]
    },
    {
     "name": "stdout",
     "output_type": "stream",
     "text": [
      "Iteration [1800/20000] | D_real_loss: 0.0326 |                 D_fake_loss: 0.0519 | G_loss: 0.7032\n",
      "Saved results/samples_gan_gp1_lr3e-5/sample-001800.png\n"
     ]
    },
    {
     "name": "stderr",
     "output_type": "stream",
     "text": [
      "Lossy conversion from float32 to uint8. Range [-0.9955918192863464, 0.9999302625656128]. Convert image to uint8 prior to saving to suppress this warning.\n"
     ]
    },
    {
     "name": "stdout",
     "output_type": "stream",
     "text": [
      "Iteration [2000/20000] | D_real_loss: 0.0417 |                 D_fake_loss: 0.0264 | G_loss: 0.4830\n",
      "Saved results/samples_gan_gp1_lr3e-5/sample-002000.png\n"
     ]
    },
    {
     "name": "stderr",
     "output_type": "stream",
     "text": [
      "Lossy conversion from float32 to uint8. Range [-0.9989159107208252, 0.9999011754989624]. Convert image to uint8 prior to saving to suppress this warning.\n"
     ]
    },
    {
     "name": "stdout",
     "output_type": "stream",
     "text": [
      "Iteration [2200/20000] | D_real_loss: 0.0456 |                 D_fake_loss: 0.0411 | G_loss: 0.5092\n",
      "Saved results/samples_gan_gp1_lr3e-5/sample-002200.png\n"
     ]
    },
    {
     "name": "stderr",
     "output_type": "stream",
     "text": [
      "Lossy conversion from float32 to uint8. Range [-0.9995082020759583, 0.9999315142631531]. Convert image to uint8 prior to saving to suppress this warning.\n"
     ]
    },
    {
     "name": "stdout",
     "output_type": "stream",
     "text": [
      "Iteration [2400/20000] | D_real_loss: 0.0635 |                 D_fake_loss: 0.0112 | G_loss: 0.5675\n",
      "Saved results/samples_gan_gp1_lr3e-5/sample-002400.png\n"
     ]
    },
    {
     "name": "stderr",
     "output_type": "stream",
     "text": [
      "Lossy conversion from float32 to uint8. Range [-0.9997219443321228, 0.9999403953552246]. Convert image to uint8 prior to saving to suppress this warning.\n"
     ]
    },
    {
     "name": "stdout",
     "output_type": "stream",
     "text": [
      "Iteration [2600/20000] | D_real_loss: 0.0262 |                 D_fake_loss: 0.0434 | G_loss: 0.5538\n",
      "Saved results/samples_gan_gp1_lr3e-5/sample-002600.png\n"
     ]
    },
    {
     "name": "stderr",
     "output_type": "stream",
     "text": [
      "Lossy conversion from float32 to uint8. Range [-0.9996983408927917, 0.9999735355377197]. Convert image to uint8 prior to saving to suppress this warning.\n"
     ]
    },
    {
     "name": "stdout",
     "output_type": "stream",
     "text": [
      "Iteration [2800/20000] | D_real_loss: 0.0221 |                 D_fake_loss: 0.0371 | G_loss: 0.6503\n",
      "Saved results/samples_gan_gp1_lr3e-5/sample-002800.png\n"
     ]
    },
    {
     "name": "stderr",
     "output_type": "stream",
     "text": [
      "Lossy conversion from float32 to uint8. Range [-0.9992183446884155, 0.9999433755874634]. Convert image to uint8 prior to saving to suppress this warning.\n"
     ]
    },
    {
     "name": "stdout",
     "output_type": "stream",
     "text": [
      "Iteration [3000/20000] | D_real_loss: 0.0483 |                 D_fake_loss: 0.0342 | G_loss: 0.7053\n",
      "Saved results/samples_gan_gp1_lr3e-5/sample-003000.png\n"
     ]
    },
    {
     "name": "stderr",
     "output_type": "stream",
     "text": [
      "Lossy conversion from float32 to uint8. Range [-0.9989789724349976, 0.9999550580978394]. Convert image to uint8 prior to saving to suppress this warning.\n"
     ]
    },
    {
     "name": "stdout",
     "output_type": "stream",
     "text": [
      "Iteration [3200/20000] | D_real_loss: 0.0543 |                 D_fake_loss: 0.0142 | G_loss: 0.5202\n",
      "Saved results/samples_gan_gp1_lr3e-5/sample-003200.png\n"
     ]
    },
    {
     "name": "stderr",
     "output_type": "stream",
     "text": [
      "Lossy conversion from float32 to uint8. Range [-0.99803227186203, 0.9999730587005615]. Convert image to uint8 prior to saving to suppress this warning.\n"
     ]
    },
    {
     "name": "stdout",
     "output_type": "stream",
     "text": [
      "Iteration [3400/20000] | D_real_loss: 0.0221 |                 D_fake_loss: 0.0427 | G_loss: 0.5365\n",
      "Saved results/samples_gan_gp1_lr3e-5/sample-003400.png\n"
     ]
    },
    {
     "name": "stderr",
     "output_type": "stream",
     "text": [
      "Lossy conversion from float32 to uint8. Range [-0.9971139430999756, 0.9998877644538879]. Convert image to uint8 prior to saving to suppress this warning.\n"
     ]
    },
    {
     "name": "stdout",
     "output_type": "stream",
     "text": [
      "Iteration [3600/20000] | D_real_loss: 0.0415 |                 D_fake_loss: 0.0286 | G_loss: 0.4406\n",
      "Saved results/samples_gan_gp1_lr3e-5/sample-003600.png\n"
     ]
    },
    {
     "name": "stderr",
     "output_type": "stream",
     "text": [
      "Lossy conversion from float32 to uint8. Range [-0.9967940449714661, 0.9999060034751892]. Convert image to uint8 prior to saving to suppress this warning.\n"
     ]
    },
    {
     "name": "stdout",
     "output_type": "stream",
     "text": [
      "Iteration [3800/20000] | D_real_loss: 0.0219 |                 D_fake_loss: 0.0215 | G_loss: 0.6729\n",
      "Saved results/samples_gan_gp1_lr3e-5/sample-003800.png\n"
     ]
    },
    {
     "name": "stderr",
     "output_type": "stream",
     "text": [
      "Lossy conversion from float32 to uint8. Range [-0.9939836859703064, 0.999843955039978]. Convert image to uint8 prior to saving to suppress this warning.\n"
     ]
    },
    {
     "name": "stdout",
     "output_type": "stream",
     "text": [
      "Iteration [4000/20000] | D_real_loss: 0.0546 |                 D_fake_loss: 0.0160 | G_loss: 0.6697\n",
      "Saved results/samples_gan_gp1_lr3e-5/sample-004000.png\n"
     ]
    },
    {
     "name": "stderr",
     "output_type": "stream",
     "text": [
      "Lossy conversion from float32 to uint8. Range [-0.9985765814781189, 0.9997546672821045]. Convert image to uint8 prior to saving to suppress this warning.\n"
     ]
    },
    {
     "name": "stdout",
     "output_type": "stream",
     "text": [
      "Iteration [4200/20000] | D_real_loss: 0.0240 |                 D_fake_loss: 0.0285 | G_loss: 0.5470\n",
      "Saved results/samples_gan_gp1_lr3e-5/sample-004200.png\n"
     ]
    },
    {
     "name": "stderr",
     "output_type": "stream",
     "text": [
      "Lossy conversion from float32 to uint8. Range [-0.9952834248542786, 0.9999474287033081]. Convert image to uint8 prior to saving to suppress this warning.\n"
     ]
    },
    {
     "name": "stdout",
     "output_type": "stream",
     "text": [
      "Iteration [4400/20000] | D_real_loss: 0.0164 |                 D_fake_loss: 0.0228 | G_loss: 0.7365\n",
      "Saved results/samples_gan_gp1_lr3e-5/sample-004400.png\n"
     ]
    },
    {
     "name": "stderr",
     "output_type": "stream",
     "text": [
      "Lossy conversion from float32 to uint8. Range [-0.997735321521759, 0.9999691843986511]. Convert image to uint8 prior to saving to suppress this warning.\n"
     ]
    },
    {
     "name": "stdout",
     "output_type": "stream",
     "text": [
      "Iteration [4600/20000] | D_real_loss: 0.0300 |                 D_fake_loss: 0.0173 | G_loss: 0.6426\n",
      "Saved results/samples_gan_gp1_lr3e-5/sample-004600.png\n"
     ]
    },
    {
     "name": "stderr",
     "output_type": "stream",
     "text": [
      "Lossy conversion from float32 to uint8. Range [-0.9912455677986145, 0.9997015595436096]. Convert image to uint8 prior to saving to suppress this warning.\n"
     ]
    },
    {
     "name": "stdout",
     "output_type": "stream",
     "text": [
      "Iteration [4800/20000] | D_real_loss: 0.0196 |                 D_fake_loss: 0.0306 | G_loss: 0.7463\n",
      "Saved results/samples_gan_gp1_lr3e-5/sample-004800.png\n"
     ]
    },
    {
     "name": "stderr",
     "output_type": "stream",
     "text": [
      "Lossy conversion from float32 to uint8. Range [-0.9917845129966736, 0.9998828768730164]. Convert image to uint8 prior to saving to suppress this warning.\n"
     ]
    },
    {
     "name": "stdout",
     "output_type": "stream",
     "text": [
      "Iteration [5000/20000] | D_real_loss: 0.0135 |                 D_fake_loss: 0.0192 | G_loss: 0.9068\n",
      "Saved results/samples_gan_gp1_lr3e-5/sample-005000.png\n"
     ]
    },
    {
     "name": "stderr",
     "output_type": "stream",
     "text": [
      "Lossy conversion from float32 to uint8. Range [-0.9927164912223816, 0.9998082518577576]. Convert image to uint8 prior to saving to suppress this warning.\n"
     ]
    },
    {
     "name": "stdout",
     "output_type": "stream",
     "text": [
      "Iteration [5200/20000] | D_real_loss: 0.0153 |                 D_fake_loss: 0.0241 | G_loss: 0.6679\n",
      "Saved results/samples_gan_gp1_lr3e-5/sample-005200.png\n"
     ]
    },
    {
     "name": "stderr",
     "output_type": "stream",
     "text": [
      "Lossy conversion from float32 to uint8. Range [-0.9901654124259949, 0.9999781847000122]. Convert image to uint8 prior to saving to suppress this warning.\n"
     ]
    },
    {
     "name": "stdout",
     "output_type": "stream",
     "text": [
      "Iteration [5400/20000] | D_real_loss: 0.0445 |                 D_fake_loss: 0.0074 | G_loss: 0.5721\n",
      "Saved results/samples_gan_gp1_lr3e-5/sample-005400.png\n"
     ]
    },
    {
     "name": "stderr",
     "output_type": "stream",
     "text": [
      "Lossy conversion from float32 to uint8. Range [-0.9879932403564453, 0.9999459981918335]. Convert image to uint8 prior to saving to suppress this warning.\n"
     ]
    },
    {
     "name": "stdout",
     "output_type": "stream",
     "text": [
      "Iteration [5600/20000] | D_real_loss: 0.0190 |                 D_fake_loss: 0.0187 | G_loss: 0.8280\n",
      "Saved results/samples_gan_gp1_lr3e-5/sample-005600.png\n"
     ]
    },
    {
     "name": "stderr",
     "output_type": "stream",
     "text": [
      "Lossy conversion from float32 to uint8. Range [-0.9876032471656799, 0.9999440312385559]. Convert image to uint8 prior to saving to suppress this warning.\n"
     ]
    },
    {
     "name": "stdout",
     "output_type": "stream",
     "text": [
      "Iteration [5800/20000] | D_real_loss: 0.0147 |                 D_fake_loss: 0.0248 | G_loss: 0.6469\n",
      "Saved results/samples_gan_gp1_lr3e-5/sample-005800.png\n"
     ]
    },
    {
     "name": "stderr",
     "output_type": "stream",
     "text": [
      "Lossy conversion from float32 to uint8. Range [-0.9897647500038147, 0.9999271035194397]. Convert image to uint8 prior to saving to suppress this warning.\n"
     ]
    },
    {
     "name": "stdout",
     "output_type": "stream",
     "text": [
      "Iteration [6000/20000] | D_real_loss: 0.0281 |                 D_fake_loss: 0.0165 | G_loss: 0.6630\n",
      "Saved results/samples_gan_gp1_lr3e-5/sample-006000.png\n"
     ]
    },
    {
     "name": "stderr",
     "output_type": "stream",
     "text": [
      "Lossy conversion from float32 to uint8. Range [-0.9868930578231812, 0.9998471140861511]. Convert image to uint8 prior to saving to suppress this warning.\n"
     ]
    },
    {
     "name": "stdout",
     "output_type": "stream",
     "text": [
      "Iteration [6200/20000] | D_real_loss: 0.0027 |                 D_fake_loss: 0.0332 | G_loss: 0.8387\n",
      "Saved results/samples_gan_gp1_lr3e-5/sample-006200.png\n"
     ]
    },
    {
     "name": "stderr",
     "output_type": "stream",
     "text": [
      "Lossy conversion from float32 to uint8. Range [-0.9829264283180237, 0.9998208284378052]. Convert image to uint8 prior to saving to suppress this warning.\n"
     ]
    },
    {
     "name": "stdout",
     "output_type": "stream",
     "text": [
      "Iteration [6400/20000] | D_real_loss: 0.0249 |                 D_fake_loss: 0.0117 | G_loss: 0.6260\n",
      "Saved results/samples_gan_gp1_lr3e-5/sample-006400.png\n"
     ]
    },
    {
     "name": "stderr",
     "output_type": "stream",
     "text": [
      "Lossy conversion from float32 to uint8. Range [-0.9895660877227783, 0.999813973903656]. Convert image to uint8 prior to saving to suppress this warning.\n"
     ]
    },
    {
     "name": "stdout",
     "output_type": "stream",
     "text": [
      "Iteration [6600/20000] | D_real_loss: 0.0080 |                 D_fake_loss: 0.0315 | G_loss: 0.7725\n",
      "Saved results/samples_gan_gp1_lr3e-5/sample-006600.png\n"
     ]
    },
    {
     "name": "stderr",
     "output_type": "stream",
     "text": [
      "Lossy conversion from float32 to uint8. Range [-0.9859250783920288, 0.9998162984848022]. Convert image to uint8 prior to saving to suppress this warning.\n"
     ]
    },
    {
     "name": "stdout",
     "output_type": "stream",
     "text": [
      "Iteration [6800/20000] | D_real_loss: 0.0102 |                 D_fake_loss: 0.0191 | G_loss: 0.8277\n",
      "Saved results/samples_gan_gp1_lr3e-5/sample-006800.png\n"
     ]
    },
    {
     "name": "stderr",
     "output_type": "stream",
     "text": [
      "Lossy conversion from float32 to uint8. Range [-0.9876947402954102, 0.9999574422836304]. Convert image to uint8 prior to saving to suppress this warning.\n"
     ]
    },
    {
     "name": "stdout",
     "output_type": "stream",
     "text": [
      "Iteration [7000/20000] | D_real_loss: 0.0367 |                 D_fake_loss: 0.0164 | G_loss: 0.5947\n",
      "Saved results/samples_gan_gp1_lr3e-5/sample-007000.png\n"
     ]
    },
    {
     "name": "stderr",
     "output_type": "stream",
     "text": [
      "Lossy conversion from float32 to uint8. Range [-0.9878105521202087, 0.9997405409812927]. Convert image to uint8 prior to saving to suppress this warning.\n"
     ]
    },
    {
     "name": "stdout",
     "output_type": "stream",
     "text": [
      "Iteration [7200/20000] | D_real_loss: 0.0461 |                 D_fake_loss: 0.0149 | G_loss: 0.5239\n",
      "Saved results/samples_gan_gp1_lr3e-5/sample-007200.png\n"
     ]
    },
    {
     "name": "stderr",
     "output_type": "stream",
     "text": [
      "Lossy conversion from float32 to uint8. Range [-0.9803987145423889, 0.9998916387557983]. Convert image to uint8 prior to saving to suppress this warning.\n"
     ]
    },
    {
     "name": "stdout",
     "output_type": "stream",
     "text": [
      "Iteration [7400/20000] | D_real_loss: 0.0093 |                 D_fake_loss: 0.0292 | G_loss: 0.6997\n",
      "Saved results/samples_gan_gp1_lr3e-5/sample-007400.png\n"
     ]
    },
    {
     "name": "stderr",
     "output_type": "stream",
     "text": [
      "Lossy conversion from float32 to uint8. Range [-0.9928914904594421, 0.9998639225959778]. Convert image to uint8 prior to saving to suppress this warning.\n"
     ]
    },
    {
     "name": "stdout",
     "output_type": "stream",
     "text": [
      "Iteration [7600/20000] | D_real_loss: 0.0083 |                 D_fake_loss: 0.0292 | G_loss: 0.6401\n",
      "Saved results/samples_gan_gp1_lr3e-5/sample-007600.png\n"
     ]
    },
    {
     "name": "stderr",
     "output_type": "stream",
     "text": [
      "Lossy conversion from float32 to uint8. Range [-0.9895801544189453, 0.9999049305915833]. Convert image to uint8 prior to saving to suppress this warning.\n"
     ]
    },
    {
     "name": "stdout",
     "output_type": "stream",
     "text": [
      "Iteration [7800/20000] | D_real_loss: 0.0278 |                 D_fake_loss: 0.0151 | G_loss: 0.7932\n",
      "Saved results/samples_gan_gp1_lr3e-5/sample-007800.png\n"
     ]
    },
    {
     "name": "stderr",
     "output_type": "stream",
     "text": [
      "Lossy conversion from float32 to uint8. Range [-0.9911116361618042, 0.9998562932014465]. Convert image to uint8 prior to saving to suppress this warning.\n"
     ]
    },
    {
     "name": "stdout",
     "output_type": "stream",
     "text": [
      "Iteration [8000/20000] | D_real_loss: 0.0509 |                 D_fake_loss: 0.0027 | G_loss: 0.7119\n",
      "Saved results/samples_gan_gp1_lr3e-5/sample-008000.png\n"
     ]
    },
    {
     "name": "stderr",
     "output_type": "stream",
     "text": [
      "Lossy conversion from float32 to uint8. Range [-0.9880896210670471, 0.9996153116226196]. Convert image to uint8 prior to saving to suppress this warning.\n"
     ]
    },
    {
     "name": "stdout",
     "output_type": "stream",
     "text": [
      "Iteration [8200/20000] | D_real_loss: 0.0227 |                 D_fake_loss: 0.0165 | G_loss: 0.6977\n",
      "Saved results/samples_gan_gp1_lr3e-5/sample-008200.png\n"
     ]
    },
    {
     "name": "stderr",
     "output_type": "stream",
     "text": [
      "Lossy conversion from float32 to uint8. Range [-0.9897779822349548, 0.9996801614761353]. Convert image to uint8 prior to saving to suppress this warning.\n"
     ]
    },
    {
     "name": "stdout",
     "output_type": "stream",
     "text": [
      "Iteration [8400/20000] | D_real_loss: 0.0097 |                 D_fake_loss: 0.0220 | G_loss: 0.6759\n",
      "Saved results/samples_gan_gp1_lr3e-5/sample-008400.png\n"
     ]
    },
    {
     "name": "stderr",
     "output_type": "stream",
     "text": [
      "Lossy conversion from float32 to uint8. Range [-0.993158757686615, 0.9997010231018066]. Convert image to uint8 prior to saving to suppress this warning.\n"
     ]
    },
    {
     "name": "stdout",
     "output_type": "stream",
     "text": [
      "Iteration [8600/20000] | D_real_loss: 0.0025 |                 D_fake_loss: 0.0266 | G_loss: 0.8992\n",
      "Saved results/samples_gan_gp1_lr3e-5/sample-008600.png\n"
     ]
    },
    {
     "name": "stderr",
     "output_type": "stream",
     "text": [
      "Lossy conversion from float32 to uint8. Range [-0.988276481628418, 0.9999104738235474]. Convert image to uint8 prior to saving to suppress this warning.\n"
     ]
    },
    {
     "name": "stdout",
     "output_type": "stream",
     "text": [
      "Iteration [8800/20000] | D_real_loss: 0.0048 |                 D_fake_loss: 0.0153 | G_loss: 0.9818\n",
      "Saved results/samples_gan_gp1_lr3e-5/sample-008800.png\n"
     ]
    },
    {
     "name": "stderr",
     "output_type": "stream",
     "text": [
      "Lossy conversion from float32 to uint8. Range [-0.9896504282951355, 0.9999464750289917]. Convert image to uint8 prior to saving to suppress this warning.\n"
     ]
    },
    {
     "name": "stdout",
     "output_type": "stream",
     "text": [
      "Iteration [9000/20000] | D_real_loss: 0.0455 |                 D_fake_loss: 0.0118 | G_loss: 0.5933\n",
      "Saved results/samples_gan_gp1_lr3e-5/sample-009000.png\n"
     ]
    },
    {
     "name": "stderr",
     "output_type": "stream",
     "text": [
      "Lossy conversion from float32 to uint8. Range [-0.9937848448753357, 0.9999388456344604]. Convert image to uint8 prior to saving to suppress this warning.\n"
     ]
    },
    {
     "name": "stdout",
     "output_type": "stream",
     "text": [
      "Iteration [9200/20000] | D_real_loss: 0.0327 |                 D_fake_loss: 0.0068 | G_loss: 0.7495\n",
      "Saved results/samples_gan_gp1_lr3e-5/sample-009200.png\n"
     ]
    },
    {
     "name": "stderr",
     "output_type": "stream",
     "text": [
      "Lossy conversion from float32 to uint8. Range [-0.9887295961380005, 0.9999875426292419]. Convert image to uint8 prior to saving to suppress this warning.\n"
     ]
    },
    {
     "name": "stdout",
     "output_type": "stream",
     "text": [
      "Iteration [9400/20000] | D_real_loss: 0.0067 |                 D_fake_loss: 0.0074 | G_loss: 0.8878\n",
      "Saved results/samples_gan_gp1_lr3e-5/sample-009400.png\n"
     ]
    },
    {
     "name": "stderr",
     "output_type": "stream",
     "text": [
      "Lossy conversion from float32 to uint8. Range [-0.9880328178405762, 0.9999397993087769]. Convert image to uint8 prior to saving to suppress this warning.\n"
     ]
    },
    {
     "name": "stdout",
     "output_type": "stream",
     "text": [
      "Iteration [9600/20000] | D_real_loss: 0.0024 |                 D_fake_loss: 0.0365 | G_loss: 0.8270\n",
      "Saved results/samples_gan_gp1_lr3e-5/sample-009600.png\n"
     ]
    },
    {
     "name": "stderr",
     "output_type": "stream",
     "text": [
      "Lossy conversion from float32 to uint8. Range [-0.990474283695221, 0.9997903108596802]. Convert image to uint8 prior to saving to suppress this warning.\n"
     ]
    },
    {
     "name": "stdout",
     "output_type": "stream",
     "text": [
      "Iteration [9800/20000] | D_real_loss: 0.0395 |                 D_fake_loss: 0.0036 | G_loss: 0.6673\n",
      "Saved results/samples_gan_gp1_lr3e-5/sample-009800.png\n"
     ]
    },
    {
     "name": "stderr",
     "output_type": "stream",
     "text": [
      "Lossy conversion from float32 to uint8. Range [-0.9931142330169678, 0.9999619722366333]. Convert image to uint8 prior to saving to suppress this warning.\n"
     ]
    },
    {
     "name": "stdout",
     "output_type": "stream",
     "text": [
      "Iteration [10000/20000] | D_real_loss: 0.0089 |                 D_fake_loss: 0.0168 | G_loss: 0.7401\n",
      "Saved results/samples_gan_gp1_lr3e-5/sample-010000.png\n"
     ]
    },
    {
     "name": "stderr",
     "output_type": "stream",
     "text": [
      "Lossy conversion from float32 to uint8. Range [-0.9912198781967163, 0.9999105930328369]. Convert image to uint8 prior to saving to suppress this warning.\n"
     ]
    },
    {
     "name": "stdout",
     "output_type": "stream",
     "text": [
      "Iteration [10200/20000] | D_real_loss: 0.0360 |                 D_fake_loss: 0.0124 | G_loss: 0.5979\n",
      "Saved results/samples_gan_gp1_lr3e-5/sample-010200.png\n"
     ]
    },
    {
     "name": "stderr",
     "output_type": "stream",
     "text": [
      "Lossy conversion from float32 to uint8. Range [-0.9916503429412842, 0.9998622536659241]. Convert image to uint8 prior to saving to suppress this warning.\n"
     ]
    },
    {
     "name": "stdout",
     "output_type": "stream",
     "text": [
      "Iteration [10400/20000] | D_real_loss: 0.0139 |                 D_fake_loss: 0.0069 | G_loss: 0.7699\n",
      "Saved results/samples_gan_gp1_lr3e-5/sample-010400.png\n"
     ]
    },
    {
     "name": "stderr",
     "output_type": "stream",
     "text": [
      "Lossy conversion from float32 to uint8. Range [-0.9885702133178711, 0.9999037981033325]. Convert image to uint8 prior to saving to suppress this warning.\n"
     ]
    },
    {
     "name": "stdout",
     "output_type": "stream",
     "text": [
      "Iteration [10600/20000] | D_real_loss: 0.0249 |                 D_fake_loss: 0.0194 | G_loss: 0.7112\n",
      "Saved results/samples_gan_gp1_lr3e-5/sample-010600.png\n"
     ]
    },
    {
     "name": "stderr",
     "output_type": "stream",
     "text": [
      "Lossy conversion from float32 to uint8. Range [-0.9955761432647705, 0.9998893737792969]. Convert image to uint8 prior to saving to suppress this warning.\n"
     ]
    },
    {
     "name": "stdout",
     "output_type": "stream",
     "text": [
      "Iteration [10800/20000] | D_real_loss: 0.0177 |                 D_fake_loss: 0.0243 | G_loss: 0.6843\n",
      "Saved results/samples_gan_gp1_lr3e-5/sample-010800.png\n"
     ]
    },
    {
     "name": "stderr",
     "output_type": "stream",
     "text": [
      "Lossy conversion from float32 to uint8. Range [-0.9938156008720398, 0.9998292922973633]. Convert image to uint8 prior to saving to suppress this warning.\n"
     ]
    },
    {
     "name": "stdout",
     "output_type": "stream",
     "text": [
      "Iteration [11000/20000] | D_real_loss: 0.0090 |                 D_fake_loss: 0.0186 | G_loss: 0.6531\n",
      "Saved results/samples_gan_gp1_lr3e-5/sample-011000.png\n"
     ]
    },
    {
     "name": "stderr",
     "output_type": "stream",
     "text": [
      "Lossy conversion from float32 to uint8. Range [-0.9934201836585999, 0.9999960660934448]. Convert image to uint8 prior to saving to suppress this warning.\n"
     ]
    },
    {
     "name": "stdout",
     "output_type": "stream",
     "text": [
      "Iteration [11200/20000] | D_real_loss: 0.0057 |                 D_fake_loss: 0.0011 | G_loss: 0.9701\n",
      "Saved results/samples_gan_gp1_lr3e-5/sample-011200.png\n"
     ]
    },
    {
     "name": "stderr",
     "output_type": "stream",
     "text": [
      "Lossy conversion from float32 to uint8. Range [-0.9931989908218384, 0.9998421669006348]. Convert image to uint8 prior to saving to suppress this warning.\n"
     ]
    },
    {
     "name": "stdout",
     "output_type": "stream",
     "text": [
      "Iteration [11400/20000] | D_real_loss: 0.0323 |                 D_fake_loss: 0.0218 | G_loss: 0.5212\n",
      "Saved results/samples_gan_gp1_lr3e-5/sample-011400.png\n"
     ]
    },
    {
     "name": "stderr",
     "output_type": "stream",
     "text": [
      "Lossy conversion from float32 to uint8. Range [-0.9956621527671814, 0.9999474883079529]. Convert image to uint8 prior to saving to suppress this warning.\n"
     ]
    },
    {
     "name": "stdout",
     "output_type": "stream",
     "text": [
      "Iteration [11600/20000] | D_real_loss: 0.0143 |                 D_fake_loss: 0.0338 | G_loss: 0.6596\n",
      "Saved results/samples_gan_gp1_lr3e-5/sample-011600.png\n"
     ]
    },
    {
     "name": "stderr",
     "output_type": "stream",
     "text": [
      "Lossy conversion from float32 to uint8. Range [-0.9968786835670471, 0.9999737739562988]. Convert image to uint8 prior to saving to suppress this warning.\n"
     ]
    },
    {
     "name": "stdout",
     "output_type": "stream",
     "text": [
      "Iteration [11800/20000] | D_real_loss: 0.0132 |                 D_fake_loss: 0.0091 | G_loss: 0.7914\n",
      "Saved results/samples_gan_gp1_lr3e-5/sample-011800.png\n"
     ]
    },
    {
     "name": "stderr",
     "output_type": "stream",
     "text": [
      "Lossy conversion from float32 to uint8. Range [-0.9940885901451111, 0.9999455809593201]. Convert image to uint8 prior to saving to suppress this warning.\n"
     ]
    },
    {
     "name": "stdout",
     "output_type": "stream",
     "text": [
      "Iteration [12000/20000] | D_real_loss: 0.0104 |                 D_fake_loss: 0.0124 | G_loss: 0.8109\n",
      "Saved results/samples_gan_gp1_lr3e-5/sample-012000.png\n"
     ]
    },
    {
     "name": "stderr",
     "output_type": "stream",
     "text": [
      "Lossy conversion from float32 to uint8. Range [-0.9973541498184204, 0.9999985098838806]. Convert image to uint8 prior to saving to suppress this warning.\n"
     ]
    },
    {
     "name": "stdout",
     "output_type": "stream",
     "text": [
      "Iteration [12200/20000] | D_real_loss: 0.0045 |                 D_fake_loss: 0.0051 | G_loss: 0.9142\n",
      "Saved results/samples_gan_gp1_lr3e-5/sample-012200.png\n"
     ]
    },
    {
     "name": "stderr",
     "output_type": "stream",
     "text": [
      "Lossy conversion from float32 to uint8. Range [-0.9985331892967224, 0.9999996423721313]. Convert image to uint8 prior to saving to suppress this warning.\n"
     ]
    },
    {
     "name": "stdout",
     "output_type": "stream",
     "text": [
      "Iteration [12400/20000] | D_real_loss: 0.0012 |                 D_fake_loss: 0.0004 | G_loss: 1.0277\n",
      "Saved results/samples_gan_gp1_lr3e-5/sample-012400.png\n"
     ]
    },
    {
     "name": "stderr",
     "output_type": "stream",
     "text": [
      "Lossy conversion from float32 to uint8. Range [-0.9979830980300903, 0.9999954700469971]. Convert image to uint8 prior to saving to suppress this warning.\n"
     ]
    },
    {
     "name": "stdout",
     "output_type": "stream",
     "text": [
      "Iteration [12600/20000] | D_real_loss: 0.0065 |                 D_fake_loss: 0.0002 | G_loss: 0.9030\n",
      "Saved results/samples_gan_gp1_lr3e-5/sample-012600.png\n"
     ]
    },
    {
     "name": "stderr",
     "output_type": "stream",
     "text": [
      "Lossy conversion from float32 to uint8. Range [-0.9963822960853577, 0.999940037727356]. Convert image to uint8 prior to saving to suppress this warning.\n"
     ]
    },
    {
     "name": "stdout",
     "output_type": "stream",
     "text": [
      "Iteration [12800/20000] | D_real_loss: 0.0062 |                 D_fake_loss: 0.0002 | G_loss: 0.9029\n",
      "Saved results/samples_gan_gp1_lr3e-5/sample-012800.png\n"
     ]
    },
    {
     "name": "stderr",
     "output_type": "stream",
     "text": [
      "Lossy conversion from float32 to uint8. Range [-0.9964680075645447, 0.9998703598976135]. Convert image to uint8 prior to saving to suppress this warning.\n"
     ]
    },
    {
     "name": "stdout",
     "output_type": "stream",
     "text": [
      "Iteration [13000/20000] | D_real_loss: 0.0021 |                 D_fake_loss: 0.0001 | G_loss: 0.9559\n",
      "Saved results/samples_gan_gp1_lr3e-5/sample-013000.png\n"
     ]
    },
    {
     "name": "stderr",
     "output_type": "stream",
     "text": [
      "Lossy conversion from float32 to uint8. Range [-0.9977491497993469, 0.9998830556869507]. Convert image to uint8 prior to saving to suppress this warning.\n"
     ]
    },
    {
     "name": "stdout",
     "output_type": "stream",
     "text": [
      "Iteration [13200/20000] | D_real_loss: 0.0006 |                 D_fake_loss: 0.0001 | G_loss: 0.9595\n",
      "Saved results/samples_gan_gp1_lr3e-5/sample-013200.png\n"
     ]
    },
    {
     "name": "stderr",
     "output_type": "stream",
     "text": [
      "Lossy conversion from float32 to uint8. Range [-0.9967791438102722, 0.9999160170555115]. Convert image to uint8 prior to saving to suppress this warning.\n"
     ]
    },
    {
     "name": "stdout",
     "output_type": "stream",
     "text": [
      "Iteration [13400/20000] | D_real_loss: 0.0006 |                 D_fake_loss: 0.0012 | G_loss: 0.9959\n",
      "Saved results/samples_gan_gp1_lr3e-5/sample-013400.png\n"
     ]
    },
    {
     "name": "stderr",
     "output_type": "stream",
     "text": [
      "Lossy conversion from float32 to uint8. Range [-0.9976356625556946, 0.9998778104782104]. Convert image to uint8 prior to saving to suppress this warning.\n"
     ]
    },
    {
     "name": "stdout",
     "output_type": "stream",
     "text": [
      "Iteration [13600/20000] | D_real_loss: 0.0126 |                 D_fake_loss: 0.0080 | G_loss: 1.0414\n",
      "Saved results/samples_gan_gp1_lr3e-5/sample-013600.png\n"
     ]
    },
    {
     "name": "stderr",
     "output_type": "stream",
     "text": [
      "Lossy conversion from float32 to uint8. Range [-0.9976439476013184, 0.9998806715011597]. Convert image to uint8 prior to saving to suppress this warning.\n"
     ]
    },
    {
     "name": "stdout",
     "output_type": "stream",
     "text": [
      "Iteration [13800/20000] | D_real_loss: 0.0124 |                 D_fake_loss: 0.0024 | G_loss: 0.8586\n",
      "Saved results/samples_gan_gp1_lr3e-5/sample-013800.png\n"
     ]
    },
    {
     "name": "stderr",
     "output_type": "stream",
     "text": [
      "Lossy conversion from float32 to uint8. Range [-0.9989641904830933, 0.9993122220039368]. Convert image to uint8 prior to saving to suppress this warning.\n"
     ]
    },
    {
     "name": "stdout",
     "output_type": "stream",
     "text": [
      "Iteration [14000/20000] | D_real_loss: 0.0055 |                 D_fake_loss: 0.0026 | G_loss: 1.1135\n",
      "Saved results/samples_gan_gp1_lr3e-5/sample-014000.png\n"
     ]
    },
    {
     "name": "stderr",
     "output_type": "stream",
     "text": [
      "Lossy conversion from float32 to uint8. Range [-0.9979808330535889, 0.9984714388847351]. Convert image to uint8 prior to saving to suppress this warning.\n"
     ]
    },
    {
     "name": "stdout",
     "output_type": "stream",
     "text": [
      "Iteration [14200/20000] | D_real_loss: 0.0011 |                 D_fake_loss: 0.0001 | G_loss: 1.0533\n",
      "Saved results/samples_gan_gp1_lr3e-5/sample-014200.png\n"
     ]
    },
    {
     "name": "stderr",
     "output_type": "stream",
     "text": [
      "Lossy conversion from float32 to uint8. Range [-0.9969464540481567, 0.9989796280860901]. Convert image to uint8 prior to saving to suppress this warning.\n"
     ]
    },
    {
     "name": "stdout",
     "output_type": "stream",
     "text": [
      "Iteration [14400/20000] | D_real_loss: 0.0005 |                 D_fake_loss: 0.0002 | G_loss: 0.9257\n",
      "Saved results/samples_gan_gp1_lr3e-5/sample-014400.png\n"
     ]
    },
    {
     "name": "stderr",
     "output_type": "stream",
     "text": [
      "Lossy conversion from float32 to uint8. Range [-0.994094729423523, 0.9987401366233826]. Convert image to uint8 prior to saving to suppress this warning.\n"
     ]
    },
    {
     "name": "stdout",
     "output_type": "stream",
     "text": [
      "Iteration [14600/20000] | D_real_loss: 0.0009 |                 D_fake_loss: 0.0001 | G_loss: 1.0500\n",
      "Saved results/samples_gan_gp1_lr3e-5/sample-014600.png\n"
     ]
    },
    {
     "name": "stderr",
     "output_type": "stream",
     "text": [
      "Lossy conversion from float32 to uint8. Range [-0.9971047043800354, 0.9966757893562317]. Convert image to uint8 prior to saving to suppress this warning.\n"
     ]
    },
    {
     "name": "stdout",
     "output_type": "stream",
     "text": [
      "Iteration [14800/20000] | D_real_loss: 0.0056 |                 D_fake_loss: 0.0006 | G_loss: 0.8944\n",
      "Saved results/samples_gan_gp1_lr3e-5/sample-014800.png\n"
     ]
    },
    {
     "name": "stderr",
     "output_type": "stream",
     "text": [
      "Lossy conversion from float32 to uint8. Range [-0.998424768447876, 0.9983950257301331]. Convert image to uint8 prior to saving to suppress this warning.\n"
     ]
    },
    {
     "name": "stdout",
     "output_type": "stream",
     "text": [
      "Iteration [15000/20000] | D_real_loss: 0.0024 |                 D_fake_loss: 0.0009 | G_loss: 0.8856\n",
      "Saved results/samples_gan_gp1_lr3e-5/sample-015000.png\n"
     ]
    },
    {
     "name": "stderr",
     "output_type": "stream",
     "text": [
      "Lossy conversion from float32 to uint8. Range [-0.9976162314414978, 0.9981687068939209]. Convert image to uint8 prior to saving to suppress this warning.\n"
     ]
    },
    {
     "name": "stdout",
     "output_type": "stream",
     "text": [
      "Iteration [15200/20000] | D_real_loss: 0.0010 |                 D_fake_loss: 0.0003 | G_loss: 1.0112\n",
      "Saved results/samples_gan_gp1_lr3e-5/sample-015200.png\n"
     ]
    },
    {
     "name": "stderr",
     "output_type": "stream",
     "text": [
      "Lossy conversion from float32 to uint8. Range [-0.9951066374778748, 0.9986943006515503]. Convert image to uint8 prior to saving to suppress this warning.\n"
     ]
    },
    {
     "name": "stdout",
     "output_type": "stream",
     "text": [
      "Iteration [15400/20000] | D_real_loss: 0.0003 |                 D_fake_loss: 0.0000 | G_loss: 0.9823\n",
      "Saved results/samples_gan_gp1_lr3e-5/sample-015400.png\n"
     ]
    },
    {
     "name": "stderr",
     "output_type": "stream",
     "text": [
      "Lossy conversion from float32 to uint8. Range [-0.9945645928382874, 0.9993896484375]. Convert image to uint8 prior to saving to suppress this warning.\n"
     ]
    },
    {
     "name": "stdout",
     "output_type": "stream",
     "text": [
      "Iteration [15600/20000] | D_real_loss: 0.0010 |                 D_fake_loss: 0.0001 | G_loss: 0.9576\n",
      "Saved results/samples_gan_gp1_lr3e-5/sample-015600.png\n"
     ]
    },
    {
     "name": "stderr",
     "output_type": "stream",
     "text": [
      "Lossy conversion from float32 to uint8. Range [-0.989911675453186, 0.9985879063606262]. Convert image to uint8 prior to saving to suppress this warning.\n"
     ]
    },
    {
     "name": "stdout",
     "output_type": "stream",
     "text": [
      "Iteration [15800/20000] | D_real_loss: 0.0003 |                 D_fake_loss: 0.0000 | G_loss: 0.9444\n",
      "Saved results/samples_gan_gp1_lr3e-5/sample-015800.png\n"
     ]
    },
    {
     "name": "stderr",
     "output_type": "stream",
     "text": [
      "Lossy conversion from float32 to uint8. Range [-0.9851964712142944, 0.9938281178474426]. Convert image to uint8 prior to saving to suppress this warning.\n"
     ]
    },
    {
     "name": "stdout",
     "output_type": "stream",
     "text": [
      "Iteration [16000/20000] | D_real_loss: 0.0014 |                 D_fake_loss: 0.0012 | G_loss: 1.0337\n",
      "Saved results/samples_gan_gp1_lr3e-5/sample-016000.png\n"
     ]
    },
    {
     "name": "stderr",
     "output_type": "stream",
     "text": [
      "Lossy conversion from float32 to uint8. Range [-0.9703069925308228, 0.9958281517028809]. Convert image to uint8 prior to saving to suppress this warning.\n"
     ]
    },
    {
     "name": "stdout",
     "output_type": "stream",
     "text": [
      "Iteration [16200/20000] | D_real_loss: 0.0005 |                 D_fake_loss: 0.0000 | G_loss: 1.0391\n",
      "Saved results/samples_gan_gp1_lr3e-5/sample-016200.png\n"
     ]
    },
    {
     "name": "stderr",
     "output_type": "stream",
     "text": [
      "Lossy conversion from float32 to uint8. Range [-0.9896566271781921, 0.9936302304267883]. Convert image to uint8 prior to saving to suppress this warning.\n"
     ]
    },
    {
     "name": "stdout",
     "output_type": "stream",
     "text": [
      "Iteration [16400/20000] | D_real_loss: 0.0022 |                 D_fake_loss: 0.0000 | G_loss: 0.9041\n",
      "Saved results/samples_gan_gp1_lr3e-5/sample-016400.png\n"
     ]
    },
    {
     "name": "stderr",
     "output_type": "stream",
     "text": [
      "Lossy conversion from float32 to uint8. Range [-0.9788517951965332, 0.9979134798049927]. Convert image to uint8 prior to saving to suppress this warning.\n"
     ]
    },
    {
     "name": "stdout",
     "output_type": "stream",
     "text": [
      "Iteration [16600/20000] | D_real_loss: 0.0011 |                 D_fake_loss: 0.0003 | G_loss: 0.9403\n",
      "Saved results/samples_gan_gp1_lr3e-5/sample-016600.png\n"
     ]
    },
    {
     "name": "stderr",
     "output_type": "stream",
     "text": [
      "Lossy conversion from float32 to uint8. Range [-0.9774870872497559, 0.995890736579895]. Convert image to uint8 prior to saving to suppress this warning.\n"
     ]
    },
    {
     "name": "stdout",
     "output_type": "stream",
     "text": [
      "Iteration [16800/20000] | D_real_loss: 0.0007 |                 D_fake_loss: 0.0001 | G_loss: 1.0192\n",
      "Saved results/samples_gan_gp1_lr3e-5/sample-016800.png\n"
     ]
    },
    {
     "name": "stderr",
     "output_type": "stream",
     "text": [
      "Lossy conversion from float32 to uint8. Range [-0.9522279500961304, 0.9949654936790466]. Convert image to uint8 prior to saving to suppress this warning.\n"
     ]
    },
    {
     "name": "stdout",
     "output_type": "stream",
     "text": [
      "Iteration [17000/20000] | D_real_loss: 0.0010 |                 D_fake_loss: 0.0001 | G_loss: 1.0255\n",
      "Saved results/samples_gan_gp1_lr3e-5/sample-017000.png\n"
     ]
    },
    {
     "name": "stderr",
     "output_type": "stream",
     "text": [
      "Lossy conversion from float32 to uint8. Range [-0.9084934592247009, 0.9986847043037415]. Convert image to uint8 prior to saving to suppress this warning.\n"
     ]
    },
    {
     "name": "stdout",
     "output_type": "stream",
     "text": [
      "Iteration [17200/20000] | D_real_loss: 0.0001 |                 D_fake_loss: 0.0000 | G_loss: 0.9880\n",
      "Saved results/samples_gan_gp1_lr3e-5/sample-017200.png\n"
     ]
    },
    {
     "name": "stderr",
     "output_type": "stream",
     "text": [
      "Lossy conversion from float32 to uint8. Range [-0.8705655336380005, 0.9993784427642822]. Convert image to uint8 prior to saving to suppress this warning.\n"
     ]
    },
    {
     "name": "stdout",
     "output_type": "stream",
     "text": [
      "Iteration [17400/20000] | D_real_loss: 0.0098 |                 D_fake_loss: 0.0006 | G_loss: 0.7993\n",
      "Saved results/samples_gan_gp1_lr3e-5/sample-017400.png\n"
     ]
    },
    {
     "name": "stderr",
     "output_type": "stream",
     "text": [
      "Lossy conversion from float32 to uint8. Range [-0.8943879008293152, 0.993808925151825]. Convert image to uint8 prior to saving to suppress this warning.\n"
     ]
    },
    {
     "name": "stdout",
     "output_type": "stream",
     "text": [
      "Iteration [17600/20000] | D_real_loss: 0.0010 |                 D_fake_loss: 0.0001 | G_loss: 0.9281\n",
      "Saved results/samples_gan_gp1_lr3e-5/sample-017600.png\n"
     ]
    },
    {
     "name": "stderr",
     "output_type": "stream",
     "text": [
      "Lossy conversion from float32 to uint8. Range [-0.8685216307640076, 0.9971802830696106]. Convert image to uint8 prior to saving to suppress this warning.\n"
     ]
    },
    {
     "name": "stdout",
     "output_type": "stream",
     "text": [
      "Iteration [17800/20000] | D_real_loss: 0.0009 |                 D_fake_loss: 0.0002 | G_loss: 0.9786\n",
      "Saved results/samples_gan_gp1_lr3e-5/sample-017800.png\n"
     ]
    },
    {
     "name": "stderr",
     "output_type": "stream",
     "text": [
      "Lossy conversion from float32 to uint8. Range [-0.9749786853790283, 0.9981350898742676]. Convert image to uint8 prior to saving to suppress this warning.\n"
     ]
    },
    {
     "name": "stdout",
     "output_type": "stream",
     "text": [
      "Iteration [18000/20000] | D_real_loss: 0.0003 |                 D_fake_loss: 0.0001 | G_loss: 1.0469\n",
      "Saved results/samples_gan_gp1_lr3e-5/sample-018000.png\n"
     ]
    },
    {
     "name": "stderr",
     "output_type": "stream",
     "text": [
      "Lossy conversion from float32 to uint8. Range [-0.8922752737998962, 0.999434232711792]. Convert image to uint8 prior to saving to suppress this warning.\n"
     ]
    },
    {
     "name": "stdout",
     "output_type": "stream",
     "text": [
      "Iteration [18200/20000] | D_real_loss: 0.0003 |                 D_fake_loss: 0.0001 | G_loss: 1.0089\n",
      "Saved results/samples_gan_gp1_lr3e-5/sample-018200.png\n"
     ]
    },
    {
     "name": "stderr",
     "output_type": "stream",
     "text": [
      "Lossy conversion from float32 to uint8. Range [-0.9298750162124634, 0.9987563490867615]. Convert image to uint8 prior to saving to suppress this warning.\n"
     ]
    },
    {
     "name": "stdout",
     "output_type": "stream",
     "text": [
      "Iteration [18400/20000] | D_real_loss: 0.0007 |                 D_fake_loss: 0.0001 | G_loss: 0.9942\n",
      "Saved results/samples_gan_gp1_lr3e-5/sample-018400.png\n"
     ]
    },
    {
     "name": "stderr",
     "output_type": "stream",
     "text": [
      "Lossy conversion from float32 to uint8. Range [-0.9708995819091797, 0.9998385906219482]. Convert image to uint8 prior to saving to suppress this warning.\n"
     ]
    },
    {
     "name": "stdout",
     "output_type": "stream",
     "text": [
      "Iteration [18600/20000] | D_real_loss: 0.0004 |                 D_fake_loss: 0.0003 | G_loss: 1.0116\n",
      "Saved results/samples_gan_gp1_lr3e-5/sample-018600.png\n"
     ]
    },
    {
     "name": "stderr",
     "output_type": "stream",
     "text": [
      "Lossy conversion from float32 to uint8. Range [-0.919644296169281, 0.9984580874443054]. Convert image to uint8 prior to saving to suppress this warning.\n"
     ]
    },
    {
     "name": "stdout",
     "output_type": "stream",
     "text": [
      "Iteration [18800/20000] | D_real_loss: 0.0002 |                 D_fake_loss: 0.0000 | G_loss: 1.0161\n",
      "Saved results/samples_gan_gp1_lr3e-5/sample-018800.png\n"
     ]
    },
    {
     "name": "stderr",
     "output_type": "stream",
     "text": [
      "Lossy conversion from float32 to uint8. Range [-0.8339303135871887, 0.9915270805358887]. Convert image to uint8 prior to saving to suppress this warning.\n"
     ]
    },
    {
     "name": "stdout",
     "output_type": "stream",
     "text": [
      "Iteration [19000/20000] | D_real_loss: 0.0005 |                 D_fake_loss: 0.0002 | G_loss: 0.9609\n",
      "Saved results/samples_gan_gp1_lr3e-5/sample-019000.png\n"
     ]
    },
    {
     "name": "stderr",
     "output_type": "stream",
     "text": [
      "Lossy conversion from float32 to uint8. Range [-0.9213395118713379, 0.9943206906318665]. Convert image to uint8 prior to saving to suppress this warning.\n"
     ]
    },
    {
     "name": "stdout",
     "output_type": "stream",
     "text": [
      "Iteration [19200/20000] | D_real_loss: 0.0004 |                 D_fake_loss: 0.0000 | G_loss: 1.0135\n",
      "Saved results/samples_gan_gp1_lr3e-5/sample-019200.png\n"
     ]
    },
    {
     "name": "stderr",
     "output_type": "stream",
     "text": [
      "Lossy conversion from float32 to uint8. Range [-0.9825376272201538, 0.99989253282547]. Convert image to uint8 prior to saving to suppress this warning.\n"
     ]
    },
    {
     "name": "stdout",
     "output_type": "stream",
     "text": [
      "Iteration [19400/20000] | D_real_loss: 0.0006 |                 D_fake_loss: 0.0000 | G_loss: 0.9956\n",
      "Saved results/samples_gan_gp1_lr3e-5/sample-019400.png\n"
     ]
    },
    {
     "name": "stderr",
     "output_type": "stream",
     "text": [
      "Lossy conversion from float32 to uint8. Range [-0.9558561444282532, 0.9982204437255859]. Convert image to uint8 prior to saving to suppress this warning.\n"
     ]
    },
    {
     "name": "stdout",
     "output_type": "stream",
     "text": [
      "Iteration [19600/20000] | D_real_loss: 0.0003 |                 D_fake_loss: 0.0000 | G_loss: 0.9729\n",
      "Saved results/samples_gan_gp1_lr3e-5/sample-019600.png\n"
     ]
    },
    {
     "name": "stderr",
     "output_type": "stream",
     "text": [
      "Lossy conversion from float32 to uint8. Range [-0.8866732120513916, 0.9975155591964722]. Convert image to uint8 prior to saving to suppress this warning.\n"
     ]
    },
    {
     "name": "stdout",
     "output_type": "stream",
     "text": [
      "Iteration [19800/20000] | D_real_loss: 0.0001 |                 D_fake_loss: 0.0000 | G_loss: 0.9861\n",
      "Saved results/samples_gan_gp1_lr3e-5/sample-019800.png\n"
     ]
    },
    {
     "name": "stderr",
     "output_type": "stream",
     "text": [
      "Lossy conversion from float32 to uint8. Range [-0.8551361560821533, 0.9988303780555725]. Convert image to uint8 prior to saving to suppress this warning.\n"
     ]
    },
    {
     "name": "stdout",
     "output_type": "stream",
     "text": [
      "Iteration [20000/20000] | D_real_loss: 0.0002 |                 D_fake_loss: 0.0000 | G_loss: 0.9955\n",
      "Saved results/samples_gan_gp1_lr3e-5/sample-020000.png\n",
      "adding image results/samples_gan_gp1_lr3e-5/losses.png\n",
      "adding image results/samples_gan_gp1_lr3e-5/sample-000200.png\n",
      "adding image results/samples_gan_gp1_lr3e-5/sample-000400.png\n",
      "adding image results/samples_gan_gp1_lr3e-5/sample-000600.png\n",
      "adding image results/samples_gan_gp1_lr3e-5/sample-000800.png\n",
      "adding image results/samples_gan_gp1_lr3e-5/sample-001000.png\n",
      "adding image results/samples_gan_gp1_lr3e-5/sample-001200.png\n",
      "adding image results/samples_gan_gp1_lr3e-5/sample-001400.png\n",
      "adding image results/samples_gan_gp1_lr3e-5/sample-001600.png\n",
      "adding image results/samples_gan_gp1_lr3e-5/sample-001800.png\n",
      "adding image results/samples_gan_gp1_lr3e-5/sample-002000.png\n",
      "adding image results/samples_gan_gp1_lr3e-5/sample-002200.png\n",
      "adding image results/samples_gan_gp1_lr3e-5/sample-002400.png\n",
      "adding image results/samples_gan_gp1_lr3e-5/sample-002600.png\n",
      "adding image results/samples_gan_gp1_lr3e-5/sample-002800.png\n",
      "adding image results/samples_gan_gp1_lr3e-5/sample-003000.png\n",
      "adding image results/samples_gan_gp1_lr3e-5/sample-003200.png\n",
      "adding image results/samples_gan_gp1_lr3e-5/sample-003400.png\n",
      "adding image results/samples_gan_gp1_lr3e-5/sample-003600.png\n",
      "adding image results/samples_gan_gp1_lr3e-5/sample-003800.png\n",
      "adding image results/samples_gan_gp1_lr3e-5/sample-004000.png\n",
      "adding image results/samples_gan_gp1_lr3e-5/sample-004200.png\n",
      "adding image results/samples_gan_gp1_lr3e-5/sample-004400.png\n",
      "adding image results/samples_gan_gp1_lr3e-5/sample-004600.png\n",
      "adding image results/samples_gan_gp1_lr3e-5/sample-004800.png\n",
      "adding image results/samples_gan_gp1_lr3e-5/sample-005000.png\n",
      "adding image results/samples_gan_gp1_lr3e-5/sample-005200.png\n",
      "adding image results/samples_gan_gp1_lr3e-5/sample-005400.png\n",
      "adding image results/samples_gan_gp1_lr3e-5/sample-005600.png\n",
      "adding image results/samples_gan_gp1_lr3e-5/sample-005800.png\n",
      "adding image results/samples_gan_gp1_lr3e-5/sample-006000.png\n",
      "adding image results/samples_gan_gp1_lr3e-5/sample-006200.png\n",
      "adding image results/samples_gan_gp1_lr3e-5/sample-006400.png\n",
      "adding image results/samples_gan_gp1_lr3e-5/sample-006600.png\n",
      "adding image results/samples_gan_gp1_lr3e-5/sample-006800.png\n",
      "adding image results/samples_gan_gp1_lr3e-5/sample-007000.png\n",
      "adding image results/samples_gan_gp1_lr3e-5/sample-007200.png\n",
      "adding image results/samples_gan_gp1_lr3e-5/sample-007400.png\n",
      "adding image results/samples_gan_gp1_lr3e-5/sample-007600.png\n",
      "adding image results/samples_gan_gp1_lr3e-5/sample-007800.png\n",
      "adding image results/samples_gan_gp1_lr3e-5/sample-008000.png\n",
      "adding image results/samples_gan_gp1_lr3e-5/sample-008200.png\n",
      "adding image results/samples_gan_gp1_lr3e-5/sample-008400.png\n",
      "adding image results/samples_gan_gp1_lr3e-5/sample-008600.png\n",
      "adding image results/samples_gan_gp1_lr3e-5/sample-008800.png\n",
      "adding image results/samples_gan_gp1_lr3e-5/sample-009000.png\n",
      "adding image results/samples_gan_gp1_lr3e-5/sample-009200.png\n",
      "adding image results/samples_gan_gp1_lr3e-5/sample-009400.png\n",
      "adding image results/samples_gan_gp1_lr3e-5/sample-009600.png\n",
      "adding image results/samples_gan_gp1_lr3e-5/sample-009800.png\n",
      "adding image results/samples_gan_gp1_lr3e-5/sample-010000.png\n",
      "adding image results/samples_gan_gp1_lr3e-5/sample-010200.png\n",
      "adding image results/samples_gan_gp1_lr3e-5/sample-010400.png\n",
      "adding image results/samples_gan_gp1_lr3e-5/sample-010600.png\n",
      "adding image results/samples_gan_gp1_lr3e-5/sample-010800.png\n",
      "adding image results/samples_gan_gp1_lr3e-5/sample-011000.png\n",
      "adding image results/samples_gan_gp1_lr3e-5/sample-011200.png\n",
      "adding image results/samples_gan_gp1_lr3e-5/sample-011400.png\n",
      "adding image results/samples_gan_gp1_lr3e-5/sample-011600.png\n",
      "adding image results/samples_gan_gp1_lr3e-5/sample-011800.png\n",
      "adding image results/samples_gan_gp1_lr3e-5/sample-012000.png\n",
      "adding image results/samples_gan_gp1_lr3e-5/sample-012200.png\n",
      "adding image results/samples_gan_gp1_lr3e-5/sample-012400.png\n",
      "adding image results/samples_gan_gp1_lr3e-5/sample-012600.png\n",
      "adding image results/samples_gan_gp1_lr3e-5/sample-012800.png\n",
      "adding image results/samples_gan_gp1_lr3e-5/sample-013000.png\n",
      "adding image results/samples_gan_gp1_lr3e-5/sample-013200.png\n",
      "adding image results/samples_gan_gp1_lr3e-5/sample-013400.png\n",
      "adding image results/samples_gan_gp1_lr3e-5/sample-013600.png\n",
      "adding image results/samples_gan_gp1_lr3e-5/sample-013800.png\n",
      "adding image results/samples_gan_gp1_lr3e-5/sample-014000.png\n",
      "adding image results/samples_gan_gp1_lr3e-5/sample-014200.png\n",
      "adding image results/samples_gan_gp1_lr3e-5/sample-014400.png\n",
      "adding image results/samples_gan_gp1_lr3e-5/sample-014600.png\n",
      "adding image results/samples_gan_gp1_lr3e-5/sample-014800.png\n",
      "adding image results/samples_gan_gp1_lr3e-5/sample-015000.png\n",
      "adding image results/samples_gan_gp1_lr3e-5/sample-015200.png\n",
      "adding image results/samples_gan_gp1_lr3e-5/sample-015400.png\n",
      "adding image results/samples_gan_gp1_lr3e-5/sample-015600.png\n",
      "adding image results/samples_gan_gp1_lr3e-5/sample-015800.png\n",
      "adding image results/samples_gan_gp1_lr3e-5/sample-016000.png\n",
      "adding image results/samples_gan_gp1_lr3e-5/sample-016200.png\n",
      "adding image results/samples_gan_gp1_lr3e-5/sample-016400.png\n",
      "adding image results/samples_gan_gp1_lr3e-5/sample-016600.png\n",
      "adding image results/samples_gan_gp1_lr3e-5/sample-016800.png\n",
      "adding image results/samples_gan_gp1_lr3e-5/sample-017000.png\n",
      "adding image results/samples_gan_gp1_lr3e-5/sample-017200.png\n",
      "adding image results/samples_gan_gp1_lr3e-5/sample-017400.png\n",
      "adding image results/samples_gan_gp1_lr3e-5/sample-017600.png\n",
      "adding image results/samples_gan_gp1_lr3e-5/sample-017800.png\n",
      "adding image results/samples_gan_gp1_lr3e-5/sample-018000.png\n",
      "adding image results/samples_gan_gp1_lr3e-5/sample-018200.png\n",
      "adding image results/samples_gan_gp1_lr3e-5/sample-018400.png\n",
      "adding image results/samples_gan_gp1_lr3e-5/sample-018600.png\n",
      "adding image results/samples_gan_gp1_lr3e-5/sample-018800.png\n",
      "adding image results/samples_gan_gp1_lr3e-5/sample-019000.png\n",
      "adding image results/samples_gan_gp1_lr3e-5/sample-019200.png\n",
      "adding image results/samples_gan_gp1_lr3e-5/sample-019400.png\n",
      "adding image results/samples_gan_gp1_lr3e-5/sample-019600.png\n",
      "adding image results/samples_gan_gp1_lr3e-5/sample-019800.png\n",
      "adding image results/samples_gan_gp1_lr3e-5/sample-020000.png\n"
     ]
    }
   ],
   "source": [
    "#######leastsquares\n",
    "\n",
    "SEED = 11\n",
    "\n",
    "# Set the random seed manually for reproducibility.\n",
    "np.random.seed(SEED)\n",
    "torch.manual_seed(SEED)\n",
    "if torch.cuda.is_available():\n",
    "    torch.cuda.manual_seed(SEED)\n",
    "\n",
    "\n",
    "args = AttrDict()\n",
    "args_dict = {\n",
    "              'image_size':32, \n",
    "              'g_conv_dim':32, \n",
    "              'd_conv_dim':64,\n",
    "              'noise_size':100,\n",
    "              'num_workers': 0,\n",
    "              'train_iters':20000,\n",
    "              'X':'Apple',  # options: 'Windows' / 'Apple'\n",
    "              'Y': None,\n",
    "              'lr':0.00003,\n",
    "              'beta1':0.5,\n",
    "              'beta2':0.999,\n",
    "              'batch_size':32, \n",
    "              'checkpoint_dir': 'results/checkpoints_gan_gp1_lr3e-5',\n",
    "              'sample_dir': 'results/samples_gan_gp1_lr3e-5',\n",
    "              'load': None,\n",
    "              'log_step':200,\n",
    "              'sample_every':200,\n",
    "              'checkpoint_every':1000,\n",
    "              'spectral_norm': False,\n",
    "              'gradient_penalty': True,\n",
    "              'least_squares_gan': True,\n",
    "              'd_train_iters': 1\n",
    "}\n",
    "args.update(args_dict)\n",
    "\n",
    "print_opts(args)\n",
    "G, D = train(args)\n",
    "\n",
    "generate_gif(\"results/samples_gan_gp1_lr3e-5\")"
   ]
  },
  {
   "cell_type": "markdown",
   "metadata": {
    "id": "UU5XajxuhQ4c"
   },
   "source": [
    "## Download your output"
   ]
  },
  {
   "cell_type": "code",
   "execution_count": null,
   "metadata": {
    "id": "PqF_oI4RAM8I"
   },
   "outputs": [],
   "source": [
    "!zip -r /content/csc413/a4/results/samples.zip /content/csc413/a4/results/samples_gan_gp1_lr3e-5\n",
    "\n",
    "from google.colab import files\n",
    "files.download(\"/content/csc413/a4/results/samples.zip\")"
   ]
  },
  {
   "cell_type": "code",
   "execution_count": null,
   "metadata": {},
   "outputs": [],
   "source": []
  },
  {
   "cell_type": "code",
   "execution_count": null,
   "metadata": {},
   "outputs": [],
   "source": []
  }
 ],
 "metadata": {
  "accelerator": "GPU",
  "colab": {
   "collapsed_sections": [
    "9DaTdRNuUra7",
    "u0KxX0sDpXKb",
    "m1E_jDaBLT1P"
   ],
   "name": "a4_dcgan.ipynb",
   "provenance": []
  },
  "kernelspec": {
   "display_name": "Python 3",
   "language": "python",
   "name": "python3"
  },
  "language_info": {
   "codemirror_mode": {
    "name": "ipython",
    "version": 3
   },
   "file_extension": ".py",
   "mimetype": "text/x-python",
   "name": "python",
   "nbconvert_exporter": "python",
   "pygments_lexer": "ipython3",
   "version": "3.7.10"
  }
 },
 "nbformat": 4,
 "nbformat_minor": 1
}
